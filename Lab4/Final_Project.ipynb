{
 "cells": [
  {
   "cell_type": "markdown",
   "metadata": {},
   "source": [
    "### Final Project: Wetland Restoration Suitability Map\n",
    "\n",
    "This project aims to use cost surface analysis to identify high quality areas for wetland restoration projects. High quality wetland restoration areas are defined as places with hydrologic connection and proximity to existing wetland areas.\n",
    "\n",
    "The randomized weighting cost surfaces can be found in the \"RandomWeighting100\" notebook.\n",
    "\n",
    "____"
   ]
  },
  {
   "cell_type": "markdown",
   "metadata": {},
   "source": [
    "### Part 1: API Requests and File Extraction/Transformation"
   ]
  },
  {
   "cell_type": "markdown",
   "metadata": {},
   "source": [
    "#### 0. Import Libraries and Establish Common Terms"
   ]
  },
  {
   "cell_type": "code",
   "execution_count": 7,
   "metadata": {},
   "outputs": [],
   "source": [
    "# Import Libraries\n",
    "import io\n",
    "import os\n",
    "import sys\n",
    "import arcpy\n",
    "import laspy\n",
    "from zipfile import ZipFile\n",
    "import zipfile\n",
    "import pandas as pd\n",
    "import requests\n",
    "import ftplib\n",
    "from bs4 import BeautifulSoup as bs\n",
    "from arcgis.features import GeoAccessor, GeoSeriesAccessor, FeatureCollection, FeatureSet\n",
    "from arcpy import env\n",
    "from arcpy.sa import *"
   ]
  },
  {
   "cell_type": "code",
   "execution_count": 2,
   "metadata": {},
   "outputs": [],
   "source": [
    "# Common Terms for all layers\n",
    "\n",
    "# Boundary Extent (not watershed boundary)\n",
    "# Top\t4,887,308.789800\tm\n",
    "# Bottom\t4,868,689.051000\tm\n",
    "# Left\t379,749.855800\tm\n",
    "# Right\t399,383.588100\tm"
   ]
  },
  {
   "cell_type": "markdown",
   "metadata": {},
   "source": [
    "### 1. National Wetland Inventory Data\n",
    "Use wetland polygon data to identify existing wetland areas and determine proximity (500m or less) and hydrological connectivity."
   ]
  },
  {
   "cell_type": "markdown",
   "metadata": {},
   "source": [
    "#### 1a. NWI API Extraction\n",
    "Request the national wetlands inventory (NWI) geodatabase zipped file. Download the zipped file and then unzip the folder and then extract the files to a local folder."
   ]
  },
  {
   "cell_type": "code",
   "execution_count": 23,
   "metadata": {
    "scrolled": true
   },
   "outputs": [
    {
     "name": "stdout",
     "output_type": "stream",
     "text": [
      "Downloading NWI MN ZIP file (1533.03 MB)...\n"
     ]
    },
    {
     "name": "stderr",
     "output_type": "stream",
     "text": [
      "Downloading: 100%|██████████| 1.61G/1.61G [00:56<00:00, 28.7MB/s]﻿\n"
     ]
    },
    {
     "name": "stdout",
     "output_type": "stream",
     "text": [
      "File Name                                             Modified             Size\n",
      "NWI Cowardin Classification.lyr                2019-06-07 13:45:14        22016\n",
      "NWI USFWS Circular 39 Classification.lyr       2019-06-07 13:45:46        20992\n",
      "NWI Simplified HGM Classification.lyr          2019-06-07 13:45:22        18432\n",
      "NWI Simplified Plant Community Classification.lyr 2019-06-07 13:45:36        28160\n",
      "metadata/metadata.html                         2024-03-28 16:42:04        41011\n",
      "metadata/metadata.xml                          2024-03-28 16:41:56        38116\n",
      "water_nat_wetlands_inv_2009-2014.gdb/a00000038.gdbtable 2019-06-20 17:04:42          594\n",
      "water_nat_wetlands_inv_2009-2014.gdb/a00000037.gdbtable.cdf 2019-06-20 17:04:42         2975\n",
      "water_nat_wetlands_inv_2009-2014.gdb/a00000039.gdbtable.cdf 2019-06-20 17:04:42       310343\n",
      "water_nat_wetlands_inv_2009-2014.gdb/a00000004.gdbtable 2019-06-20 17:36:24        32773\n",
      "water_nat_wetlands_inv_2009-2014.gdb/a00000006.gdbindexes 2015-04-01 21:28:40          318\n",
      "water_nat_wetlands_inv_2009-2014.gdb/a00000007.gdbindexes 2015-04-01 21:28:42          602\n",
      "water_nat_wetlands_inv_2009-2014.gdb/a00000007.CatRelTypesByBackwardLabel.atx 2021-05-03 05:21:20        12310\n",
      "water_nat_wetlands_inv_2009-2014.gdb/a00000004.CatItemsByType.atx 2019-06-19 13:53:14         4118\n",
      "water_nat_wetlands_inv_2009-2014.gdb/a00000007.CatRelTypesByForwardLabel.atx 2021-05-03 05:21:20        12310\n",
      "water_nat_wetlands_inv_2009-2014.gdb/a00000007.gdbtable 2021-05-03 05:21:20         3626\n",
      "water_nat_wetlands_inv_2009-2014.gdb/a00000004.gdbindexes 2015-04-01 21:28:40          310\n",
      "water_nat_wetlands_inv_2009-2014.gdb/a00000005.CatItemTypesByName.atx 2021-05-03 05:21:20        12310\n",
      "water_nat_wetlands_inv_2009-2014.gdb/a00000004.horizon 2021-05-03 05:21:18           32\n",
      "water_nat_wetlands_inv_2009-2014.gdb/a00000001.gdbtable 2019-06-20 17:14:40          408\n",
      "water_nat_wetlands_inv_2009-2014.gdb/a00000037.gdbtable 2019-06-20 17:04:42          688\n",
      "water_nat_wetlands_inv_2009-2014.gdb/a00000003.gdbindexes 2015-04-01 21:28:40           42\n",
      "water_nat_wetlands_inv_2009-2014.gdb/a00000007.gdbtablx 2021-05-03 05:21:20         5152\n",
      "water_nat_wetlands_inv_2009-2014.gdb/a00000001.gdbtablx 2019-06-20 17:14:40         5152\n",
      "water_nat_wetlands_inv_2009-2014.gdb/a00000001.TablesByName.atx 2019-06-19 13:53:14        12310\n",
      "water_nat_wetlands_inv_2009-2014.gdb/a00000038.gdbtable.cdf 2019-06-20 17:04:42         1324\n",
      "water_nat_wetlands_inv_2009-2014.gdb/a00000039.gdbtable 2019-06-20 17:04:42          659\n",
      "water_nat_wetlands_inv_2009-2014.gdb/a00000004.gdbtablx 2019-06-20 17:36:24         5152\n",
      "water_nat_wetlands_inv_2009-2014.gdb/a00000004.spx 2019-06-19 13:53:52         4118\n",
      "water_nat_wetlands_inv_2009-2014.gdb/a00000005.gdbtable 2021-05-03 05:21:20         2021\n",
      "water_nat_wetlands_inv_2009-2014.gdb/a00000002.gdbtablx 2019-06-20 17:04:12         5152\n",
      "water_nat_wetlands_inv_2009-2014.gdb/a00000039.gdbtable.FDO_OBJECTID.gdbtabidx 2019-06-20 17:04:42         8192\n",
      "water_nat_wetlands_inv_2009-2014.gdb/a00000037.gdbtable.attribute.gdbtabidx 2019-06-20 17:04:42         8192\n",
      "water_nat_wetlands_inv_2009-2014.gdb/a00000002.gdbtable 2015-04-01 21:28:40         2055\n",
      "water_nat_wetlands_inv_2009-2014.gdb/a00000038.gdbtable.FDO_OBJECTID.gdbtabidx 2019-06-20 17:04:42         8192\n",
      "water_nat_wetlands_inv_2009-2014.gdb/a00000004.freelist 2019-06-20 17:36:24         4440\n",
      "water_nat_wetlands_inv_2009-2014.gdb/a00000005.gdbtablx 2021-05-03 05:21:20         5152\n",
      "water_nat_wetlands_inv_2009-2014.gdb/a00000005.CatItemTypesByParentTypeID.atx 2021-05-03 05:21:20         4118\n",
      "water_nat_wetlands_inv_2009-2014.gdb/a00000001.gdbindexes 2015-04-01 21:28:40          110\n",
      "water_nat_wetlands_inv_2009-2014.gdb/a00000003.gdbtable 2015-04-01 21:30:08         1037\n",
      "water_nat_wetlands_inv_2009-2014.gdb/a0000003c.gdbtable 2019-06-20 17:14:40          656\n",
      "water_nat_wetlands_inv_2009-2014.gdb/a00000006.CatRelsByType.atx 2019-06-19 13:53:14         4118\n",
      "water_nat_wetlands_inv_2009-2014.gdb/a00000007.CatRelTypesByDestItemTypeID.atx 2021-05-03 05:21:20         4118\n",
      "water_nat_wetlands_inv_2009-2014.gdb/gdb       2015-04-01 21:28:40            4\n",
      "water_nat_wetlands_inv_2009-2014.gdb/a00000005.gdbindexes 2015-04-01 21:28:42          296\n",
      "water_nat_wetlands_inv_2009-2014.gdb/a00000007.CatRelTypesByName.atx 2021-05-03 05:21:20        12310\n",
      "water_nat_wetlands_inv_2009-2014.gdb/a00000003.gdbtablx 2019-06-20 17:04:12         5152\n",
      "water_nat_wetlands_inv_2009-2014.gdb/a00000006.CatRelsByOriginID.atx 2019-06-19 13:53:14         4118\n",
      "water_nat_wetlands_inv_2009-2014.gdb/timestamps 2021-05-03 05:21:20          400\n",
      "water_nat_wetlands_inv_2009-2014.gdb/a00000007.CatRelTypesByOriginItemTypeID.atx 2021-05-03 05:21:20         4118\n",
      "water_nat_wetlands_inv_2009-2014.gdb/a00000005.CatItemTypesByUUID.atx 2021-05-03 05:21:20         4118\n",
      "water_nat_wetlands_inv_2009-2014.gdb/a00000006.FDO_UUID.atx 2019-06-19 13:53:14         4118\n",
      "water_nat_wetlands_inv_2009-2014.gdb/a0000003c.gdbtable.FDO_OBJECTID.gdbtabidx 2019-06-20 17:14:38      2596864\n",
      "water_nat_wetlands_inv_2009-2014.gdb/a00000006.gdbtable 2019-06-20 17:04:12          555\n",
      "water_nat_wetlands_inv_2009-2014.gdb/a0000003c.gdbtable.cdf 2019-06-20 17:14:34   1680936382\n",
      "water_nat_wetlands_inv_2009-2014.gdb/a00000037.gdbtable.FDO_OBJECTID.gdbtabidx 2019-06-20 17:04:42         8192\n",
      "water_nat_wetlands_inv_2009-2014.gdb/a00000007.CatRelTypesByUUID.atx 2021-05-03 05:21:20         4118\n",
      "water_nat_wetlands_inv_2009-2014.gdb/a00000006.gdbtablx 2019-06-20 17:04:12         5152\n",
      "water_nat_wetlands_inv_2009-2014.gdb/a00000004.FDO_UUID.atx 2019-06-19 13:53:14         4118\n",
      "water_nat_wetlands_inv_2009-2014.gdb/a00000004.CatItemsByPhysicalName.atx 2019-06-19 13:53:14         4118\n",
      "water_nat_wetlands_inv_2009-2014.gdb/a00000006.CatRelsByDestinationID.atx 2019-06-19 13:53:14         4118\n",
      "Files in the extracted directory:\n",
      "['metadata', 'NWI Cowardin Classification.lyr', 'NWI Simplified HGM Classification.lyr', 'NWI Simplified Plant Community Classification.lyr', 'NWI USFWS Circular 39 Classification.lyr', 'water_nat_wetlands_inv_2009-2014.gdb']\n"
     ]
    }
   ],
   "source": [
    "# Extract NWI Data\n",
    "\n",
    "# Define the URL and the output path for the ZIP file (MN State Wetlands NWI)\n",
    "url = r\"https://resources.gisdata.mn.gov/pub/gdrs/data/pub/us_mn_state_dnr/water_nat_wetlands_inv_2009_2014/fgdb_water_nat_wetlands_inv_2009_2014.zip\"\n",
    "zip_MN_NWI_path = r\"C:\\Users\\ethan\\Desktop\\ARLT_MGIS\\GIS5571\\FinalProject\\Data\\ZippedFiles\\NWI_MN.zip\"\n",
    "\n",
    "# Create the folder if it doesn't exist\n",
    "os.makedirs(os.path.dirname(zip_MN_NWI_path), exist_ok=True)\n",
    "\n",
    "# Download the file using requests.get(), stream=True for chunked downloading\n",
    "response = requests.get(url, stream=True)\n",
    "\n",
    "# Get the file size from headers (optional, for progress indication)\n",
    "file_size = int(response.headers.get('content-length', 0))\n",
    "print(f\"Downloading NWI MN ZIP file ({file_size / 1024 / 1024:.2f} MB)...\")\n",
    "\n",
    "# Stream the download and show a progress bar\n",
    "with open(zip_MN_NWI_path, 'wb') as f:\n",
    "    with tqdm(total=file_size, unit='B', unit_scale=True, desc=\"Downloading\") as pbar:\n",
    "        for chunk in response.iter_content(chunk_size=1024):\n",
    "            if chunk:  # Filter out keep-alive new chunks\n",
    "                f.write(chunk)\n",
    "                pbar.update(len(chunk))\n",
    "\n",
    "# Open the ZIP file and print its contents\n",
    "with zipfile.ZipFile(zip_MN_NWI_path, 'r') as zip_ref:\n",
    "    # Print the contents of the ZIP file\n",
    "    zip_ref.printdir()\n",
    "\n",
    "    # Create a directory for extraction if it doesn't exist\n",
    "    extraction_path = r\"C:\\Users\\ethan\\Desktop\\ARLT_MGIS\\GIS5571\\FinalProject\\Data\\Extracted\\NWI_MN\"\n",
    "    os.makedirs(extraction_path, exist_ok=True)\n",
    "\n",
    "    # Extract all files to the specified directory\n",
    "    zip_ref.extractall(extraction_path)\n",
    "\n",
    "# Show the files you just extracted\n",
    "print(\"Files in the extracted directory:\")\n",
    "print(os.listdir(extraction_path))"
   ]
  },
  {
   "cell_type": "markdown",
   "metadata": {},
   "source": [
    "#### 1b. Identify Wetland Buffer Area\n",
    "Clip the NWI layer to the project boundary and then create a 500 meter buffer to establish hydrologically connected land areas to existing wetlands."
   ]
  },
  {
   "cell_type": "code",
   "execution_count": null,
   "metadata": {},
   "outputs": [],
   "source": [
    "# Clip the NWI Polygon Layer to Bounding Box\n",
    "\n",
    "with arcpy.EnvManager(outputCoordinateSystem='PROJCS[\"NAD_1983_UTM_Zone_15N\",GEOGCS[\"GCS_North_American_1983\",DATUM[\"D_North_American_1983\",SPHEROID[\"GRS_1980\",6378137.0,298.257222101]],PRIMEM[\"Greenwich\",0.0],UNIT[\"Degree\",0.0174532925199433]],PROJECTION[\"Transverse_Mercator\"],PARAMETER[\"False_Easting\",500000.0],PARAMETER[\"False_Northing\",0.0],PARAMETER[\"Central_Meridian\",-93.0],PARAMETER[\"Scale_Factor\",0.9996],PARAMETER[\"Latitude_Of_Origin\",0.0],UNIT[\"Meter\",1.0]],VERTCS[\"NAVD_1988\",VDATUM[\"North_American_Vertical_Datum_1988\"],PARAMETER[\"Vertical_Shift\",0.0],PARAMETER[\"Direction\",1.0],UNIT[\"Meter\",1.0]]', extent='379749.142119867 4868680.82921966 399399.139624079 4887310.82685342 PROJCS[\"NAD_1983_UTM_Zone_15N\",GEOGCS[\"GCS_North_American_1983\",DATUM[\"D_North_American_1983\",SPHEROID[\"GRS_1980\",6378137.0,298.257222101]],PRIMEM[\"Greenwich\",0.0],UNIT[\"Degree\",0.0174532925199433]],PROJECTION[\"Transverse_Mercator\"],PARAMETER[\"False_Easting\",500000.0],PARAMETER[\"False_Northing\",0.0],PARAMETER[\"Central_Meridian\",-93.0],PARAMETER[\"Scale_Factor\",0.9996],PARAMETER[\"Latitude_Of_Origin\",0.0],UNIT[\"Meter\",1.0]],VERTCS[\"NAVD_1988\",VDATUM[\"North_American_Vertical_Datum_1988\"],PARAMETER[\"Vertical_Shift\",0.0],PARAMETER[\"Direction\",1.0],UNIT[\"Meter\",1.0]]'):\n",
    "    arcpy.gapro.ClipLayer(\n",
    "        input_layer=\"statewide_NWI\",\n",
    "        clip_layer=\"project_boundary\",\n",
    "        out_feature_class=r\"C:\\Users\\ethan\\Desktop\\ARLT_MGIS\\GIS5571\\FinalProject\\Data\\Clipped\\NWI_Clip\"\n",
    "    )\n",
    "    \n",
    "\n",
    "# Buffer the NWI Clip File, 500m\n",
    "\n",
    "arcpy.analysis.PairwiseBuffer(\n",
    "    in_features=\"NWI_Clip\",\n",
    "    out_feature_class=r\"C:\\Users\\ethan\\Documents\\ArcGIS\\Projects\\Arc1_FinalProject\\Arc1_FinalProject.gdb\\NWI_Buffer500m\",\n",
    "    buffer_distance_or_field=\"500 Meters\",\n",
    "    dissolve_option=\"ALL\",\n",
    "    dissolve_field=None,\n",
    "    method=\"GEODESIC\",\n",
    "    max_deviation=\"0 Meters\"\n",
    ")"
   ]
  },
  {
   "cell_type": "markdown",
   "metadata": {},
   "source": [
    "#### 1c. Make a Raster Layer with a Mask\n",
    "Use the raster buffer with a raster field with the max boundary extent to create a field of 0s and the buffer with a value of 1."
   ]
  },
  {
   "cell_type": "code",
   "execution_count": 71,
   "metadata": {},
   "outputs": [
    {
     "name": "stdout",
     "output_type": "stream",
     "text": [
      "Bounding box created at C:\\Users\\ethan\\Documents\\ArcGIS\\Projects\\Arc1_FinalProject\\Arc1_FinalProject.gdb\\BoundingBox\n"
     ]
    }
   ],
   "source": [
    "import arcpy\n",
    "\n",
    "# Path to your input layer\n",
    "input_layer = r\"C:\\Users\\ethan\\Desktop\\ARLT_MGIS\\GIS5571\\FinalProject\\Data\\Clipped\\NCLD_polygon.shp\"\n",
    "\n",
    "# Path to save the bounding box\n",
    "output_bbox = r\"C:\\Users\\ethan\\Documents\\ArcGIS\\Projects\\Arc1_FinalProject\\Arc1_FinalProject.gdb\\BoundingBox\"\n",
    "\n",
    "# Get the extent of the input layer\n",
    "desc = arcpy.Describe(input_layer)\n",
    "extent = desc.extent\n",
    "\n",
    "# Create a bounding box polygon\n",
    "arcpy.management.CreateFeatureclass(\n",
    "    out_path=r\"C:\\Users\\ethan\\Documents\\ArcGIS\\Projects\\Arc1_FinalProject\\Arc1_FinalProject.gdb\",\n",
    "    out_name=\"BoundingBox\",\n",
    "    geometry_type=\"POLYGON\",\n",
    "    spatial_reference=desc.spatialReference\n",
    ")\n",
    "\n",
    "# Insert the bounding box into the new feature class\n",
    "with arcpy.da.InsertCursor(output_bbox, [\"SHAPE@\"]) as cursor:\n",
    "    array = arcpy.Array([\n",
    "        arcpy.Point(extent.XMin, extent.YMin),\n",
    "        arcpy.Point(extent.XMin, extent.YMax),\n",
    "        arcpy.Point(extent.XMax, extent.YMax),\n",
    "        arcpy.Point(extent.XMax, extent.YMin),\n",
    "        arcpy.Point(extent.XMin, extent.YMin)  # Close the polygon\n",
    "    ])\n",
    "    polygon = arcpy.Polygon(array, desc.spatialReference)\n",
    "    cursor.insertRow([polygon])\n",
    "\n",
    "print(f\"Bounding box created at {output_bbox}\")"
   ]
  },
  {
   "cell_type": "code",
   "execution_count": 19,
   "metadata": {},
   "outputs": [
    {
     "name": "stdout",
     "output_type": "stream",
     "text": [
      "Buffer layer clipped to the extent of the bounding box.\n",
      "Fields created for each layer.\n",
      "Spatial join completed!\n"
     ]
    }
   ],
   "source": [
    "# Create and ID field for the bounding box and buffer layers.\n",
    "\n",
    "# Paths to your layers\n",
    "layer1 = r\"C:\\Users\\ethan\\Documents\\ArcGIS\\Projects\\Arc1_FinalProject\\Arc1_FinalProject.gdb\\NWI_Buffer500m\"\n",
    "layer2 = r\"C:\\Users\\ethan\\Documents\\ArcGIS\\Projects\\Arc1_FinalProject\\Arc1_FinalProject.gdb\\BoundingBox\"\n",
    "clipped_nwi = r\"C:\\Users\\ethan\\Documents\\ArcGIS\\Projects\\Arc1_FinalProject\\Arc1_FinalProject.gdb\\NWI_Buffer_Clipped\"\n",
    "erase_box = r\"C:\\Users\\ethan\\Documents\\ArcGIS\\Projects\\Arc1_FinalProject\\Arc1_FinalProject.gdb\\BoundingBox_PairwiseErase\"\n",
    "NWI_merge = r\"C:\\Users\\ethan\\Documents\\ArcGIS\\Projects\\Arc1_FinalProject\\Arc1_FinalProject.gdb\\NWI_Buffer_Merge\"\n",
    "\n",
    "# Field name for the identifier\n",
    "field_name = \"Value\"\n",
    "\n",
    "# Clip the buffer layer to the extent of the bounding box\n",
    "arcpy.analysis.Clip(layer1, layer2, clipped_nwi)\n",
    "\n",
    "print(f\"Buffer layer clipped to the extent of the bounding box.\")\n",
    "\n",
    "# Function to add and populate the Value field\n",
    "def add_source_field(layer, field_name, value):\n",
    "    # Check if the field already exists\n",
    "    if field_name not in [f.name for f in arcpy.ListFields(layer)]:\n",
    "        arcpy.management.AddField(layer, field_name, \"SHORT\")\n",
    "    # Populate the field with the given value\n",
    "    arcpy.management.CalculateField(layer, field_name, value, \"PYTHON3\")\n",
    "\n",
    "# Add and populate the Value field for each layer\n",
    "add_source_field(clipped_nwi, field_name, 1)\n",
    "add_source_field(layer2, field_name, 0)\n",
    "\n",
    "print(f\"Fields created for each layer.\")\n",
    "\n",
    "# Erase buffer features from bounding box\n",
    "arcpy.analysis.PairwiseErase(\n",
    "    in_features=\"BoundingBox\",\n",
    "    erase_features=\"NWI_Buffer500m\",\n",
    "    out_feature_class=r\"C:\\Users\\ethan\\Documents\\ArcGIS\\Projects\\Arc1_FinalProject\\Arc1_FinalProject.gdb\\BoundingBox_PairwiseErase\",\n",
    "    cluster_tolerance=None\n",
    ")\n",
    "\n",
    "# Merge the clipped buffer layer and the bounding box layer\n",
    "arcpy.management.Merge([clipped_nwi, erase_box], NWI_merge)\n",
    "\n",
    "\n",
    "print(f\"Spatial join completed!\")"
   ]
  },
  {
   "cell_type": "markdown",
   "metadata": {},
   "source": [
    "#### 1d. Rasterize the polygon buffer area.\n",
    "Convert the NWI buffer polygons to a rastser for use as a cost surface layer."
   ]
  },
  {
   "cell_type": "code",
   "execution_count": 21,
   "metadata": {
    "scrolled": false
   },
   "outputs": [
    {
     "name": "stdout",
     "output_type": "stream",
     "text": [
      "The buffer layer was successfully rasterized!\n"
     ]
    }
   ],
   "source": [
    "# Convert the 500m Buffer Polygon Layer to a Raster\n",
    "\n",
    "with arcpy.EnvManager(outputCoordinateSystem='PROJCS[\"NAD_1983_UTM_Zone_15N\",GEOGCS[\"GCS_North_American_1983\",DATUM[\"D_North_American_1983\",SPHEROID[\"GRS_1980\",6378137.0,298.257222101]],PRIMEM[\"Greenwich\",0.0],UNIT[\"Degree\",0.0174532925199433]],PROJECTION[\"Transverse_Mercator\"],PARAMETER[\"False_Easting\",500000.0],PARAMETER[\"False_Northing\",0.0],PARAMETER[\"Central_Meridian\",-93.0],PARAMETER[\"Scale_Factor\",0.9996],PARAMETER[\"Latitude_Of_Origin\",0.0],UNIT[\"Meter\",1.0]],VERTCS[\"NAVD_1988\",VDATUM[\"North_American_Vertical_Datum_1988\"],PARAMETER[\"Vertical_Shift\",0.0],PARAMETER[\"Direction\",1.0],UNIT[\"Meter\",1.0]]'):\n",
    "    arcpy.conversion.PolygonToRaster(\n",
    "        in_features=r\"C:\\Users\\ethan\\Documents\\ArcGIS\\Projects\\Arc1_FinalProject\\Arc1_FinalProject.gdb\\NWI_Buffer_Merge\",\n",
    "        value_field=\"Value\",\n",
    "        out_rasterdataset=r\"C:\\Users\\ethan\\Documents\\ArcGIS\\Projects\\Arc1_FinalProject\\Arc1_FinalProject.gdb\\NWI_Buffer500m_Raster\",\n",
    "        cell_assignment=\"MAXIMUM_AREA\",\n",
    "        priority_field=\"NONE\",\n",
    "        cellsize=29.975163816793987,\n",
    "        build_rat=\"BUILD\"\n",
    "    )\n",
    "    \n",
    "print(f\"The buffer layer was successfully rasterized!\")"
   ]
  },
  {
   "cell_type": "markdown",
   "metadata": {},
   "source": [
    "### 2. National Land Cover Data (NLCD) Data\n",
    "Use a standardized landcover dataset that contains 16 different classification categories. Reclassify the data into 5 broader groups for easier landuse identification.\n",
    "\n",
    "Create a 100 m buffer area around the development areas representing areas that are not effectively restored as wetlands.\n",
    "\n",
    "Create a cost surface that has the categories reclassified as agriculture and vegetation (1), development (-1), and wetland and water (0). Use this surface to identify areas that are most suited for restoration projects (agriculture and vegetation)."
   ]
  },
  {
   "cell_type": "markdown",
   "metadata": {},
   "source": [
    "#### 2a. NLCD API Extraction\n",
    "Request the NLCD data for 2021, containing the 16 categorical landcover types."
   ]
  },
  {
   "cell_type": "code",
   "execution_count": 24,
   "metadata": {},
   "outputs": [
    {
     "name": "stdout",
     "output_type": "stream",
     "text": [
      "Downloading NLCD ZIP file (1868.07 MB)...\n"
     ]
    },
    {
     "name": "stderr",
     "output_type": "stream",
     "text": [
      "Downloading: 100%|██████████| 1.96G/1.96G [01:06<00:00, 29.3MB/s]﻿\n"
     ]
    },
    {
     "name": "stdout",
     "output_type": "stream",
     "text": [
      "File Name                                             Modified             Size\n",
      "nlcd_2021_land_cover_l48_20230630.ige          2023-07-10 13:24:40  26350989969\n",
      "nlcd_2021_land_cover_l48_20230630.img          2023-07-10 15:35:52    435940485\n",
      "nlcd_2021_land_cover_l48_20230630.xml          2023-07-11 14:56:44        48467\n",
      "Files in the extracted directory:\n",
      "['nlcd_2021_land_cover_l48_20230630.ige', 'nlcd_2021_land_cover_l48_20230630.img', 'nlcd_2021_land_cover_l48_20230630.xml']\n"
     ]
    }
   ],
   "source": [
    "# Extract NCLD Land Cover Data\n",
    "\n",
    "# Define the URL and the output path for the ZIP file\n",
    "url = r\"https://s3-us-west-2.amazonaws.com/mrlc/nlcd_2021_land_cover_l48_20230630.zip\"\n",
    "zip_ncld_path = r\"C:\\Users\\ethan\\Desktop\\ARLT_MGIS\\GIS5571\\FinalProject\\Data\\ZippedFiles\\NCLD_2021.zip\"\n",
    "\n",
    "# Create the folder if it doesn't exist\n",
    "os.makedirs(os.path.dirname(zip_ncld_path), exist_ok=True)\n",
    "\n",
    "# Download the file using requests.get(), stream=True for chunked downloading\n",
    "response = requests.get(url, stream=True)\n",
    "\n",
    "# Get the file size from headers (optional, for progress indication)\n",
    "file_size = int(response.headers.get('content-length', 0))\n",
    "print(f\"Downloading NLCD ZIP file ({file_size / 1024 / 1024:.2f} MB)...\")\n",
    "\n",
    "# Stream the download and show a progress bar\n",
    "with open(zip_ncld_path, 'wb') as f:\n",
    "    with tqdm(total=file_size, unit='B', unit_scale=True, desc=\"Downloading\") as pbar:\n",
    "        for chunk in response.iter_content(chunk_size=1024):\n",
    "            if chunk:  # Filter out keep-alive new chunks\n",
    "                f.write(chunk)\n",
    "                pbar.update(len(chunk))\n",
    "\n",
    "# Open the ZIP file and print its contents\n",
    "with zipfile.ZipFile(zip_ncld_path, 'r') as zip_ref:\n",
    "    # Print the contents of the ZIP file\n",
    "    zip_ref.printdir()\n",
    "\n",
    "    # Create a directory for extraction if it doesn't exist\n",
    "    extraction_path = r\"C:\\Users\\ethan\\Desktop\\ARLT_MGIS\\GIS5571\\FinalProject\\Data\\Extracted\\NLCD_2021\"\n",
    "    os.makedirs(extraction_path, exist_ok=True)\n",
    "\n",
    "    # Extract all files to the specified directory\n",
    "    zip_ref.extractall(extraction_path)\n",
    "\n",
    "# Show the files you just extracted\n",
    "print(\"Files in the extracted directory:\")\n",
    "print(os.listdir(extraction_path))"
   ]
  },
  {
   "cell_type": "markdown",
   "metadata": {},
   "source": [
    "#### 2b. Identify Developed Lands and Agricultural/Vegetation Lands\n",
    "Clip the NLCD file to the area boundy and then reclassify the categories into 5 broad cateogries (wetlands, vegetation, agriculture, development, and water) to establish the development areas."
   ]
  },
  {
   "cell_type": "code",
   "execution_count": 41,
   "metadata": {},
   "outputs": [],
   "source": [
    "# Clip the NCLD Raster to Bounding Box and Reproject as NAD 83 UTM 15N\n",
    "\n",
    "with arcpy.EnvManager(outputCoordinateSystem='PROJCS[\"NAD_1983_UTM_Zone_15N\",GEOGCS[\"GCS_North_American_1983\",DATUM[\"D_North_American_1983\",SPHEROID[\"GRS_1980\",6378137.0,298.257222101]],PRIMEM[\"Greenwich\",0.0],UNIT[\"Degree\",0.0174532925199433]],PROJECTION[\"Transverse_Mercator\"],PARAMETER[\"False_Easting\",500000.0],PARAMETER[\"False_Northing\",0.0],PARAMETER[\"Central_Meridian\",-93.0],PARAMETER[\"Scale_Factor\",0.9996],PARAMETER[\"Latitude_Of_Origin\",0.0],UNIT[\"Meter\",1.0]],VERTCS[\"NAVD_1988\",VDATUM[\"North_American_Vertical_Datum_1988\"],PARAMETER[\"Vertical_Shift\",0.0],PARAMETER[\"Direction\",1.0],UNIT[\"Meter\",1.0]]', snapRaster=r\"C:\\Users\\ethan\\Desktop\\ARLT_MGIS\\GIS5571\\FinalProject\\Data\\Clipped\\slope_dem\", extent='379749.8558 4868689.051 399383.5881 4887308.7898 PROJCS[\"NAD_1983_UTM_Zone_15N\",GEOGCS[\"GCS_North_American_1983\",DATUM[\"D_North_American_1983\",SPHEROID[\"GRS_1980\",6378137.0,298.257222101]],PRIMEM[\"Greenwich\",0.0],UNIT[\"Degree\",0.0174532925199433]],PROJECTION[\"Transverse_Mercator\"],PARAMETER[\"False_Easting\",500000.0],PARAMETER[\"False_Northing\",0.0],PARAMETER[\"Central_Meridian\",-93.0],PARAMETER[\"Scale_Factor\",0.9996],PARAMETER[\"Latitude_Of_Origin\",0.0],UNIT[\"Meter\",1.0]],VERTCS[\"NAVD_1988\",VDATUM[\"North_American_Vertical_Datum_1988\"],PARAMETER[\"Vertical_Shift\",0.0],PARAMETER[\"Direction\",1.0],UNIT[\"Meter\",1.0]]'):\n",
    "    arcpy.management.Clip(\n",
    "        in_raster=r\"C:\\Users\\ethan\\Desktop\\ARLT_MGIS\\GIS5571\\FinalProject\\Data\\Extracted\\NLCD_2021\\nlcd_2021_land_cover_l48_20230630.img\",\n",
    "        rectangle=\"379749.8558 4868689.051 399383.5881 4887308.7898\",\n",
    "        out_raster=r\"C:\\Users\\ethan\\Desktop\\ARLT_MGIS\\GIS5571\\FinalProject\\Data\\Clipped\\NCLD_clipped\",\n",
    "        in_template_dataset=\"restorable_wetlands.tif\",\n",
    "        nodata_value=\"255\",\n",
    "        clipping_geometry=\"NONE\",\n",
    "        maintain_clipping_extent=\"MAINTAIN_EXTENT\"\n",
    "    )"
   ]
  },
  {
   "cell_type": "code",
   "execution_count": 52,
   "metadata": {},
   "outputs": [
    {
     "name": "stdout",
     "output_type": "stream",
     "text": [
      "Original Cell Size: 29.975163816793987\n"
     ]
    }
   ],
   "source": [
    "# Path to your raster\n",
    "raster_path = r\"C:\\Users\\ethan\\Desktop\\ARLT_MGIS\\GIS5571\\FinalProject\\Data\\Clipped\\NCLD_clipped\"\n",
    "\n",
    "# Get raster properties\n",
    "desc = arcpy.Describe(raster_path)\n",
    "cell_size = desc.meanCellWidth  # or desc.meanCellHeight\n",
    "print(f\"Original Cell Size: {cell_size}\")"
   ]
  },
  {
   "cell_type": "code",
   "execution_count": 45,
   "metadata": {},
   "outputs": [],
   "source": [
    "# Reclassify the NCLD from 16 Categories to 5 Categories\n",
    "\n",
    "with arcpy.EnvManager(outputCoordinateSystem='PROJCS[\"NAD_1983_UTM_Zone_15N\",GEOGCS[\"GCS_North_American_1983\",DATUM[\"D_North_American_1983\",SPHEROID[\"GRS_1980\",6378137.0,298.257222101]],PRIMEM[\"Greenwich\",0.0],UNIT[\"Degree\",0.0174532925199433]],PROJECTION[\"Transverse_Mercator\"],PARAMETER[\"False_Easting\",500000.0],PARAMETER[\"False_Northing\",0.0],PARAMETER[\"Central_Meridian\",-93.0],PARAMETER[\"Scale_Factor\",0.9996],PARAMETER[\"Latitude_Of_Origin\",0.0],UNIT[\"Meter\",1.0]],VERTCS[\"NAVD_1988\",VDATUM[\"North_American_Vertical_Datum_1988\"],PARAMETER[\"Vertical_Shift\",0.0],PARAMETER[\"Direction\",1.0],UNIT[\"Meter\",1.0]]', snapRaster=r\"C:\\Users\\ethan\\Desktop\\ARLT_MGIS\\GIS5571\\FinalProject\\Data\\Clipped\\slope_dem\", extent='379749.8558 4868689.051 399383.5881 4887308.7898 PROJCS[\"NAD_1983_UTM_Zone_15N\",GEOGCS[\"GCS_North_American_1983\",DATUM[\"D_North_American_1983\",SPHEROID[\"GRS_1980\",6378137.0,298.257222101]],PRIMEM[\"Greenwich\",0.0],UNIT[\"Degree\",0.0174532925199433]],PROJECTION[\"Transverse_Mercator\"],PARAMETER[\"False_Easting\",500000.0],PARAMETER[\"False_Northing\",0.0],PARAMETER[\"Central_Meridian\",-93.0],PARAMETER[\"Scale_Factor\",0.9996],PARAMETER[\"Latitude_Of_Origin\",0.0],UNIT[\"Meter\",1.0]],VERTCS[\"NAVD_1988\",VDATUM[\"North_American_Vertical_Datum_1988\"],PARAMETER[\"Vertical_Shift\",0.0],PARAMETER[\"Direction\",1.0],UNIT[\"Meter\",1.0]]'):\n",
    "        arcpy.ddd.Reclassify(\n",
    "            in_raster=\"NCLD_clipped\",\n",
    "            reclass_field=\"VALUE\",\n",
    "            remap=\"11 5;21 4;22 4;23 4;24 4;31 4;41 2;42 2;43 2;52 2;71 2;81 3;82 3;90 1;95 1\",\n",
    "            out_raster=r\"C:\\Users\\ethan\\Desktop\\ARLT_MGIS\\GIS5571\\FinalProject\\Data\\Clipped\\NCLD_reclass\",\n",
    "            missing_values=\"DATA\"\n",
    "        )"
   ]
  },
  {
   "cell_type": "markdown",
   "metadata": {},
   "source": [
    "#### 2c. Create 100m buffer for Impervious, Classify as Impervious (0) or Not (1)\n",
    "Expand cell value for impervious landcover 4 cells from existing impervious areas (cell size ~ 29.9m --> ~100m). Reclassify the impervious areas as 0 (not desireable) and not-impervious (1, 2, 3, and 5) as 1 (desireable)."
   ]
  },
  {
   "cell_type": "code",
   "execution_count": 6,
   "metadata": {},
   "outputs": [],
   "source": [
    "# Convert input raster to geodatabase format if necessary\n",
    "input_raster_path = r\"C:\\Users\\ethan\\Desktop\\ARLT_MGIS\\GIS5571\\FinalProject\\Data\\Clipped\\ncld_reclass\"\n",
    "gdb_raster_path = r\"c:\\Users\\ethan\\documents\\ArcGIS\\Projects\\arc1_finalproject\\arc1_finalproject.gdb\\ncld_reclass_gdb\"\n",
    "\n",
    "# Check if already exists in GDB format\n",
    "if not arcpy.Exists(gdb_raster_path):\n",
    "    arcpy.CopyRaster_management(input_raster_path, gdb_raster_path)\n",
    "else:\n",
    "    print(\"Raster already in geodatabase format.\")"
   ]
  },
  {
   "cell_type": "code",
   "execution_count": 9,
   "metadata": {},
   "outputs": [],
   "source": [
    "# Define input raster path and output path\n",
    "input_raster = r\"C:\\Users\\ethan\\Documents\\ArcGIS\\Projects\\Arc1_FinalProject\\Arc1_FinalProject.gdb\\ncld_reclass_gdb\"\n",
    "output_path = r\"c:\\Users\\ethan\\documents\\ArcGIS\\Projects\\arc1_finalproject\\arc1_finalproject.gdb\\ncld_imp_expand\"\n",
    "\n",
    "# Apply Expand to increase the area of zones with value 4 by 2 cells\n",
    "expanded_raster = arcpy.sa.Expand(input_raster, number_cells=4, zone_values=[4])\n",
    "\n",
    "# Save the result\n",
    "expanded_raster.save(output_path)"
   ]
  },
  {
   "cell_type": "code",
   "execution_count": 11,
   "metadata": {},
   "outputs": [
    {
     "name": "stdout",
     "output_type": "stream",
     "text": [
      "NLCD impervious buffer layer has been created.\n"
     ]
    }
   ],
   "source": [
    "# Reclassify the NLCD values as either impervious (0) or not (1).\n",
    "arcpy.ddd.Reclassify(\n",
    "    in_raster=\"expanded_raster\",\n",
    "    reclass_field=\"Value\",\n",
    "    remap=\"1 1;2 1;3 1;4 0;5 1\",\n",
    "    out_raster=r\"C:\\Users\\ethan\\Documents\\ArcGIS\\Projects\\Arc1_FinalProject\\Arc1_FinalProject.gdb\\Imperv_Reclass\",\n",
    "    missing_values=\"DATA\"\n",
    ")\n",
    "\n",
    "print(\"NLCD impervious buffer layer has been created.\")"
   ]
  },
  {
   "cell_type": "markdown",
   "metadata": {},
   "source": [
    "#### 2d. Identify Agicultural (and Vegetated) Areas\n",
    "Reclassify a cost surface that highlights agricultural and vegetated lands as most reliable for successful restoration projects."
   ]
  },
  {
   "cell_type": "code",
   "execution_count": 13,
   "metadata": {},
   "outputs": [
    {
     "name": "stdout",
     "output_type": "stream",
     "text": [
      "NLCD agricultural and vegetative layer has been created.\n"
     ]
    }
   ],
   "source": [
    "# Reclassify the NLCD values as agricultural and vegetative (1) or not (0).\n",
    "arcpy.ddd.Reclassify(\n",
    "    in_raster=r\"C:\\Users\\ethan\\Documents\\ArcGIS\\Projects\\Arc1_FinalProject\\Arc1_FinalProject.gdb\\ncld_reclass_gdb\",\n",
    "    reclass_field=\"Value\",\n",
    "    remap=\"1 0;2 1;3 1;4 0;5 0\",\n",
    "    out_raster=r\"C:\\Users\\ethan\\Documents\\ArcGIS\\Projects\\Arc1_FinalProject\\Arc1_FinalProject.gdb\\AgVeg_Reclass\",\n",
    "    missing_values=\"DATA\"\n",
    ")\n",
    "\n",
    "print(\"NLCD agricultural and vegetative layer has been created.\")"
   ]
  },
  {
   "cell_type": "markdown",
   "metadata": {},
   "source": [
    "### 3. DEM Data to Slope and TWI\n",
    "Use DEM layers from Blue Earth, Brown, and Watonwan counties. Clip the counties to the extent and then create a mosaic data layer. Derive the slope layer and a TWI layer."
   ]
  },
  {
   "cell_type": "markdown",
   "metadata": {},
   "source": [
    "#### 3a. DEM API Extraction\n",
    "Request DEM layers for Blue Earth, Brown, and Watonwan counties."
   ]
  },
  {
   "cell_type": "code",
   "execution_count": 25,
   "metadata": {},
   "outputs": [
    {
     "name": "stdout",
     "output_type": "stream",
     "text": [
      "Found file for blueearth county: Downloading...\n"
     ]
    },
    {
     "name": "stderr",
     "output_type": "stream",
     "text": [
      "Downloading blueearth: 100%|██████████| 5.86G/5.86G [03:18<00:00, 29.6MB/s]﻿\n"
     ]
    },
    {
     "name": "stdout",
     "output_type": "stream",
     "text": [
      "Downloaded C:\\Users\\ethan\\Desktop\\ARLT_MGIS\\GIS5571\\FinalProject\\Data\\ZippedFiles\\MN_County_DEM\\blueearth_elevation_data.gdb.zip\n",
      "Extracted files to C:\\Users\\ethan\\Desktop\\ARLT_MGIS\\GIS5571\\FinalProject\\Data\\ZippedFiles\\MN_County_DEM\\blueearth_extracted\n",
      "Found file for brown county: Downloading...\n"
     ]
    },
    {
     "name": "stderr",
     "output_type": "stream",
     "text": [
      "Downloading brown: 100%|██████████| 4.89G/4.89G [02:39<00:00, 30.6MB/s]﻿\n"
     ]
    },
    {
     "name": "stdout",
     "output_type": "stream",
     "text": [
      "Downloaded C:\\Users\\ethan\\Desktop\\ARLT_MGIS\\GIS5571\\FinalProject\\Data\\ZippedFiles\\MN_County_DEM\\brown_elevation_data.gdb.zip\n",
      "Extracted files to C:\\Users\\ethan\\Desktop\\ARLT_MGIS\\GIS5571\\FinalProject\\Data\\ZippedFiles\\MN_County_DEM\\brown_extracted\n",
      "Found file for watonwan county: Downloading...\n"
     ]
    },
    {
     "name": "stderr",
     "output_type": "stream",
     "text": [
      "Downloading watonwan: 100%|██████████| 2.96G/2.96G [01:39<00:00, 29.8MB/s]﻿\n"
     ]
    },
    {
     "name": "stdout",
     "output_type": "stream",
     "text": [
      "Downloaded C:\\Users\\ethan\\Desktop\\ARLT_MGIS\\GIS5571\\FinalProject\\Data\\ZippedFiles\\MN_County_DEM\\watonwan_elevation_data.gdb.zip\n",
      "Extracted files to C:\\Users\\ethan\\Desktop\\ARLT_MGIS\\GIS5571\\FinalProject\\Data\\ZippedFiles\\MN_County_DEM\\watonwan_extracted\n"
     ]
    }
   ],
   "source": [
    "# Extract DEM Data for Blue Earth, Watonwan, and Brown Counties\n",
    "\n",
    "# Define the base URL and the counties to check\n",
    "DOMAIN = \"https://resources.gisdata.mn.gov\"\n",
    "BASE_URL = f\"{DOMAIN}/pub/data/elevation/lidar/county\"\n",
    "counties = [\"blueearth\", \"brown\", \"watonwan\"]\n",
    "\n",
    "# Directory where the files will be saved\n",
    "save_folder = r\"C:\\Users\\ethan\\Desktop\\ARLT_MGIS\\GIS5571\\FinalProject\\Data\\ZippedFiles\\MN_County_DEM\"\n",
    "os.makedirs(save_folder, exist_ok=True)  # Create the folder if it doesn't exist\n",
    "\n",
    "# Loop through counties to download and extract the file\n",
    "for county in counties:\n",
    "    file_url = f\"{BASE_URL}/{county}/elevation_data.gdb.zip\"\n",
    "    file_path = os.path.join(save_folder, f\"{county}_elevation_data.gdb.zip\")\n",
    "    \n",
    "    # Check if the file exists on the server\n",
    "    response = requests.head(file_url)\n",
    "    if response.status_code == 200:\n",
    "        print(f\"Found file for {county} county: Downloading...\")\n",
    "\n",
    "        # Download the file with progress bar\n",
    "        response = requests.get(file_url, stream=True)\n",
    "        file_size = int(response.headers.get('content-length', 0))\n",
    "        \n",
    "        with open(file_path, 'wb') as f, tqdm(total=file_size, unit='B', unit_scale=True, desc=f\"Downloading {county}\") as pbar:\n",
    "            for chunk in response.iter_content(chunk_size=1024):\n",
    "                if chunk:\n",
    "                    f.write(chunk)\n",
    "                    pbar.update(len(chunk))\n",
    "\n",
    "        print(f\"Downloaded {file_path}\")\n",
    "\n",
    "        # Extract the ZIP file\n",
    "        extraction_path = os.path.join(save_folder, f\"{county}_extracted\")\n",
    "        os.makedirs(extraction_path, exist_ok=True)\n",
    "        \n",
    "        with zipfile.ZipFile(file_path, 'r') as zip_ref:\n",
    "            zip_ref.extractall(extraction_path)\n",
    "        \n",
    "        print(f\"Extracted files to {extraction_path}\")\n",
    "\n",
    "    else:\n",
    "        print(f\"No file found for {county} county.\")"
   ]
  },
  {
   "cell_type": "code",
   "execution_count": 30,
   "metadata": {},
   "outputs": [],
   "source": [
    "# Add County DEM Rasters to Mosaic Database and clip to Bounding Box Extent\n",
    "\n",
    "with arcpy.EnvManager(extent='379749.8558 4868689.051 399383.5881 4887308.7898 PROJCS[\"NAD_1983_UTM_Zone_15N\",GEOGCS[\"GCS_North_American_1983\",DATUM[\"D_North_American_1983\",SPHEROID[\"GRS_1980\",6378137.0,298.257222101]],PRIMEM[\"Greenwich\",0.0],UNIT[\"Degree\",0.0174532925199433]],PROJECTION[\"Transverse_Mercator\"],PARAMETER[\"False_Easting\",500000.0],PARAMETER[\"False_Northing\",0.0],PARAMETER[\"Central_Meridian\",-93.0],PARAMETER[\"Scale_Factor\",0.9996],PARAMETER[\"Latitude_Of_Origin\",0.0],UNIT[\"Meter\",1.0]],VERTCS[\"NAVD_1988\",VDATUM[\"North_American_Vertical_Datum_1988\"],PARAMETER[\"Vertical_Shift\",0.0],PARAMETER[\"Direction\",1.0],UNIT[\"Meter\",1.0]]'):\n",
    "    arcpy.management.MosaicToNewRaster(\n",
    "        input_rasters=r\"C:\\Users\\ethan\\Desktop\\ARLT_MGIS\\GIS5571\\FinalProject\\Data\\Extracted\\blueearth_extracted\\elevation_data.gdb\\dem_3m_m;C:\\Users\\ethan\\Desktop\\ARLT_MGIS\\GIS5571\\FinalProject\\Data\\Extracted\\brown_extracted\\elevation_data.gdb\\dem_3m_m;C:\\Users\\ethan\\Desktop\\ARLT_MGIS\\GIS5571\\FinalProject\\Data\\Extracted\\watonwan_extracted\\elevation_data.gdb\\dem_3m_m\",\n",
    "        output_location=r\"C:\\Users\\ethan\\Desktop\\ARLT_MGIS\\GIS5571\\FinalProject\\Data\\Clipped\",\n",
    "        raster_dataset_name_with_extension=\"Mosaic_DEM\",\n",
    "        coordinate_system_for_the_raster='PROJCS[\"NAD_1983_UTM_Zone_15N\",GEOGCS[\"GCS_North_American_1983\",DATUM[\"D_North_American_1983\",SPHEROID[\"GRS_1980\",6378137.0,298.257222101]],PRIMEM[\"Greenwich\",0.0],UNIT[\"Degree\",0.0174532925199433]],PROJECTION[\"Transverse_Mercator\"],PARAMETER[\"False_Easting\",500000.0],PARAMETER[\"False_Northing\",0.0],PARAMETER[\"Central_Meridian\",-93.0],PARAMETER[\"Scale_Factor\",0.9996],PARAMETER[\"Latitude_Of_Origin\",0.0],UNIT[\"Meter\",1.0]],VERTCS[\"NAVD_1988\",VDATUM[\"North_American_Vertical_Datum_1988\"],PARAMETER[\"Vertical_Shift\",0.0],PARAMETER[\"Direction\",1.0],UNIT[\"Meter\",1.0]]',\n",
    "        pixel_type=\"8_BIT_UNSIGNED\",\n",
    "        cellsize=None,\n",
    "        number_of_bands=1,\n",
    "        mosaic_method=\"LAST\",\n",
    "        mosaic_colormap_mode=\"FIRST\"\n",
    "    )"
   ]
  },
  {
   "cell_type": "markdown",
   "metadata": {},
   "source": [
    "#### 3b. Create Slope Raster\n",
    "Use the DEM raster mosaic layer to create a slope layer."
   ]
  },
  {
   "cell_type": "code",
   "execution_count": 31,
   "metadata": {},
   "outputs": [],
   "source": [
    "# Derive Slope from the DEM raster mosaic layer\n",
    "\n",
    "with arcpy.EnvManager(r\"C:\\Users\\ethan\\Desktop\\ARLT_MGIS\\GIS5571\\FinalProject\\Data\\Clipped\"):\n",
    "    out_raster = arcpy.sa.Slope(\n",
    "        in_raster=r\"C:\\Users\\ethan\\Desktop\\ARLT_MGIS\\GIS5571\\FinalProject\\Data\\Clipped\\Mosaic_DEM\",\n",
    "        output_measurement=\"DEGREE\",\n",
    "        z_factor=1,\n",
    "        method=\"PLANAR\",\n",
    "        z_unit=\"METER\",\n",
    "        analysis_target_device=\"GPU_THEN_CPU\"\n",
    "    )\n",
    "    out_raster.save(r\"C:\\Users\\ethan\\Desktop\\ARLT_MGIS\\GIS5571\\FinalProject\\Data\\Clipped\\slope_DEM\")"
   ]
  },
  {
   "cell_type": "markdown",
   "metadata": {},
   "source": [
    "#### 3c. Create Topographic Wetness Index (TWI) Raster\n",
    "Use the slope layer and an accumulation area (contributing area)."
   ]
  },
  {
   "cell_type": "code",
   "execution_count": 17,
   "metadata": {},
   "outputs": [
    {
     "name": "stdout",
     "output_type": "stream",
     "text": [
      "TWI calculation complete.\n"
     ]
    }
   ],
   "source": [
    "import arcpy\n",
    "from arcpy.sa import *\n",
    "\n",
    "# Set the workspace and environment\n",
    "arcpy.env.workspace = r\"C:\\Users\\ethan\\Documents\\ArcGIS\\Projects\\Arc1_FinalProject\\Arc1_FinalProject.gdb\"\n",
    "arcpy.env.overwriteOutput = True\n",
    "\n",
    "# Define input DEM and output file paths\n",
    "dem = r\"C:\\Users\\ethan\\Desktop\\ARLT_MGIS\\GIS5571\\FinalProject\\Data\\Clipped\\mosaic_dem\"\n",
    "twi_output = r\"C:\\Users\\ethan\\Documents\\ArcGIS\\Projects\\Arc1_FinalProject\\Arc1_FinalProject.gdb\\DEM_TWI\"\n",
    "\n",
    "# Step 1: Calculate the Flow Accumulation\n",
    "flow_accumulation = FlowAccumulation(dem)\n",
    "\n",
    "# Step 2: Calculate the Slope in radians, adding a small buffer to avoid division by zero\n",
    "slope_degrees = Slope(dem, output_measurement=\"DEGREE\")\n",
    "slope_radians = slope_degrees * (3.14159 / 180) + 0.001  # Adding 0.001 to avoid issues with zero slope\n",
    "\n",
    "# Step 3: Calculate the upslope contributing area by multiplying flow accumulation by cell size\n",
    "cell_size = float(arcpy.GetRasterProperties_management(dem, \"CELLSIZEX\").getOutput(0))  # Assumes square cells\n",
    "contributing_area = flow_accumulation * cell_size\n",
    "\n",
    "# Step 4: Calculate TWI using the formula TWI = ln(a / tan(beta))\n",
    "twi = Ln(Con(contributing_area > 0, contributing_area / Tan(slope_radians)))  # Using Con to handle areas with zero flow\n",
    "\n",
    "# Step 5: Save the TWI output\n",
    "twi.save(twi_output)\n",
    "\n",
    "print(\"TWI calculation complete.\")"
   ]
  },
  {
   "cell_type": "code",
   "execution_count": 22,
   "metadata": {},
   "outputs": [
    {
     "name": "stdout",
     "output_type": "stream",
     "text": [
      "TWI raster exported successfully.\n"
     ]
    }
   ],
   "source": [
    "import arcpy\n",
    "\n",
    "# Define the input TWI raster and output file path\n",
    "twi_raster = r\"C:\\Users\\ethan\\Documents\\ArcGIS\\Projects\\Arc1_FinalProject\\Arc1_FinalProject.gdb\\DEM_TWI\"\n",
    "output_twi_tif = r\"C:\\Users\\ethan\\Documents\\ArcGIS\\Projects\\Arc1_FinalProject\\DEM_TWI.tif\"\n",
    "\n",
    "# Use CopyRaster to export the TWI raster to a .tif file\n",
    "arcpy.CopyRaster_management(twi_raster, output_twi_tif, format=\"TIFF\")\n",
    "\n",
    "print(\"TWI raster exported successfully.\")"
   ]
  },
  {
   "cell_type": "code",
   "execution_count": 23,
   "metadata": {
    "collapsed": true
   },
   "outputs": [
    {
     "ename": "AttributeError",
     "evalue": "module 'arcpy' has no attribute 'archydropro'",
     "output_type": "error",
     "traceback": [
      "\u001b[0;31m---------------------------------------------------------------------------\u001b[0m\n\u001b[0;31mAttributeError\u001b[0m                            Traceback (most recent call last)",
      "In  \u001b[0;34m[23]\u001b[0m:\nLine \u001b[0;34m2\u001b[0m:     arcpy.archydropro.calculatetopographicwetnessindexsurfaceparameters(\u001b[37m\u001b[39;49;00m\n",
      "\u001b[0;31mAttributeError\u001b[0m: module 'arcpy' has no attribute 'archydropro'\n\u001b[0;31m---------------------------------------------------------------------------\u001b[0m"
     ]
    }
   ],
   "source": [
    "arcpy.ImportToolbox(r\"C:\\Users\\ethan\\Documents\\ArcGIS\\Projects\\Arc1_FinalProject\\Arc1_FinalProject.atbx\")\n",
    "arcpy.archydropro.calculatetopographicwetnessindexsurfaceparameters(\n",
    "    Input_Smoothed_DEM=r\"C:\\Users\\ethan\\Desktop\\ARLT_MGIS\\GIS5571\\FinalProject\\Data\\Clipped\\mosaic_dem\",\n",
    "    Hydrocondition_Method=\"Continuous Flow\",\n",
    "    Slope_Neighborhood_Distance=10,\n",
    "    Output_TWI_Raster=r\"C:\\Users\\ethan\\Desktop\\ARLT_MGIS\\GIS5571\\FinalProject\\Data\\Clipped\\TWI_dem10m\",\n",
    "    Save_Intermediate_Rasters=True,\n",
    "    Output_TWI_Slope_Raster=r\"C:\\Users\\ethan\\Desktop\\ARLT_MGIS\\GIS5571\\FinalProject\\Data\\Clipped\\SLP_twi_10m.tif\",\n",
    "    Output_TWI_FAC_Raster=r\"C:\\Users\\ethan\\Desktop\\ARLT_MGIS\\GIS5571\\FinalProject\\Data\\Clipped\\FAC_CF.tif\",\n",
    "    Input_TWI_Slope=None,\n",
    "    Input_TWI_FAC_Raster=None\n",
    ")"
   ]
  },
  {
   "cell_type": "markdown",
   "metadata": {},
   "source": [
    "#### 3d. Create Layers for Specific Slope and TWI Values\n",
    "\n",
    "Use the DEM derived slope and TWI rasters to create new cost layers: 1) slope <= 7* and 2) TWI >=7."
   ]
  },
  {
   "cell_type": "code",
   "execution_count": 24,
   "metadata": {},
   "outputs": [
    {
     "name": "stdout",
     "output_type": "stream",
     "text": [
      "Slope reclassification was successfully calculated.\n"
     ]
    }
   ],
   "source": [
    "# Create a Slope Cost Layer (degrees <= 5).\n",
    "\n",
    "# Reclassify the Categories by Slope (0-5* = 1, <=10 = 2, <=Max = 3)\n",
    "with arcpy.EnvManager(outputCoordinateSystem='PROJCS[\"NAD_1983_UTM_Zone_15N\",GEOGCS[\"GCS_North_American_1983\",DATUM[\"D_North_American_1983\",SPHEROID[\"GRS_1980\",6378137.0,298.257222101]],PRIMEM[\"Greenwich\",0.0],UNIT[\"Degree\",0.0174532925199433]],PROJECTION[\"Transverse_Mercator\"],PARAMETER[\"False_Easting\",500000.0],PARAMETER[\"False_Northing\",0.0],PARAMETER[\"Central_Meridian\",-93.0],PARAMETER[\"Scale_Factor\",0.9996],PARAMETER[\"Latitude_Of_Origin\",0.0],UNIT[\"Meter\",1.0]],VERTCS[\"NAVD_1988\",VDATUM[\"North_American_Vertical_Datum_1988\"],PARAMETER[\"Vertical_Shift\",0.0],PARAMETER[\"Direction\",1.0],UNIT[\"Meter\",1.0]]'):\n",
    "    arcpy.ddd.Reclassify(\n",
    "        in_raster=r\"C:\\Users\\ethan\\Desktop\\ARLT_MGIS\\GIS5571\\FinalProject\\Data\\Clipped\\slope_dem\",\n",
    "        reclass_field=\"VALUE\",\n",
    "        remap=\"0 5 1;5 10 0;10 66.788101 0\",\n",
    "        out_raster=r\"C:\\Users\\ethan\\Desktop\\ARLT_MGIS\\GIS5571\\FinalProject\\Data\\Clipped\\Slope_Reclass\",\n",
    "        missing_values=\"DATA\"\n",
    "    )\n",
    "\n",
    "print(\"Slope reclassification was successfully calculated.\")"
   ]
  },
  {
   "cell_type": "code",
   "execution_count": 27,
   "metadata": {},
   "outputs": [
    {
     "name": "stdout",
     "output_type": "stream",
     "text": [
      "TWI reclassification was successfully calculated.\n"
     ]
    }
   ],
   "source": [
    "# Create a TWI Cost Layer (TWI >= 10)\n",
    "# Reclassify the Categories by TWI (TWI 0-5 = 1, TWI <=10 = 2, <=20 = 3, >20 = 4)\n",
    "\n",
    "# Set environment output coordinate system (if required)\n",
    "arcpy.env.outputCoordinateSystem = arcpy.SpatialReference('NAD 1983 UTM Zone 15N')\n",
    "\n",
    "# Define paths\n",
    "input_twi_raster = r\"C:\\Users\\ethan\\Desktop\\ARLT_MGIS\\GIS5571\\FinalProject\\Data\\Clipped\\twi_dem10m\"\n",
    "int_twi_raster = r\"C:\\Users\\ethan\\Documents\\ArcGIS\\Projects\\Arc1_FinalProject\\Arc1_FinalProject.gdb\\twi_dem10m_Int\"\n",
    "output_reclass = r\"C:\\Users\\ethan\\Desktop\\ARLT_MGIS\\GIS5571\\FinalProject\\Data\\Clipped\\TWI_reclass\"\n",
    "\n",
    "# Step 1: Convert the input TWI raster to integer if it’s in floating-point\n",
    "int_twi = Int(input_twi_raster)\n",
    "int_twi.save(int_twi_raster)\n",
    "\n",
    "# Step 2: Reclassify the integer TWI raster\n",
    "reclassified_twi = Reclassify(\n",
    "    in_raster=int_twi_raster,\n",
    "    reclass_field=\"VALUE\",\n",
    "    remap=RemapRange([[0.903, 7, 0], [7, 24.65, 1]]),\n",
    "    missing_values=\"DATA\"\n",
    ")\n",
    "\n",
    "# Step 3: Save the output raster\n",
    "reclassified_twi.save(output_reclass)\n",
    "\n",
    "print(\"TWI reclassification was successfully calculated.\")"
   ]
  },
  {
   "cell_type": "markdown",
   "metadata": {},
   "source": [
    "### 4. Identify Hydric Soils\n",
    "Hydric soils are soils with characteristics indicative of water saturation for long periods of time, indicating previous wetland probability. Soils identified with greater than 50 percent hydric soil samples were likely to have had wetlands, and are likely to be able to sustain wetland restorations more successfully."
   ]
  },
  {
   "cell_type": "markdown",
   "metadata": {},
   "source": [
    "#### 4a. Soils Data API Extraction\n",
    "Request the soils data using the ArcGIS online Rest API image server."
   ]
  },
  {
   "cell_type": "code",
   "execution_count": 26,
   "metadata": {
    "scrolled": true
   },
   "outputs": [
    {
     "name": "stdout",
     "output_type": "stream",
     "text": [
      "Downloading MN Soils Data file (20.02 MB)...\n"
     ]
    },
    {
     "name": "stderr",
     "output_type": "stream",
     "text": [
      "Downloading: 100%|██████████| 21.0M/21.0M [00:22<00:00, 919kB/s] ﻿\n"
     ]
    },
    {
     "name": "stdout",
     "output_type": "stream",
     "text": [
      "File Name                                             Modified             Size\n",
      "wss_aoi_2024-11-01_09-54-19/readme.txt         2024-11-01 09:54:54        20733\n",
      "wss_aoi_2024-11-01_09-54-19/soildb_MN_2003.mdb 2012-09-13 11:24:42     12406784\n",
      "wss_aoi_2024-11-01_09-54-19/soil_metadata_mn013.txt 2024-11-01 09:54:54        58967\n",
      "wss_aoi_2024-11-01_09-54-19/soil_metadata_mn013.xml 2024-11-01 09:54:54        56665\n",
      "wss_aoi_2024-11-01_09-54-19/soil_metadata_mn015.txt 2024-11-01 09:54:54        60929\n",
      "wss_aoi_2024-11-01_09-54-19/soil_metadata_mn015.xml 2024-11-01 09:54:54        59006\n",
      "wss_aoi_2024-11-01_09-54-19/soil_metadata_mn165.txt 2024-11-01 09:54:54        57245\n",
      "wss_aoi_2024-11-01_09-54-19/soil_metadata_mn165.xml 2024-11-01 09:54:54        55131\n",
      "wss_aoi_2024-11-01_09-54-19/thematic/          2024-11-01 09:54:54            0\n",
      "wss_aoi_2024-11-01_09-54-19/spatial/aoi_a_aoi.dbf 2024-11-01 09:54:18           92\n",
      "wss_aoi_2024-11-01_09-54-19/spatial/aoi_a_aoi.prj 2024-11-01 09:54:18          145\n",
      "wss_aoi_2024-11-01_09-54-19/spatial/aoi_a_aoi.shp 2024-11-01 09:54:18          236\n",
      "wss_aoi_2024-11-01_09-54-19/spatial/aoi_a_aoi.shx 2024-11-01 09:54:18          108\n",
      "wss_aoi_2024-11-01_09-54-19/spatial/soilmu_a_aoi.dbf 2024-11-01 09:54:20       396936\n",
      "wss_aoi_2024-11-01_09-54-19/spatial/soilmu_a_aoi.prj 2024-11-01 09:54:20          145\n",
      "wss_aoi_2024-11-01_09-54-19/spatial/soilmu_a_aoi.shp 2024-11-01 09:54:20      8323064\n",
      "wss_aoi_2024-11-01_09-54-19/spatial/soilmu_a_aoi.shx 2024-11-01 09:54:20        47476\n",
      "wss_aoi_2024-11-01_09-54-19/spatial/soilmu_l_aoi.dbf 2024-11-01 09:54:20          162\n",
      "wss_aoi_2024-11-01_09-54-19/spatial/soilmu_l_aoi.prj 2024-11-01 09:54:20          145\n",
      "wss_aoi_2024-11-01_09-54-19/spatial/soilmu_l_aoi.shp 2024-11-01 09:54:20          100\n",
      "wss_aoi_2024-11-01_09-54-19/spatial/soilmu_l_aoi.shx 2024-11-01 09:54:20          100\n",
      "wss_aoi_2024-11-01_09-54-19/spatial/soilmu_p_aoi.dbf 2024-11-01 09:54:22          162\n",
      "wss_aoi_2024-11-01_09-54-19/spatial/soilmu_p_aoi.prj 2024-11-01 09:54:22          145\n",
      "wss_aoi_2024-11-01_09-54-19/spatial/soilmu_p_aoi.shp 2024-11-01 09:54:22          100\n",
      "wss_aoi_2024-11-01_09-54-19/spatial/soilmu_p_aoi.shx 2024-11-01 09:54:22          100\n",
      "wss_aoi_2024-11-01_09-54-19/spatial/soilsf_l_aoi.dbf 2024-11-01 09:54:22        19746\n",
      "wss_aoi_2024-11-01_09-54-19/spatial/soilsf_l_aoi.prj 2024-11-01 09:54:22          145\n",
      "wss_aoi_2024-11-01_09-54-19/spatial/soilsf_l_aoi.shp 2024-11-01 09:54:22       101044\n",
      "wss_aoi_2024-11-01_09-54-19/spatial/soilsf_l_aoi.shx 2024-11-01 09:54:22         2548\n",
      "wss_aoi_2024-11-01_09-54-19/spatial/soilsf_p_aoi.dbf 2024-11-01 09:54:22        61090\n",
      "wss_aoi_2024-11-01_09-54-19/spatial/soilsf_p_aoi.prj 2024-11-01 09:54:22          145\n",
      "wss_aoi_2024-11-01_09-54-19/spatial/soilsf_p_aoi.shp 2024-11-01 09:54:22        26756\n",
      "wss_aoi_2024-11-01_09-54-19/spatial/soilsf_p_aoi.shx 2024-11-01 09:54:22         7716\n",
      "wss_aoi_2024-11-01_09-54-19/spatial/soilsf_t_aoi.txt 2024-11-01 09:54:54         9138\n",
      "wss_aoi_2024-11-01_09-54-19/spatial/version.txt 2022-11-30 16:01:52            7\n",
      "wss_aoi_2024-11-01_09-54-19/tabular/ccancov.txt 2024-11-01 09:54:26            0\n",
      "wss_aoi_2024-11-01_09-54-19/tabular/ccrpyd.txt 2024-11-01 09:54:26            0\n",
      "wss_aoi_2024-11-01_09-54-19/tabular/cdfeat.txt 2024-11-01 09:54:26        48772\n",
      "wss_aoi_2024-11-01_09-54-19/tabular/cecoclas.txt 2024-11-01 09:54:26        90667\n",
      "wss_aoi_2024-11-01_09-54-19/tabular/ceplants.txt 2024-11-01 09:54:26         1518\n",
      "wss_aoi_2024-11-01_09-54-19/tabular/cerosnac.txt 2024-11-01 09:54:26         7114\n",
      "wss_aoi_2024-11-01_09-54-19/tabular/cfprod.txt 2024-11-01 09:54:26         1897\n",
      "wss_aoi_2024-11-01_09-54-19/tabular/cfprodo.txt 2024-11-01 09:54:52            0\n",
      "wss_aoi_2024-11-01_09-54-19/tabular/cgeomord.txt 2024-11-01 09:54:28        70557\n",
      "wss_aoi_2024-11-01_09-54-19/tabular/chaashto.txt 2024-11-01 09:54:50       107804\n",
      "wss_aoi_2024-11-01_09-54-19/tabular/chconsis.txt 2024-11-01 09:54:50         1386\n",
      "wss_aoi_2024-11-01_09-54-19/tabular/chdsuffx.txt 2024-11-01 09:54:50        24470\n",
      "wss_aoi_2024-11-01_09-54-19/tabular/chfrags.txt 2024-11-01 09:54:50       528145\n",
      "wss_aoi_2024-11-01_09-54-19/tabular/chorizon.txt 2024-11-01 09:54:26       727523\n",
      "wss_aoi_2024-11-01_09-54-19/tabular/chpores.txt 2024-11-01 09:54:50            0\n",
      "wss_aoi_2024-11-01_09-54-19/tabular/chstr.txt  2024-11-01 09:54:52       120137\n",
      "wss_aoi_2024-11-01_09-54-19/tabular/chstrgrp.txt 2024-11-01 09:54:50       133758\n",
      "wss_aoi_2024-11-01_09-54-19/tabular/chtexgrp.txt 2024-11-01 09:54:52       207623\n",
      "wss_aoi_2024-11-01_09-54-19/tabular/chtexmod.txt 2024-11-01 09:54:52         9651\n",
      "wss_aoi_2024-11-01_09-54-19/tabular/chtext.txt 2024-11-01 09:54:50            0\n",
      "wss_aoi_2024-11-01_09-54-19/tabular/chtextur.txt 2024-11-01 09:54:52       159157\n",
      "wss_aoi_2024-11-01_09-54-19/tabular/chunifie.txt 2024-11-01 09:54:52        96267\n",
      "wss_aoi_2024-11-01_09-54-19/tabular/chydcrit.txt 2024-11-01 09:54:28        10270\n",
      "wss_aoi_2024-11-01_09-54-19/tabular/cinterp.txt 2024-11-01 09:54:48     67036617\n",
      "wss_aoi_2024-11-01_09-54-19/tabular/cmonth.txt 2024-11-01 09:54:48       325309\n",
      "wss_aoi_2024-11-01_09-54-19/tabular/comp.txt   2024-11-01 09:54:26       261994\n",
      "wss_aoi_2024-11-01_09-54-19/tabular/cpmat.txt  2024-11-01 09:54:52        32581\n",
      "wss_aoi_2024-11-01_09-54-19/tabular/cpmatgrp.txt 2024-11-01 09:54:48        27804\n",
      "wss_aoi_2024-11-01_09-54-19/tabular/cpwndbrk.txt 2024-11-01 09:54:48         2314\n",
      "wss_aoi_2024-11-01_09-54-19/tabular/crstrcts.txt 2024-11-01 09:54:48            0\n",
      "wss_aoi_2024-11-01_09-54-19/tabular/csfrags.txt 2024-11-01 09:54:48        21597\n",
      "wss_aoi_2024-11-01_09-54-19/tabular/csmoist.txt 2024-11-01 09:54:52       481685\n",
      "wss_aoi_2024-11-01_09-54-19/tabular/csmorgc.txt 2024-11-01 09:54:52        12926\n",
      "wss_aoi_2024-11-01_09-54-19/tabular/csmorhpp.txt 2024-11-01 09:54:52        10716\n",
      "wss_aoi_2024-11-01_09-54-19/tabular/csmormr.txt 2024-11-01 09:54:52           44\n",
      "wss_aoi_2024-11-01_09-54-19/tabular/csmorss.txt 2024-11-01 09:54:52        29192\n",
      "wss_aoi_2024-11-01_09-54-19/tabular/cstemp.txt 2024-11-01 09:54:52            0\n",
      "wss_aoi_2024-11-01_09-54-19/tabular/ctext.txt  2024-11-01 09:54:50       290785\n",
      "wss_aoi_2024-11-01_09-54-19/tabular/ctreestm.txt 2024-11-01 09:54:50        42665\n",
      "wss_aoi_2024-11-01_09-54-19/tabular/ctxfmmin.txt 2024-11-01 09:54:48        13560\n",
      "wss_aoi_2024-11-01_09-54-19/tabular/ctxfmoth.txt 2024-11-01 09:54:48        14586\n",
      "wss_aoi_2024-11-01_09-54-19/tabular/ctxmoicl.txt 2024-11-01 09:54:50        10155\n",
      "wss_aoi_2024-11-01_09-54-19/tabular/distimd.txt 2024-11-01 09:54:24      5024463\n",
      "wss_aoi_2024-11-01_09-54-19/tabular/distlmd.txt 2024-11-01 09:54:24        18623\n",
      "wss_aoi_2024-11-01_09-54-19/tabular/distmd.txt 2024-11-01 09:54:24          132\n",
      "wss_aoi_2024-11-01_09-54-19/tabular/lareao.txt 2024-11-01 09:54:24          626\n",
      "wss_aoi_2024-11-01_09-54-19/tabular/legend.txt 2024-11-01 09:54:24          524\n",
      "wss_aoi_2024-11-01_09-54-19/tabular/ltext.txt  2024-11-01 09:54:24            0\n",
      "wss_aoi_2024-11-01_09-54-19/tabular/mapunit.txt 2024-11-01 09:54:24        23595\n",
      "wss_aoi_2024-11-01_09-54-19/tabular/msdomdet.txt 2022-11-30 16:01:52       983682\n",
      "wss_aoi_2024-11-01_09-54-19/tabular/msdommas.txt 2022-11-30 16:01:52         3287\n",
      "wss_aoi_2024-11-01_09-54-19/tabular/msidxdet.txt 2022-11-30 16:01:52         8342\n",
      "wss_aoi_2024-11-01_09-54-19/tabular/msidxmas.txt 2022-11-30 16:01:52         5803\n",
      "wss_aoi_2024-11-01_09-54-19/tabular/msrsdet.txt 2022-11-30 16:01:52         3793\n",
      "wss_aoi_2024-11-01_09-54-19/tabular/msrsmas.txt 2022-11-30 16:01:52         3576\n",
      "wss_aoi_2024-11-01_09-54-19/tabular/mstab.txt  2022-11-30 16:01:52        32270\n",
      "wss_aoi_2024-11-01_09-54-19/tabular/mstabcol.txt 2022-11-30 16:01:52       219942\n",
      "wss_aoi_2024-11-01_09-54-19/tabular/muaggatt.txt 2024-11-01 09:54:26        62780\n",
      "wss_aoi_2024-11-01_09-54-19/tabular/muareao.txt 2024-11-01 09:54:26        17681\n",
      "wss_aoi_2024-11-01_09-54-19/tabular/mucrpyd.txt 2024-11-01 09:54:26            0\n",
      "wss_aoi_2024-11-01_09-54-19/tabular/mutext.txt 2024-11-01 09:54:26        38844\n",
      "wss_aoi_2024-11-01_09-54-19/tabular/sacatlog.txt 2024-11-01 09:54:22       169654\n",
      "wss_aoi_2024-11-01_09-54-19/tabular/sainterp.txt 2024-11-01 09:54:24      5031759\n",
      "wss_aoi_2024-11-01_09-54-19/tabular/sdvalgorithm.txt 2024-11-01 09:54:52         5124\n",
      "wss_aoi_2024-11-01_09-54-19/tabular/sdvattribute.txt 2024-11-01 09:54:54      1372267\n",
      "wss_aoi_2024-11-01_09-54-19/tabular/sdvfolder.txt 2024-11-01 09:54:54         8296\n",
      "wss_aoi_2024-11-01_09-54-19/tabular/sdvfolderattribute.txt 2024-11-01 09:54:54         1623\n",
      "wss_aoi_2024-11-01_09-54-19/tabular/version.txt 2022-11-30 16:01:52            7\n",
      "Files in the extracted directory:\n",
      "['wss_aoi_2024-11-01_09-54-19']\n"
     ]
    }
   ],
   "source": [
    "# Extract Soils Data for Bounding Box\n",
    "   \n",
    "# Define the URL and the output path for the ZIP file\n",
    "url = r\"https://websoilsurvey.sc.egov.usda.gov/DSD/Download/AOI/vnuor1iisg3slwbdgugqbp0w/wss_aoi_2024-11-01_09-54-19.zip\"\n",
    "zip_soils_path = r\"C:\\Users\\ethan\\Desktop\\ARLT_MGIS\\GIS5571\\FinalProject\\Data\\ZippedFiles\\MN_Soils.zip\"\n",
    "\n",
    "# Create the folder if it doesn't exist\n",
    "os.makedirs(os.path.dirname(zip_ncld_path), exist_ok=True)\n",
    "\n",
    "# Download the file using requests.get(), stream=True for chunked downloading\n",
    "response = requests.get(url, stream=True)\n",
    "\n",
    "# Get the file size from headers (optional, for progress indication)\n",
    "file_size = int(response.headers.get('content-length', 0))\n",
    "print(f\"Downloading MN Soils Data file ({file_size / 1024 / 1024:.2f} MB)...\")\n",
    "\n",
    "# Stream the download and show a progress bar\n",
    "with open(zip_soils_path, 'wb') as f:\n",
    "    with tqdm(total=file_size, unit='B', unit_scale=True, desc=\"Downloading\") as pbar:\n",
    "        for chunk in response.iter_content(chunk_size=1024):\n",
    "            if chunk:  # Filter out keep-alive new chunks\n",
    "                f.write(chunk)\n",
    "                pbar.update(len(chunk))\n",
    "\n",
    "# Open the ZIP file and print its contents\n",
    "with zipfile.ZipFile(zip_soils_path, 'r') as zip_ref:\n",
    "    # Print the contents of the ZIP file\n",
    "    zip_ref.printdir()\n",
    "\n",
    "    # Create a directory for extraction if it doesn't exist\n",
    "    extraction_path = r\"C:\\Users\\ethan\\Desktop\\ARLT_MGIS\\GIS5571\\FinalProject\\Data\\Extracted\\MN_Soils\"\n",
    "    os.makedirs(extraction_path, exist_ok=True)\n",
    "\n",
    "    # Extract all files to the specified directory\n",
    "    zip_ref.extractall(extraction_path)\n",
    "\n",
    "# Show the files you just extracted\n",
    "print(\"Files in the extracted directory:\")\n",
    "print(os.listdir(extraction_path))"
   ]
  },
  {
   "cell_type": "code",
   "execution_count": 56,
   "metadata": {},
   "outputs": [
    {
     "name": "stdout",
     "output_type": "stream",
     "text": [
      "Raster image saved to C:\\Users\\ethan\\Desktop\\ARLT_MGIS\\GIS5571\\FinalProject\\Data\\Extracted\\soil_hydric_class.tiff\n"
     ]
    }
   ],
   "source": [
    "# Extract Soils Data for Bounding Box\n",
    "# Define the URL for the API request\n",
    "url = \"https://landscape11.arcgis.com/arcgis/rest/services/USA_Soils_Hydric_Class/ImageServer/exportImage\"\n",
    "\n",
    "# Define the parameters\n",
    "params = {\n",
    "    \"bbox\": \"-2.00375070672E7,-1617169.7091000006,2.0037507842788246E7,1.15601202909E7\",\n",
    "    \"bboxSR\": \"4326\",  # Spatial reference for the bounding box (NAD83 UTM Zone 15N)\n",
    "    \"size\": \"1024,1024\",  # Output image size (adjust as needed)\n",
    "    \"imageSR\": \"4326\",  # Spatial reference for the image\n",
    "    \"format\": \"tiff\",  # Image format (change to 'png' or 'jpg' if needed)\n",
    "    \"pixelType\": \"U8\",  # Pixel type\n",
    "    \"noData\": \"\",  # Optional: Define NoData value if applicable\n",
    "    \"noDataInterpretation\": \"esriNoDataMatchAny\",\n",
    "    \"interpolation\": \"RSP_BilinearInterpolation\",\n",
    "    \"adjustAspectRatio\": \"true\",\n",
    "    \"f\": \"image\"  # Output format\n",
    "}\n",
    "\n",
    "# Send the GET request to the ArcGIS REST API\n",
    "response = requests.get(url, params=params)\n",
    "\n",
    "# Check if the request was successful\n",
    "if response.status_code == 200:\n",
    "    # Save the image as a TIFF file\n",
    "    output_tif_path = r\"C:\\Users\\ethan\\Desktop\\ARLT_MGIS\\GIS5571\\FinalProject\\Data\\Extracted\\soil_hydric_class.tiff\"\n",
    "    with open(output_tif_path, \"wb\") as file:\n",
    "        file.write(response.content)\n",
    "    print(f\"Raster image saved to {output_tif_path}\")\n",
    "else:\n",
    "    print(f\"Error occurred: {response.status_code}\")"
   ]
  },
  {
   "cell_type": "markdown",
   "metadata": {},
   "source": [
    "#### Currently Issues accessing the REST API for layer, downloaded manually\n",
    "\n",
    "arc_api_link = f\"https://landscape11.arcgis.com/arcgis/rest/services/USA_Soils_Hydric_Class/ImageServer/query?where=1%3D1&outFields=*&f=pjson\"\n",
    "\n",
    "https://landscape11.arcgis.com/arcgis/rest/services/USA_Soils_Hydric_Class/ImageServer/query?where=1%3D1&objectIds=&time=&geometry=&geometryType=esriGeometryEnvelope&inSR=&spatialRel=esriSpatialRelIntersects&relationParam=&outFields=*&returnGeometry=true&outSR=&returnIdsOnly=false&returnCountOnly=false&returnExtentOnly=false&pixelSize=&rasterQuery=&orderByFields=&groupByFieldsForStatistics=&outStatistics=&returnDistinctValues=false&multidimensionalDefinition=&returnTrueCurves=false&maxAllowableOffset=&geometryPrecision=&resultOffset=&resultRecordCount=&f=pjson"
   ]
  },
  {
   "cell_type": "markdown",
   "metadata": {},
   "source": [
    "#### 4b. Reproject and Clip the Hydric Soils Data\n",
    "Conform the data the NAD83 UTM 15N projection and clip it the common extent."
   ]
  },
  {
   "cell_type": "code",
   "execution_count": 29,
   "metadata": {},
   "outputs": [
    {
     "data": {
      "text/html": [
       "<div class='gpresult'><h2>Messages</h2><div id='messages' data-messages='[\"Start Time: Sunday, November 3, 2024 11:57:34 AM\",\"Succeeded at Sunday, November 3, 2024 11:57:39 AM (Elapsed Time: 4.76 seconds)\"]' data-show='true'><div id = 'default' /></div></div>"
      ],
      "text/plain": [
       "<Result 'C:\\\\Users\\\\ethan\\\\Documents\\\\ArcGIS\\\\Projects\\\\Arc1_FinalProject\\\\Arc1_FinalProject.gdb\\\\hydric_soils_Project'>"
      ]
     },
     "execution_count": 29,
     "metadata": {},
     "output_type": "execute_result"
    }
   ],
   "source": [
    "# Reproject the Soils Raster into NAD 83 UTM 15N\n",
    "\n",
    "arcpy.management.ProjectRaster(\n",
    "    in_raster=\"hydric_soils.tif\",\n",
    "    out_raster=r\"C:\\Users\\ethan\\Documents\\ArcGIS\\Projects\\Arc1_FinalProject\\Arc1_FinalProject.gdb\\hydric_soils_Project\",\n",
    "    out_coor_system='PROJCS[\"NAD_1983_UTM_Zone_15N\",GEOGCS[\"GCS_North_American_1983\",DATUM[\"D_North_American_1983\",SPHEROID[\"GRS_1980\",6378137.0,298.257222101]],PRIMEM[\"Greenwich\",0.0],UNIT[\"Degree\",0.0174532925199433]],PROJECTION[\"Transverse_Mercator\"],PARAMETER[\"False_Easting\",500000.0],PARAMETER[\"False_Northing\",0.0],PARAMETER[\"Central_Meridian\",-93.0],PARAMETER[\"Scale_Factor\",0.9996],PARAMETER[\"Latitude_Of_Origin\",0.0],UNIT[\"Meter\",1.0]],VERTCS[\"NAVD_1988\",VDATUM[\"North_American_Vertical_Datum_1988\"],PARAMETER[\"Vertical_Shift\",0.0],PARAMETER[\"Direction\",1.0],UNIT[\"Meter\",1.0]]',\n",
    "    resampling_type=\"NEAREST\",\n",
    "    cell_size=\"29.9999961896375 30\",\n",
    "    geographic_transform=\"WGS_1984_(ITRF00)_To_NAD_1983\",\n",
    "    Registration_Point=None,\n",
    "    in_coor_system='PROJCS[\"WGS_1984_Web_Mercator_Auxiliary_Sphere\",GEOGCS[\"GCS_WGS_1984\",DATUM[\"D_WGS_1984\",SPHEROID[\"WGS_1984\",6378137.0,298.257223563]],PRIMEM[\"Greenwich\",0.0],UNIT[\"Degree\",0.0174532925199433]],PROJECTION[\"Mercator_Auxiliary_Sphere\"],PARAMETER[\"False_Easting\",0.0],PARAMETER[\"False_Northing\",0.0],PARAMETER[\"Central_Meridian\",0.0],PARAMETER[\"Standard_Parallel_1\",0.0],PARAMETER[\"Auxiliary_Sphere_Type\",0.0],UNIT[\"Meter\",1.0]]',\n",
    "    vertical=\"NO_VERTICAL\"\n",
    ")"
   ]
  },
  {
   "cell_type": "code",
   "execution_count": 32,
   "metadata": {},
   "outputs": [],
   "source": [
    "# Clip the Reprojected Soils Raster to the Boundary Extent\n",
    "\n",
    "with arcpy.EnvManager(outputCoordinateSystem='PROJCS[\"NAD_1983_UTM_Zone_15N\",GEOGCS[\"GCS_North_American_1983\",DATUM[\"D_North_American_1983\",SPHEROID[\"GRS_1980\",6378137.0,298.257222101]],PRIMEM[\"Greenwich\",0.0],UNIT[\"Degree\",0.0174532925199433]],PROJECTION[\"Transverse_Mercator\"],PARAMETER[\"False_Easting\",500000.0],PARAMETER[\"False_Northing\",0.0],PARAMETER[\"Central_Meridian\",-93.0],PARAMETER[\"Scale_Factor\",0.9996],PARAMETER[\"Latitude_Of_Origin\",0.0],UNIT[\"Meter\",1.0]],VERTCS[\"NAVD_1988\",VDATUM[\"North_American_Vertical_Datum_1988\"],PARAMETER[\"Vertical_Shift\",0.0],PARAMETER[\"Direction\",1.0],UNIT[\"Meter\",1.0]]'):\n",
    "    arcpy.management.Clip(\n",
    "        in_raster=\"hydric_soils_Project\",\n",
    "        rectangle=\"379749.142119867 4868686.82685342 399384.142119867 4887310.82685342\",\n",
    "        out_raster=r\"C:\\Users\\ethan\\Documents\\ArcGIS\\Projects\\Arc1_FinalProject\\Arc1_FinalProject.gdb\\hydric_soils_Clip\",\n",
    "        in_template_dataset=\"Mosaic_DEM_twi_SLP_an_10mMax_CF.tif\",\n",
    "        nodata_value=\"255\",\n",
    "        clipping_geometry=\"NONE\",\n",
    "        maintain_clipping_extent=\"NO_MAINTAIN_EXTENT\"\n",
    "    )"
   ]
  },
  {
   "cell_type": "markdown",
   "metadata": {},
   "source": [
    "#### 4c. Create a Soils Cost Layer\n",
    "Create a cost layer where hydric soils over 50 percent are the highest value."
   ]
  },
  {
   "cell_type": "code",
   "execution_count": 57,
   "metadata": {},
   "outputs": [
    {
     "name": "stdout",
     "output_type": "stream",
     "text": [
      "Hydric soil classes have been reclassified.\n"
     ]
    }
   ],
   "source": [
    "# Reclassify Soils Data\n",
    "\n",
    "arcpy.ddd.Reclassify(\n",
    "    in_raster=\"hydric_soils_Clip\",\n",
    "    reclass_field=\"ClassName\",\n",
    "    remap=\"'Not Hydric' 0;'Partially Hydric (1 - 25%)' 0;'Partially Hydric (26 - 50%)' 1;'Mostly Hydric (76 - 95%)' 1;'All Hydric' 1\",\n",
    "    out_raster=r\"C:\\Users\\ethan\\Desktop\\ARLT_MGIS\\GIS5571\\FinalProject\\Data\\Clipped\\soils_reclass\",\n",
    "    missing_values=\"DATA\"\n",
    ")\n",
    "\n",
    "print(\"Hydric soil classes have been reclassified.\")"
   ]
  },
  {
   "cell_type": "markdown",
   "metadata": {},
   "source": [
    "____"
   ]
  },
  {
   "cell_type": "markdown",
   "metadata": {},
   "source": [
    "### Part 2: Develop a Cost Surface Layer and Identify High Priority Areas"
   ]
  },
  {
   "cell_type": "markdown",
   "metadata": {},
   "source": [
    "#### 5a. Create a Cost Surface Layer"
   ]
  },
  {
   "cell_type": "markdown",
   "metadata": {},
   "source": [
    "#### Test 1: Equal Weights, 0 = Restricted, 1 = 10"
   ]
  },
  {
   "cell_type": "code",
   "execution_count": 31,
   "metadata": {},
   "outputs": [],
   "source": [
    "# Create an Equal Cost Surface where Hydric >= 50%, TWI >= 7, Slope <= 3.5, AgVeg = True, ImpervDist >= 100m, NWIdist <= 500m\n",
    "\n",
    "# TWI and Slope were given 16% versus 17% for all other layers -- due to the flexibility with these inputs and the need for 100% total\n",
    "# Zeros were made restricted, while 1 values were given scale of 10.\n",
    "\n",
    "with arcpy.EnvManager(scratchWorkspace=r\"C:\\Users\\ethan\\Documents\\ArcGIS\\Projects\\Arc1_FinalProject\\Arc1_FinalProject.gdb\"):\n",
    "    out_raster = arcpy.sa.WeightedOverlay(\n",
    "        in_weighted_overlay_table=r\"('C:\\Users\\ethan\\Documents\\ArcGIS\\Projects\\Arc1_FinalProject\\Arc1_FinalProject.gdb\\NWI_Buffer500m_Raster' 17 'Value' (0 Restricted; 1 10; NODATA NODATA); 'C:\\Users\\ethan\\Desktop\\ARLT_MGIS\\GIS5571\\FinalProject\\Data\\Clipped\\soils_reclass' 17 'VALUE' (0 Restricted; 1 10; NODATA NODATA); 'C:\\Users\\ethan\\Desktop\\ARLT_MGIS\\GIS5571\\FinalProject\\Data\\Clipped\\TWI_reclass' 16 'VALUE' (0 Restricted; 1 10; NODATA NODATA); 'C:\\Users\\ethan\\Desktop\\ARLT_MGIS\\GIS5571\\FinalProject\\Data\\Clipped\\Slope_Reclass' 16 'VALUE' (0 Restricted; 1 10; NODATA NODATA); 'C:\\Users\\ethan\\Documents\\ArcGIS\\Projects\\Arc1_FinalProject\\Arc1_FinalProject.gdb\\AgVeg_Reclass' 17 'Value' (0 Restricted; 1 10; NODATA NODATA); 'C:\\Users\\ethan\\Documents\\ArcGIS\\Projects\\Arc1_FinalProject\\Arc1_FinalProject.gdb\\Imperv_Reclass' 17 'Value' (0 Restricted; 1 10; NODATA NODATA));1 10 1\"\n",
    "    )\n",
    "    out_raster.save(r\"C:\\Users\\ethan\\Documents\\ArcGIS\\Projects\\Arc1_FinalProject\\Arc1_FinalProject.gdb\\WtOv_Equal\")"
   ]
  },
  {
   "cell_type": "markdown",
   "metadata": {},
   "source": [
    "#### Test 2: Equal Weights, 0 = 1, 1 = 10"
   ]
  },
  {
   "cell_type": "code",
   "execution_count": 30,
   "metadata": {},
   "outputs": [],
   "source": [
    "# Create an Equal Cost Surface where Hydric >= 50%, TWI >= 7, Slope <= 3.5, AgVeg = True, ImpervDist >= 100m, NWIdist <= 500m\n",
    "\n",
    "# TWI and Slope were given 16% versus 17% for all other layers -- due to the flexibility with these inputs and the need for 100% total\n",
    "# Zeros were given scale of 1, while 1 values were given scale of 10.\n",
    "\n",
    "with arcpy.EnvManager(scratchWorkspace=r\"C:\\Users\\ethan\\Documents\\ArcGIS\\Projects\\Arc1_FinalProject\\Arc1_FinalProject.gdb\"):\n",
    "    out_raster = arcpy.sa.WeightedOverlay(\n",
    "        in_weighted_overlay_table=r\"('C:\\Users\\ethan\\Documents\\ArcGIS\\Projects\\Arc1_FinalProject\\Arc1_FinalProject.gdb\\NWI_Buffer500m_Raster' 17 'Value' (0 1; 1 10; NODATA NODATA); 'C:\\Users\\ethan\\Desktop\\ARLT_MGIS\\GIS5571\\FinalProject\\Data\\Clipped\\soils_reclass' 17 'VALUE' (0 1; 1 10; NODATA NODATA); 'C:\\Users\\ethan\\Desktop\\ARLT_MGIS\\GIS5571\\FinalProject\\Data\\Clipped\\TWI_reclass' 16 'VALUE' (0 1; 1 10; NODATA NODATA); 'C:\\Users\\ethan\\Desktop\\ARLT_MGIS\\GIS5571\\FinalProject\\Data\\Clipped\\Slope_Reclass' 16 'VALUE' (0 1; 1 10; NODATA NODATA); 'C:\\Users\\ethan\\Documents\\ArcGIS\\Projects\\Arc1_FinalProject\\Arc1_FinalProject.gdb\\AgVeg_Reclass' 17 'Value' (0 1; 1 10; NODATA NODATA); 'C:\\Users\\ethan\\Documents\\ArcGIS\\Projects\\Arc1_FinalProject\\Arc1_FinalProject.gdb\\Imperv_Reclass' 17 'Value' (0 1; 1 10; NODATA NODATA));1 10 1\"\n",
    "    )\n",
    "    out_raster.save(r\"C:\\Users\\ethan\\Documents\\ArcGIS\\Projects\\Arc1_FinalProject\\Arc1_FinalProject.gdb\\WtOv_Equal_t2\")"
   ]
  },
  {
   "cell_type": "markdown",
   "metadata": {},
   "source": [
    "#### 5b. Evaluate Cost Surface for High Value Wetlands\n",
    "\n",
    "Determine wetland areas that are 2 cells or larger."
   ]
  },
  {
   "cell_type": "code",
   "execution_count": 56,
   "metadata": {},
   "outputs": [],
   "source": [
    "# ZONAL STATS!!!\n",
    "# Generalization in Spatial Analys - Lots of good options.\n",
    "# Identify areas with 2 cells the same touching\n",
    "with arcpy.EnvManager(outputCoordinateSystem='PROJCS[\"NAD_1983_UTM_Zone_15N\",GEOGCS[\"GCS_North_American_1983\",DATUM[\"D_North_American_1983\",SPHEROID[\"GRS_1980\",6378137.0,298.257222101]],PRIMEM[\"Greenwich\",0.0],UNIT[\"Degree\",0.0174532925199433]],PROJECTION[\"Transverse_Mercator\"],PARAMETER[\"False_Easting\",500000.0],PARAMETER[\"False_Northing\",0.0],PARAMETER[\"Central_Meridian\",-93.0],PARAMETER[\"Scale_Factor\",0.9996],PARAMETER[\"Latitude_Of_Origin\",0.0],UNIT[\"Meter\",1.0]],VERTCS[\"NAVD_1988\",VDATUM[\"North_American_Vertical_Datum_1988\"],PARAMETER[\"Vertical_Shift\",0.0],PARAMETER[\"Direction\",1.0],UNIT[\"Meter\",1.0]]', scratchWorkspace=r\"C:\\Users\\ethan\\Documents\\ArcGIS\\Projects\\Arc1_FinalProject\\Arc1_FinalProject.gdb\"):\n",
    "    out_raster = arcpy.sa.FocalStatistics(\n",
    "        in_raster=\"out_raster\",\n",
    "        neighborhood=\"Rectangle 3 3 CELL\",\n",
    "        statistics_type=\"MEAN\",\n",
    "        ignore_nodata=\"DATA\",\n",
    "        percentile_value=90\n",
    "    )\n",
    "    out_raster.save(r\"C:\\Users\\ethan\\Documents\\ArcGIS\\Projects\\Arc1_FinalProject\\Arc1_FinalProject.gdb\\FocalSt_EqWg1\")"
   ]
  },
  {
   "cell_type": "code",
   "execution_count": 57,
   "metadata": {},
   "outputs": [],
   "source": [
    "with arcpy.EnvManager(outputCoordinateSystem='PROJCS[\"NAD_1983_UTM_Zone_15N\",GEOGCS[\"GCS_North_American_1983\",DATUM[\"D_North_American_1983\",SPHEROID[\"GRS_1980\",6378137.0,298.257222101]],PRIMEM[\"Greenwich\",0.0],UNIT[\"Degree\",0.0174532925199433]],PROJECTION[\"Transverse_Mercator\"],PARAMETER[\"False_Easting\",500000.0],PARAMETER[\"False_Northing\",0.0],PARAMETER[\"Central_Meridian\",-93.0],PARAMETER[\"Scale_Factor\",0.9996],PARAMETER[\"Latitude_Of_Origin\",0.0],UNIT[\"Meter\",1.0]],VERTCS[\"NAVD_1988\",VDATUM[\"North_American_Vertical_Datum_1988\"],PARAMETER[\"Vertical_Shift\",0.0],PARAMETER[\"Direction\",1.0],UNIT[\"Meter\",1.0]]', scratchWorkspace=r\"C:\\Users\\ethan\\Documents\\ArcGIS\\Projects\\Arc1_FinalProject\\Arc1_FinalProject.gdb\"):\n",
    "    out_raster = arcpy.sa.FocalStatistics(\n",
    "        in_raster=\"out_raster\",\n",
    "        neighborhood=\"Circle 10 CELL\",\n",
    "        statistics_type=\"MEAN\",\n",
    "        ignore_nodata=\"DATA\",\n",
    "        percentile_value=90\n",
    "    )\n",
    "    out_raster.save(r\"C:\\Users\\ethan\\Documents\\ArcGIS\\Projects\\Arc1_FinalProject\\Arc1_FinalProject.gdb\\FocalSt_EqWg2\")"
   ]
  },
  {
   "cell_type": "markdown",
   "metadata": {},
   "source": [
    "#### 5d. Compare Results to MN Restorable Wetlands Shapefile"
   ]
  },
  {
   "cell_type": "code",
   "execution_count": 32,
   "metadata": {},
   "outputs": [
    {
     "name": "stdout",
     "output_type": "stream",
     "text": [
      "Restorable wetlands clipped to the boundary area.\n"
     ]
    }
   ],
   "source": [
    "# Clip the MN Restorable Wetlands file to the boundary area\n",
    "\n",
    "with arcpy.EnvManager(outputCoordinateSystem='PROJCS[\"NAD_1983_UTM_Zone_15N\",GEOGCS[\"GCS_North_American_1983\",DATUM[\"D_North_American_1983\",SPHEROID[\"GRS_1980\",6378137.0,298.257222101]],PRIMEM[\"Greenwich\",0.0],UNIT[\"Degree\",0.0174532925199433]],PROJECTION[\"Transverse_Mercator\"],PARAMETER[\"False_Easting\",500000.0],PARAMETER[\"False_Northing\",0.0],PARAMETER[\"Central_Meridian\",-93.0],PARAMETER[\"Scale_Factor\",0.9996],PARAMETER[\"Latitude_Of_Origin\",0.0],UNIT[\"Meter\",1.0]],VERTCS[\"NAVD_1988\",VDATUM[\"North_American_Vertical_Datum_1988\"],PARAMETER[\"Vertical_Shift\",0.0],PARAMETER[\"Direction\",1.0],UNIT[\"Meter\",1.0]]'):\n",
    "    arcpy.analysis.PairwiseClip(\n",
    "        in_features=\"MN_Restorable_Wetlands selection\",\n",
    "        clip_features=r\"C:\\Users\\ethan\\Documents\\ArcGIS\\Projects\\Arc1_FinalProject\\Arc1_FinalProject.gdb\\BoundingBox\",\n",
    "        out_feature_class=r\"C:\\Users\\ethan\\Documents\\ArcGIS\\Projects\\Arc1_FinalProject\\Arc1_FinalProject.gdb\\MN_ReWet_Clip\",\n",
    "        cluster_tolerance=None\n",
    "    )\n",
    "    \n",
    "print(\"Restorable wetlands clipped to the boundary area.\")"
   ]
  },
  {
   "cell_type": "markdown",
   "metadata": {},
   "source": [
    "_____"
   ]
  },
  {
   "cell_type": "markdown",
   "metadata": {},
   "source": [
    "### Part 3: Analyze Wetland Site Priorities"
   ]
  },
  {
   "cell_type": "markdown",
   "metadata": {},
   "source": [
    "#### 6a. Compare to Randomized Weighting"
   ]
  },
  {
   "cell_type": "code",
   "execution_count": 17,
   "metadata": {},
   "outputs": [
    {
     "name": "stdout",
     "output_type": "stream",
     "text": [
      "Raster: C:\\Users\\ethan\\Documents\\ArcGIS\\Projects\\Arc1_FinalProject\\Arc1_RandomWeights.gdb\\Raster_Iteration_0, Chi2: 6.07, P-value: 0.7327\n",
      "Raster: C:\\Users\\ethan\\Documents\\ArcGIS\\Projects\\Arc1_FinalProject\\Arc1_RandomWeights.gdb\\Raster_Iteration_1, Chi2: 2.85, P-value: 0.9701\n",
      "Raster: C:\\Users\\ethan\\Documents\\ArcGIS\\Projects\\Arc1_FinalProject\\Arc1_RandomWeights.gdb\\Raster_Iteration_2, Chi2: 4.58, P-value: 0.8690\n",
      "Raster: C:\\Users\\ethan\\Documents\\ArcGIS\\Projects\\Arc1_FinalProject\\Arc1_RandomWeights.gdb\\Raster_Iteration_3, Chi2: 2.27, P-value: 0.9864\n",
      "Raster: C:\\Users\\ethan\\Documents\\ArcGIS\\Projects\\Arc1_FinalProject\\Arc1_RandomWeights.gdb\\Raster_Iteration_4, Chi2: 1.99, P-value: 0.9917\n",
      "Raster: C:\\Users\\ethan\\Documents\\ArcGIS\\Projects\\Arc1_FinalProject\\Arc1_RandomWeights.gdb\\Raster_Iteration_5, Chi2: 0.83, P-value: 0.9997\n",
      "Raster: C:\\Users\\ethan\\Documents\\ArcGIS\\Projects\\Arc1_FinalProject\\Arc1_RandomWeights.gdb\\Raster_Iteration_6, Chi2: 6.06, P-value: 0.7336\n",
      "Raster: C:\\Users\\ethan\\Documents\\ArcGIS\\Projects\\Arc1_FinalProject\\Arc1_RandomWeights.gdb\\Raster_Iteration_7, Chi2: 2.25, P-value: 0.9868\n",
      "Raster: C:\\Users\\ethan\\Documents\\ArcGIS\\Projects\\Arc1_FinalProject\\Arc1_RandomWeights.gdb\\Raster_Iteration_8, Chi2: 1.54, P-value: 0.9968\n",
      "Raster: C:\\Users\\ethan\\Documents\\ArcGIS\\Projects\\Arc1_FinalProject\\Arc1_RandomWeights.gdb\\Raster_Iteration_9, Chi2: 0.77, P-value: 0.9998\n"
     ]
    },
    {
     "data": {
      "image/png": "[encoded data removed]",
      "text/plain": [
       "<Figure size 640x480 with 1 Axes>"
      ]
     },
     "metadata": {},
     "output_type": "display_data"
    }
   ],
   "source": [
    "%matplotlib inline\n",
    "import arcpy\n",
    "import numpy as np\n",
    "import matplotlib.pyplot as plt\n",
    "from scipy.stats import chisquare\n",
    "\n",
    "# Set environment settings\n",
    "arcpy.env.workspace = r\"C:\\Users\\ethan\\Documents\\ArcGIS\\Projects\\Arc1_FinalProject\\Arc1_RandomWeights.gdb\"\n",
    "arcpy.env.overwriteOutput = True\n",
    "\n",
    "# Load the equal-weight raster as a NumPy array\n",
    "equal_raster = arcpy.RasterToNumPyArray(\n",
    "    r\"C:\\Users\\ethan\\Documents\\ArcGIS\\Projects\\Arc1_FinalProject\\Arc1_FinalProject.gdb\\WtOv_Equal_t2\"\n",
    ")\n",
    "\n",
    "# List of randomly weighted rasters\n",
    "random_weight_rasters = [\n",
    "    r\"C:\\Users\\ethan\\Documents\\ArcGIS\\Projects\\Arc1_FinalProject\\Arc1_RandomWeights.gdb\\Raster_Iteration_0\",\n",
    "    r\"C:\\Users\\ethan\\Documents\\ArcGIS\\Projects\\Arc1_FinalProject\\Arc1_RandomWeights.gdb\\Raster_Iteration_1\",\n",
    "    r\"C:\\Users\\ethan\\Documents\\ArcGIS\\Projects\\Arc1_FinalProject\\Arc1_RandomWeights.gdb\\Raster_Iteration_2\",\n",
    "    r\"C:\\Users\\ethan\\Documents\\ArcGIS\\Projects\\Arc1_FinalProject\\Arc1_RandomWeights.gdb\\Raster_Iteration_3\",\n",
    "    r\"C:\\Users\\ethan\\Documents\\ArcGIS\\Projects\\Arc1_FinalProject\\Arc1_RandomWeights.gdb\\Raster_Iteration_4\",\n",
    "    r\"C:\\Users\\ethan\\Documents\\ArcGIS\\Projects\\Arc1_FinalProject\\Arc1_RandomWeights.gdb\\Raster_Iteration_5\",\n",
    "    r\"C:\\Users\\ethan\\Documents\\ArcGIS\\Projects\\Arc1_FinalProject\\Arc1_RandomWeights.gdb\\Raster_Iteration_6\",\n",
    "    r\"C:\\Users\\ethan\\Documents\\ArcGIS\\Projects\\Arc1_FinalProject\\Arc1_RandomWeights.gdb\\Raster_Iteration_7\",\n",
    "    r\"C:\\Users\\ethan\\Documents\\ArcGIS\\Projects\\Arc1_FinalProject\\Arc1_RandomWeights.gdb\\Raster_Iteration_8\",\n",
    "    r\"C:\\Users\\ethan\\Documents\\ArcGIS\\Projects\\Arc1_FinalProject\\Arc1_RandomWeights.gdb\\Raster_Iteration_9\",\n",
    "]\n",
    "\n",
    "# Define raster value range\n",
    "value_range = np.arange(1, 12)  # Adjust range to match your raster value range (1–11)\n",
    "\n",
    "# Get value distribution for the equal-weight raster\n",
    "equal_hist, _ = np.histogram(equal_raster, bins=value_range, range=(1, 11))\n",
    "\n",
    "# Normalize the equal-weight histogram\n",
    "equal_hist = equal_hist / np.sum(equal_hist)\n",
    "\n",
    "# Plot the equal-weight raster distribution\n",
    "plt.bar(value_range[:-1], equal_hist, alpha=0.5, label=\"Equal Weight\")\n",
    "\n",
    "# Placeholder for chi-square test results\n",
    "chi2_results = []\n",
    "\n",
    "# Compare with randomly weighted rasters\n",
    "for raster_path in random_weight_rasters:\n",
    "    # Load the random-weight raster as a NumPy array\n",
    "    random_raster = arcpy.RasterToNumPyArray(raster_path)\n",
    "\n",
    "    # Get value distribution\n",
    "    random_hist, _ = np.histogram(random_raster, bins=value_range, range=(1, 11))\n",
    "\n",
    "    # Normalize the random-weight histogram\n",
    "    random_hist = random_hist / np.sum(random_hist)\n",
    "\n",
    "    # Perform Chi-square test\n",
    "    chi2, p_value = chisquare(f_obs=random_hist, f_exp=equal_hist)\n",
    "    chi2_results.append((raster_path, chi2, p_value))\n",
    "\n",
    "    print(f\"Raster: {raster_path}, Chi2: {chi2:.2f}, P-value: {p_value:.4f}\")\n",
    "\n",
    "    # Plot random raster histogram\n",
    "    plt.bar(value_range[:-1], random_hist, alpha=0.3, label=f\"Random Weight ({raster_path})\")\n",
    "\n",
    "# Customize and display the plot inline\n",
    "plt.xlabel(\"Raster Value\")\n",
    "plt.ylabel(\"Frequency\")\n",
    "plt.title(\"Value Distribution Comparison\")\n",
    "plt.legend(loc=\"upper left\", bbox_to_anchor=(1, 1), title=\"Weight Type\", fontsize=\"small\")\n",
    "plt.show()"
   ]
  },
  {
   "cell_type": "markdown",
   "metadata": {},
   "source": [
    "#### 6b. Compare to DNR Results"
   ]
  },
  {
   "cell_type": "code",
   "execution_count": 84,
   "metadata": {
    "scrolled": true
   },
   "outputs": [
    {
     "ename": "KeyError",
     "evalue": "'C:\\\\Users\\\\ethan\\\\Documents\\\\ArcGIS\\\\Projects\\\\Arc1_FinalProject\\\\Arc1_FinalProject.gdb\\\\Resampled_DNR_Raster'",
     "output_type": "error",
     "traceback": [
      "\u001b[0;31m---------------------------------------------------------------------------\u001b[0m\n\u001b[0;31mKeyError\u001b[0m                                  Traceback (most recent call last)",
      "In  \u001b[0;34m[84]\u001b[0m:\nLine \u001b[0;34m16\u001b[0m:    resampled_dnr_raster = arcpy.sa.Resample(dnr_raster, output_resampled_raster, equal_raster.meanCellWidth, \u001b[33m\"\u001b[39;49;00m\u001b[33mNEAREST\u001b[39;49;00m\u001b[33m\"\u001b[39;49;00m)\u001b[37m\u001b[39;49;00m\n",
      "File \u001b[0;34mC:\\Program Files\\ArcGIS\\Pro\\Resources\\ArcPy\\arcpy\\ia\\raster_functions.py\u001b[0m, in \u001b[0;32mResample\u001b[0m:\nLine \u001b[0;34m1614\u001b[0m:  resampling_type = resample_types[resampling_type]\u001b[37m\u001b[39;49;00m\n",
      "\u001b[0;31mKeyError\u001b[0m: 'C:\\\\Users\\\\ethan\\\\Documents\\\\ArcGIS\\\\Projects\\\\Arc1_FinalProject\\\\Arc1_FinalProject.gdb\\\\Resampled_DNR_Raster'\n\u001b[0;31m---------------------------------------------------------------------------\u001b[0m"
     ]
    }
   ],
   "source": [
    "# Resample the Rasters to Align for Distribution Comparison\n",
    "\n",
    "import arcpy\n",
    "from arcpy.sa import *\n",
    "\n",
    "# Define paths for rasters\n",
    "equal_raster_path = r\"C:\\Users\\ethan\\Documents\\ArcGIS\\Projects\\Arc1_FinalProject\\Arc1_FinalProject.gdb\\WtOv_Equal_t2\"\n",
    "dnr_raster_path = r\"C:\\Users\\ethan\\Documents\\ArcGIS\\Projects\\Arc1_FinalProject\\Arc1_FinalProject.gdb\\mn_restorable_wetland_i_Clip1\"\n",
    "\n",
    "# Load the rasters\n",
    "equal_raster = arcpy.Raster(equal_raster_path)\n",
    "dnr_raster = arcpy.Raster(dnr_raster_path)\n",
    "\n",
    "# Define output path for resampled raster\n",
    "output_resampled_raster = r\"C:\\Users\\ethan\\Documents\\ArcGIS\\Projects\\Arc1_FinalProject\\Arc1_FinalProject.gdb\\Resampled_DNR_Raster\"\n",
    "\n",
    "# Perform the resampling (make sure the output is a raster object)\n",
    "resampled_dnr_raster = arcpy.sa.Resample(dnr_raster, output_resampled_raster, equal_raster.meanCellWidth, \"NEAREST\")\n",
    "\n",
    "# Save the result (no need to manually specify the result as the output is handled by Resample)\n",
    "resampled_dnr_raster.save(output_resampled_raster)\n",
    "\n",
    "# Print a message to confirm completion\n",
    "print(f\"Resampled DNR raster saved to {output_resampled_raster}\")"
   ]
  },
  {
   "cell_type": "code",
   "execution_count": 79,
   "metadata": {},
   "outputs": [
    {
     "name": "stdout",
     "output_type": "stream",
     "text": [
      "Equal Raster shape: (621, 655)\n",
      "DNR Raster shape: (6211, 6551)\n"
     ]
    }
   ],
   "source": [
    "# Find the RMSE values and plot them on a histogram with the R2 Values\n",
    "\n",
    "from sklearn.metrics import mean_squared_error, r2_score\n",
    "import matplotlib.pyplot as plt\n",
    "import numpy as np\n",
    "\n",
    "# Flatten the arrays for metric calculations\n",
    "equal_flat = equal_raster_array.flatten()\n",
    "dnr_flat = dnr_raster_resampled.flatten()\n",
    "\n",
    "# Compute RMSE\n",
    "rmse = np.sqrt(mean_squared_error(equal_flat, dnr_flat))\n",
    "r2 = r2_score(equal_flat, dnr_flat)\n",
    "\n",
    "# Print summary statistics\n",
    "print(f\"RMSE: {rmse:.4f}\")\n",
    "print(f\"R^2: {r2:.4f}\")\n",
    "\n",
    "# Optional: Visualize RMSE and R^2 distributions\n",
    "plt.figure(figsize=(12, 5))\n",
    "\n",
    "# RMSE histogram (although we only have one RMSE value, you can visualize it if you loop over more rasters later)\n",
    "plt.subplot(1, 2, 1)\n",
    "plt.hist([rmse], bins=20, color='skyblue', edgecolor='black')\n",
    "plt.title(\"RMSE Distribution\")\n",
    "plt.xlabel(\"RMSE\")\n",
    "plt.ylabel(\"Frequency\")\n",
    "\n",
    "# R^2 histogram\n",
    "plt.subplot(1, 2, 2)\n",
    "plt.hist([r2], bins=20, color='salmon', edgecolor='black')\n",
    "plt.title(\"R^2 Distribution\")\n",
    "plt.xlabel(\"R^2\")\n",
    "plt.ylabel(\"Frequency\")\n",
    "\n",
    "plt.tight_layout()\n",
    "plt.show()"
   ]
  },
  {
   "cell_type": "markdown",
   "metadata": {},
   "source": [
    "#### 6c. Initial Autocorrelation Results"
   ]
  },
  {
   "cell_type": "code",
   "execution_count": null,
   "metadata": {},
   "outputs": [],
   "source": [
    "# Determine the core areas of highest quality wetland restoration land (8,9,10)\n",
    "\n",
    "# Set environment\n",
    "arcpy.env.workspace = r\"C:\\Users\\ethan\\Documents\\ArcGIS\\Projects\\Arc1_FinalProject\\Arc1_FinalProject.gdb\"\n",
    "arcpy.env.overwriteOutput = True\n",
    "\n",
    "# Input raster\n",
    "input_raster = r\"C:\\Users\\ethan\\Documents\\ArcGIS\\Projects\\Arc1_FinalProject\\Arc1_FinalProject.gdb\\WtOv_Equal_t2\"\n",
    "\n",
    "# Check out the Spatial Analyst extension\n",
    "arcpy.CheckOutExtension(\"Spatial\")\n",
    "\n",
    "# Step 1: Reclassify raster to isolate values 8, 9, and 10\n",
    "reclassified_raster = \"Reclassified_WtOv\"\n",
    "remap = arcpy.sa.RemapValue([[8, 1], [9, 1], [10, 1]])  # 1 for best wetlands, 0 for others\n",
    "reclass = arcpy.sa.Reclassify(input_raster, \"VALUE\", remap, \"NODATA\")\n",
    "reclass.save(reclassified_raster)\n",
    "\n",
    "# Step 2: Group neighboring cells\n",
    "region_group_raster = \"RegionGroup_WtOv\"\n",
    "region_group = arcpy.sa.RegionGroup(reclassified_raster, \"EIGHT\", \"WITHIN\", \"ADD_LINK\")\n",
    "region_group.save(region_group_raster)\n",
    "\n",
    "# Step 3: Filter small regions\n",
    "# Calculate cell counts for each region using Zonal Statistics\n",
    "zone_field = \"VALUE\"\n",
    "cell_size = arcpy.GetRasterProperties_management(input_raster, \"CELLSIZEX\")  # Get cell size for area calculation\n",
    "region_size_raster = \"RegionSize_WtOv\"\n",
    "zonal_stats = arcpy.sa.ZonalStatistics(region_group_raster, zone_field, reclassified_raster, \"SUM\")\n",
    "zonal_stats.save(region_size_raster)\n",
    "\n",
    "# Filter regions based on minimum size threshold\n",
    "min_size_cells = 5  # Minimum number of cells for a region to be retained\n",
    "filtered_raster = \"Filtered_WtOv\"\n",
    "filtered = arcpy.sa.Con(zonal_stats >= min_size_cells, region_group_raster)\n",
    "filtered.save(filtered_raster)\n",
    "\n",
    "# Step 4: Convert raster to polygons\n",
    "output_polygon = r\"C:\\Users\\ethan\\Documents\\ArcGIS\\Projects\\Arc1_FinalProject\\BestWetlandAreas.shp\"\n",
    "arcpy.RasterToPolygon_conversion(filtered_raster, output_polygon, \"NO_SIMPLIFY\", \"VALUE\")\n",
    "\n",
    "# Step 5: Add area calculation\n",
    "arcpy.AddGeometryAttributes_management(output_polygon, \"AREA\", Area_Unit=\"SQUARE_METERS\")\n",
    "\n",
    "# Optional: Filter polygons by area (example threshold: 100 square meters)\n",
    "final_polygon = r\"C:\\Users\\ethan\\Documents\\ArcGIS\\Projects\\Arc1_FinalProject\\FinalWetlandAreas.shp\"\n",
    "area_threshold = 100  # in square meters\n",
    "arcpy.analysis.Select(output_polygon, final_polygon, f\"AREA >= {area_threshold}\")\n",
    "\n",
    "print(\"Best wetland areas identified and saved as polygons.\")"
   ]
  },
  {
   "cell_type": "code",
   "execution_count": 13,
   "metadata": {},
   "outputs": [
    {
     "name": "stdout",
     "output_type": "stream",
     "text": [
      "Moran's I analysis has completed.\n"
     ]
    }
   ],
   "source": [
    "# Calculate Moran's I for BestWetlandAreas\n",
    "\n",
    "arcpy.env.workspace = r\"C:\\Users\\ethan\\Documents\\ArcGIS\\Projects\\Arc1_FinalProject\\Arc1_FinalProject.gdb\"\n",
    "\n",
    "arcpy.stats.SpatialAutocorrelation(\n",
    "    Input_Feature_Class=\"BestWetlandAreas\",  # Path to your polygon feature class\n",
    "    Input_Field=\"gridcode\",  # Field to analyze spatial autocorrelation\n",
    "    Generate_Report=True,  # Boolean value to generate a report\n",
    "    Conceptualization_of_Spatial_Relationships=\"INVERSE_DISTANCE_SQUARED\",  # Relationship type\n",
    "    Distance_Method=\"EUCLIDEAN_DISTANCE\",  # How distances are calculated\n",
    "    Standardization=\"ROW\",  # Standardization method for weights\n",
    "    Distance_Band_or_Threshold_Distance=\"\",  # Optional, empty for automatic calculation\n",
    "    Weights_Matrix_File=\"\",  # Optional, not needed for inverse distance\n",
    "    number_of_neighbors=None  # Removed: not a parameter for this tool\n",
    ")\n",
    "\n",
    "print(\"Moran's I analysis has completed.\")"
   ]
  },
  {
   "cell_type": "markdown",
   "metadata": {},
   "source": [
    "___"
   ]
  },
  {
   "cell_type": "markdown",
   "metadata": {},
   "source": [
    "### 7. Subdivide the Watershed for Analysis"
   ]
  },
  {
   "cell_type": "markdown",
   "metadata": {},
   "source": [
    "#### 7a. Create a Stacked Grid within Watershed Polygon (250 acres)"
   ]
  },
  {
   "cell_type": "code",
   "execution_count": 4,
   "metadata": {},
   "outputs": [
    {
     "name": "stdout",
     "output_type": "stream",
     "text": [
      "Subdivision completed with 1 Squarekilometers units.\n"
     ]
    }
   ],
   "source": [
    "# Make equal areas around 1km2 (~250 acres, mean acreage in MN ~460 acres)\n",
    "\n",
    "target_area = \"1 Squarekilometers\"\n",
    "\n",
    "arcpy.management.SubdividePolygon(\n",
    "    in_polygons=\"WBD HUC 12 selection\",\n",
    "    out_feature_class=r\"C:\\Users\\ethan\\Documents\\ArcGIS\\Projects\\Arc1_FinalProject\\Arc1_FinalProject.gdb\\Wtrshd_Subs\",\n",
    "    method=\"EQUAL_AREAS\",\n",
    "    num_areas=None,\n",
    "    target_area=target_area,\n",
    "    target_width=None,\n",
    "    split_angle=0,\n",
    "    subdivision_type=\"STACKED_BLOCKS\"\n",
    ")\n",
    "\n",
    "print(f\"Subdivision completed with {target_area} units.\")"
   ]
  },
  {
   "cell_type": "markdown",
   "metadata": {},
   "source": [
    "#### 7b. Apply Zonal Statistics for Equal Weight Mean and DNR Model Mean"
   ]
  },
  {
   "cell_type": "code",
   "execution_count": 8,
   "metadata": {},
   "outputs": [
    {
     "name": "stdout",
     "output_type": "stream",
     "text": [
      "Zonal mean statistics calculated and saved to C:\\Users\\ethan\\Documents\\ArcGIS\\Projects\\Arc1_FinalProject\\Arc1_FinalProject.gdb\\Zonal_EqWt_T2\n"
     ]
    }
   ],
   "source": [
    "# Use Zonal Statistics to calculate the mean for each subdivided polygon\n",
    "raster_layer = r\"C:\\Users\\ethan\\Documents\\ArcGIS\\Projects\\Arc1_FinalProject\\Arc1_FinalProject.gdb\\WtOv_Equal_t2\"\n",
    "subdivided_polygons = r\"C:\\Users\\ethan\\Documents\\ArcGIS\\Projects\\Arc1_FinalProject\\Arc1_FinalProject.gdb\\Wtrshd_Subs\"\n",
    "\n",
    "# Run Zonal Statistics As Table\n",
    "out_table = r\"C:\\Users\\ethan\\Documents\\ArcGIS\\Projects\\Arc1_FinalProject\\Arc1_FinalProject.gdb\\Zonal_EqWt_T2\"\n",
    "arcpy.sa.ZonalStatisticsAsTable(subdivided_polygons, \"FID\", raster_layer, out_table, statistics_type=\"MEAN\")\n",
    "\n",
    "print(f\"Zonal mean statistics calculated and saved to {out_table}\")"
   ]
  },
  {
   "cell_type": "code",
   "execution_count": 12,
   "metadata": {},
   "outputs": [
    {
     "name": "stdout",
     "output_type": "stream",
     "text": [
      "Zonal mean values were added to subdivided polygons in C:\\Users\\ethan\\Documents\\ArcGIS\\Projects\\Arc1_FinalProject\\Arc1_FinalProject.gdb\\Wtrshd_Subs.\n"
     ]
    }
   ],
   "source": [
    "# Add zonal equal weight value to subdivided areas\n",
    "subdivided_polygons = r\"C:\\Users\\ethan\\Documents\\ArcGIS\\Projects\\Arc1_FinalProject\\Arc1_FinalProject.gdb\\Wtrshd_Subs\"\n",
    "out_table = r\"C:\\Users\\ethan\\Documents\\ArcGIS\\Projects\\Arc1_FinalProject\\Arc1_FinalProject.gdb\\Zonal_EqWt_T2\"\n",
    "\n",
    "# Add the zonal mean value as a new field in the subdivided polygon layer\n",
    "field_name = \"EqWt_Zonal\"\n",
    "arcpy.AddField_management(subdivided_polygons, field_name, \"DOUBLE\")\n",
    "\n",
    "arcpy.management.AddJoin(\n",
    "    in_layer_or_view=\"Wtrshd_Subs\",\n",
    "    in_field=\"OBJECTID\",\n",
    "    join_table=\"Zonal_EqWt_T2\",\n",
    "    join_field=\"OBJECTID\",\n",
    "    join_type=\"KEEP_ALL\",\n",
    "    index_join_fields=\"NO_INDEX_JOIN_FIELDS\",\n",
    "    rebuild_index=\"NO_REBUILD_INDEX\"\n",
    ")\n",
    "\n",
    "print(f\"Zonal mean values were added to subdivided polygons in {subdivided_polygons}.\")"
   ]
  },
  {
   "cell_type": "markdown",
   "metadata": {},
   "source": [
    "#### Equal Weight Zonal Stats"
   ]
  },
  {
   "cell_type": "code",
   "execution_count": 52,
   "metadata": {},
   "outputs": [
    {
     "name": "stdout",
     "output_type": "stream",
     "text": [
      "Zonal mean statistics calculated and saved to C:\\Users\\ethan\\Documents\\ArcGIS\\Projects\\Arc1_FinalProject\\Arc1_FinalProject.gdb\\Zonal_Wetland\n"
     ]
    }
   ],
   "source": [
    "# Use zonal stats on the Wetland Restorable layer for comparison\n",
    "\n",
    "raster_layer = r\"C:\\Users\\ethan\\Documents\\ArcGIS\\Projects\\Arc1_FinalProject\\Arc1_FinalProject.gdb\\WtOv_Equal_t2\"\n",
    "subdivided_polygons = r\"C:\\Users\\ethan\\Documents\\ArcGIS\\Projects\\Arc1_FinalProject\\Arc1_FinalProject.gdb\\Wtrshd_Subs\"\n",
    "\n",
    "# Add the zonal mean value as a new field in the subdivided polygon layer\n",
    "field_name = \"Wetland_Zonal\"\n",
    "arcpy.AddField_management(subdivided_polygons, field_name, \"DOUBLE\")\n",
    "\n",
    "# Run Zonal Statistics As Table\n",
    "out_table = r\"C:\\Users\\ethan\\Documents\\ArcGIS\\Projects\\Arc1_FinalProject\\Arc1_FinalProject.gdb\\Zonal_Wetland\"\n",
    "arcpy.sa.ZonalStatisticsAsTable(subdivided_polygons, \"FID\", raster_layer, out_table, statistics_type=\"MEAN\")\n",
    "\n",
    "print(f\"Zonal mean statistics calculated and saved to {out_table}\")\n"
   ]
  },
  {
   "cell_type": "code",
   "execution_count": 53,
   "metadata": {},
   "outputs": [
    {
     "name": "stdout",
     "output_type": "stream",
     "text": [
      "Zonal mean values were added to subdivided polygons in C:\\Users\\ethan\\Documents\\ArcGIS\\Projects\\Arc1_FinalProject\\Arc1_FinalProject.gdb\\Wtrshd_Subs.\n"
     ]
    }
   ],
   "source": [
    "# Add zonal equal weight value to subdivided areas\n",
    "subdivided_polygons = r\"C:\\Users\\ethan\\Documents\\ArcGIS\\Projects\\Arc1_FinalProject\\Arc1_FinalProject.gdb\\Wtrshd_Subs\"\n",
    "out_table = r\"C:\\Users\\ethan\\Documents\\ArcGIS\\Projects\\Arc1_FinalProject\\Arc1_FinalProject.gdb\\Zonal_MN_DNR\"\n",
    "\n",
    "# Add the zonal mean value as a new field in the subdivided polygon layer\n",
    "field_name = \"Wetland_Zonal\"\n",
    "arcpy.AddField_management(subdivided_polygons, field_name, \"DOUBLE\")\n",
    "\n",
    "arcpy.management.AddJoin(\n",
    "    in_layer_or_view=\"Wtrshd_Subs\",\n",
    "    in_field=\"OBJECTID\",\n",
    "    join_table=\"Zonal_Wetland\",\n",
    "    join_field=\"OBJECTID\",\n",
    "    join_type=\"KEEP_ALL\",\n",
    "    index_join_fields=\"NO_INDEX_JOIN_FIELDS\",\n",
    "    rebuild_index=\"NO_REBUILD_INDEX\"\n",
    ")\n",
    "\n",
    "print(f\"Zonal mean values were added to subdivided polygons in {subdivided_polygons}.\")"
   ]
  },
  {
   "cell_type": "markdown",
   "metadata": {},
   "source": [
    "#### DNR Model Zonal Stats"
   ]
  },
  {
   "cell_type": "code",
   "execution_count": 47,
   "metadata": {},
   "outputs": [
    {
     "name": "stdout",
     "output_type": "stream",
     "text": [
      "Zonal mean statistics calculated and saved to C:\\Users\\ethan\\Documents\\ArcGIS\\Projects\\Arc1_FinalProject\\Arc1_FinalProject.gdb\\Zonal_MN_DNR\n"
     ]
    }
   ],
   "source": [
    "# Use zonal stats on the MN DNR Model for comparison\n",
    "\n",
    "raster_layer = r\"C:\\Users\\ethan\\Documents\\ArcGIS\\Projects\\Arc1_FinalProject\\Arc1_FinalProject.gdb\\mn_restorable_wetland_i_Clip1\"\n",
    "subdivided_polygons = r\"C:\\Users\\ethan\\Documents\\ArcGIS\\Projects\\Arc1_FinalProject\\Arc1_FinalProject.gdb\\Wtrshd_Subs\"\n",
    "\n",
    "# Add the zonal mean value as a new field in the subdivided polygon layer\n",
    "field_name = \"DNR_Zonal\"\n",
    "arcpy.AddField_management(subdivided_polygons, field_name, \"DOUBLE\")\n",
    "\n",
    "# Run Zonal Statistics As Table\n",
    "out_table = r\"C:\\Users\\ethan\\Documents\\ArcGIS\\Projects\\Arc1_FinalProject\\Arc1_FinalProject.gdb\\Zonal_MN_DNR\"\n",
    "arcpy.sa.ZonalStatisticsAsTable(subdivided_polygons, \"FID\", raster_layer, out_table, statistics_type=\"MEAN\")\n",
    "\n",
    "print(f\"Zonal mean statistics calculated and saved to {out_table}\")\n"
   ]
  },
  {
   "cell_type": "code",
   "execution_count": 48,
   "metadata": {},
   "outputs": [
    {
     "name": "stdout",
     "output_type": "stream",
     "text": [
      "Zonal mean values were added to subdivided polygons in C:\\Users\\ethan\\Documents\\ArcGIS\\Projects\\Arc1_FinalProject\\Arc1_FinalProject.gdb\\Wtrshd_Subs.\n"
     ]
    }
   ],
   "source": [
    "# Add zonal equal weight value to subdivided areas\n",
    "subdivided_polygons = r\"C:\\Users\\ethan\\Documents\\ArcGIS\\Projects\\Arc1_FinalProject\\Arc1_FinalProject.gdb\\Wtrshd_Subs\"\n",
    "out_table = r\"C:\\Users\\ethan\\Documents\\ArcGIS\\Projects\\Arc1_FinalProject\\Arc1_FinalProject.gdb\\Zonal_MN_DNR\"\n",
    "\n",
    "# Add the zonal mean value as a new field in the subdivided polygon layer\n",
    "field_name = \"DNR_Zonal\"\n",
    "arcpy.AddField_management(subdivided_polygons, field_name, \"DOUBLE\")\n",
    "\n",
    "arcpy.management.AddJoin(\n",
    "    in_layer_or_view=\"Wtrshd_Subs\",\n",
    "    in_field=\"OBJECTID\",\n",
    "    join_table=\"Zonal_MN_DNR\",\n",
    "    join_field=\"OBJECTID\",\n",
    "    join_type=\"KEEP_ALL\",\n",
    "    index_join_fields=\"NO_INDEX_JOIN_FIELDS\",\n",
    "    rebuild_index=\"NO_REBUILD_INDEX\"\n",
    ")\n",
    "\n",
    "print(f\"Zonal mean values were added to subdivided polygons in {subdivided_polygons}.\")"
   ]
  },
  {
   "cell_type": "markdown",
   "metadata": {},
   "source": [
    "#### 7c. Compare the Zonal Statistics (RMSE, R2)"
   ]
  },
  {
   "cell_type": "code",
   "execution_count": 62,
   "metadata": {},
   "outputs": [
    {
     "name": "stdout",
     "output_type": "stream",
     "text": [
      "Root Mean Square Error (RMSE): 4.610074837094119\n",
      "R² (Coefficient of Determination): -26.042197295967487\n",
      "\n",
      "Descriptive Statistics:\n",
      "       Wetland_Zonal   DNR_Zonal\n",
      "count     219.000000  219.000000\n",
      "mean        7.176009    2.642489\n",
      "std         0.888548    0.361384\n",
      "min         3.036585    2.101930\n",
      "25%         6.616361    2.385215\n",
      "50%         7.187826    2.598541\n",
      "75%         7.771302    2.813125\n",
      "max         9.001736    4.091886\n"
     ]
    }
   ],
   "source": [
    "# Compare the Equal Weight Score and DNR Score\n",
    "\n",
    "import arcpy\n",
    "import pandas as pd\n",
    "import numpy as np\n",
    "from sklearn.metrics import mean_squared_error, r2_score\n",
    "\n",
    "# Path to the subdivided polygons feature class\n",
    "subdivided_polygons = r\"C:\\Users\\ethan\\Documents\\ArcGIS\\Projects\\Arc1_FinalProject\\Arc1_FinalProject.gdb\\Wtrshd_Subs\"\n",
    "\n",
    "# Fields for Equal Weight and DNR scores (replace with actual field names from your table)\n",
    "fields = [\"Wetland_Zonal\", \"DNR_Zonal\"]\n",
    "\n",
    "# Extract the fields into a numpy array\n",
    "data_array = arcpy.da.TableToNumPyArray(subdivided_polygons, fields)\n",
    "\n",
    "# Convert to a pandas DataFrame\n",
    "df = pd.DataFrame(data_array)\n",
    "\n",
    "# Drop rows with missing values (important for RMSE/R² calculations)\n",
    "df = df.dropna()\n",
    "\n",
    "# Extract values as separate numpy arrays\n",
    "y_true = df[\"Wetland_Zonal\"].values  # Ground truth (Equal Weight)\n",
    "y_pred = df[\"DNR_Zonal\"].values      # Predicted values (DNR Score)\n",
    "\n",
    "# Compute RMSE\n",
    "rmse = np.sqrt(mean_squared_error(y_true, y_pred))\n",
    "\n",
    "# Compute R² (Coefficient of Determination)\n",
    "r2 = r2_score(y_true, y_pred)\n",
    "\n",
    "# Print Results\n",
    "print(\"Root Mean Square Error (RMSE):\", rmse)\n",
    "print(\"R² (Coefficient of Determination):\", r2)\n",
    "\n",
    "# Optional: Display basic stats for context\n",
    "print(\"\\nDescriptive Statistics:\")\n",
    "print(df.describe())"
   ]
  },
  {
   "cell_type": "code",
   "execution_count": 64,
   "metadata": {},
   "outputs": [
    {
     "name": "stdout",
     "output_type": "stream",
     "text": [
      "Normalized RMSE: 0.46374066862340324\n",
      "Normalized R²: -8.736867050343312\n"
     ]
    }
   ],
   "source": [
    "from sklearn.preprocessing import MinMaxScaler\n",
    "\n",
    "scaler = MinMaxScaler()\n",
    "y_true_norm = scaler.fit_transform(y_true.reshape(-1, 1)).flatten()\n",
    "y_pred_norm = scaler.fit_transform(y_pred.reshape(-1, 1)).flatten()\n",
    "\n",
    "# Compute normalized RMSE and R²\n",
    "rmse_norm = np.sqrt(mean_squared_error(y_true_norm, y_pred_norm))\n",
    "r2_norm = r2_score(y_true_norm, y_pred_norm)\n",
    "\n",
    "print(\"Normalized RMSE:\", rmse_norm)\n",
    "print(\"Normalized R²:\", r2_norm)"
   ]
  },
  {
   "cell_type": "code",
   "execution_count": 67,
   "metadata": {},
   "outputs": [],
   "source": [
    "import matplotlib.pyplot as plt\n",
    "\n",
    "plt.scatter(y_true, y_pred, c=\"blue\", label=\"Data Points\")\n",
    "plt.plot(y_true, y_true, color=\"red\", linestyle=\"--\", label=\"1:1 Line\")\n",
    "plt.xlabel(\"Wetland Zonal (Equal Weight)\")\n",
    "plt.ylabel(\"DNR Zonal\")\n",
    "plt.title(\"Scatter Plot: Equal Weight vs DNR\")\n",
    "plt.legend()\n",
    "plt.grid()\n",
    "plt.show()"
   ]
  },
  {
   "cell_type": "markdown",
   "metadata": {},
   "source": [
    "#### Attempt to Create Average of 100 Random Layers"
   ]
  },
  {
   "cell_type": "code",
   "execution_count": 14,
   "metadata": {},
   "outputs": [
    {
     "name": "stdout",
     "output_type": "stream",
     "text": [
      "Average raster saved to C:\\Users\\ethan\\Documents\\ArcGIS\\Projects\\Arc1_FinalProject\\RandWeights_100.gdb\\Average_Random_Weights\n"
     ]
    }
   ],
   "source": [
    "# Create an Average Layer for the 100 Random Value Layers\n",
    "import arcpy\n",
    "import numpy as np\n",
    "\n",
    "# Set environment settings\n",
    "arcpy.env.workspace = r\"C:\\Users\\ethan\\Documents\\ArcGIS\\Projects\\Arc1_FinalProject\\RandWeights_100.gdb\"\n",
    "arcpy.env.overwriteOutput = True\n",
    "\n",
    "# List all rasters in the RandWeights_100.gdb workspace\n",
    "random_weight_rasters = arcpy.ListRasters()\n",
    "\n",
    "# Check if there are rasters to process\n",
    "if len(random_weight_rasters) > 0:\n",
    "    # Initialize a variable to store the sum of all rasters\n",
    "    total_array = None\n",
    "    raster_count = 0\n",
    "    \n",
    "    # Convert the first raster to a raster object to access its properties\n",
    "    first_raster = arcpy.Raster(random_weight_rasters[0])\n",
    "    \n",
    "    # Iterate through all the rasters\n",
    "    for raster in random_weight_rasters:\n",
    "        # Convert each raster to a NumPy array\n",
    "        raster_array = arcpy.RasterToNumPyArray(raster)\n",
    "        \n",
    "        # If this is the first raster, initialize the total_array\n",
    "        if total_array is None:\n",
    "            total_array = raster_array\n",
    "        else:\n",
    "            # Add the current raster's array to the total sum\n",
    "            total_array += raster_array\n",
    "        \n",
    "        # Increment the raster count\n",
    "        raster_count += 1\n",
    "    \n",
    "    # Calculate the average by dividing the total sum by the number of rasters\n",
    "    if raster_count > 0:\n",
    "        average_array = total_array / raster_count\n",
    "        \n",
    "        # Convert the NumPy array back to a raster\n",
    "        average_raster = arcpy.NumPyArrayToRaster(average_array, \n",
    "                                                  first_raster.extent.lowerLeft, \n",
    "                                                  first_raster.meanCellWidth, \n",
    "                                                  first_raster.meanCellHeight)\n",
    "        \n",
    "        # Save the result\n",
    "        output_raster = r\"C:\\Users\\ethan\\Documents\\ArcGIS\\Projects\\Arc1_FinalProject\\RandWeights_100.gdb\\Average_Random_Weights\"\n",
    "        average_raster.save(output_raster)\n",
    "        \n",
    "        print(f\"Average raster saved to {output_raster}\")\n",
    "    else:\n",
    "        print(\"No rasters found in the workspace.\")\n",
    "else:\n",
    "    print(\"No random weight rasters found.\")"
   ]
  },
  {
   "cell_type": "markdown",
   "metadata": {},
   "source": [
    "___"
   ]
  }
 ],
 "metadata": {
  "kernelspec": {
   "display_name": "ArcGISPro",
   "language": "Python",
   "name": "python3"
  },
  "language_info": {
   "file_extension": ".py",
   "name": "python",
   "version": "3"
  }
 },
 "nbformat": 4,
 "nbformat_minor": 2
}
