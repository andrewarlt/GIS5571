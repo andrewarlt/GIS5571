{
 "cells": [
  {
   "cell_type": "markdown",
   "metadata": {},
   "source": [
    "### Final Project: Wetland Restoration Suitability Map\n",
    "\n",
    "This project aims to use cost surface analysis to identify high quality areas for wetland restoration projects. High quality wetland restoration areas are defined as places with hydrologic connection and proximity to existing wetland areas.\n",
    "\n",
    "____"
   ]
  },
  {
   "cell_type": "markdown",
   "metadata": {},
   "source": [
    "### Part 1: API Requests and File Extraction/Transformation"
   ]
  },
  {
   "cell_type": "markdown",
   "metadata": {},
   "source": [
    "#### 0. Import Libraries and Establish Common Terms"
   ]
  },
  {
   "cell_type": "code",
   "execution_count": 8,
   "metadata": {},
   "outputs": [],
   "source": [
    "# Import Libraries\n",
    "import io\n",
    "import os\n",
    "import sys\n",
    "import arcpy\n",
    "import laspy\n",
    "from zipfile import ZipFile\n",
    "import zipfile\n",
    "import pandas as pd\n",
    "import requests\n",
    "import ftplib\n",
    "from bs4 import BeautifulSoup as bs\n",
    "from arcgis.features import GeoAccessor, GeoSeriesAccessor, FeatureCollection, FeatureSet\n",
    "from arcpy import env\n",
    "from arcpy.sa import *"
   ]
  },
  {
   "cell_type": "code",
   "execution_count": 2,
   "metadata": {},
   "outputs": [],
   "source": [
    "# Common Terms for all layers\n",
    "\n",
    "# Boundary Extent (not watershed boundary)\n",
    "# Top\t4,887,308.789800\tm\n",
    "# Bottom\t4,868,689.051000\tm\n",
    "# Left\t379,749.855800\tm\n",
    "# Right\t399,383.588100\tm"
   ]
  },
  {
   "cell_type": "markdown",
   "metadata": {},
   "source": [
    "#### 1a. NWI API Extraction"
   ]
  },
  {
   "cell_type": "code",
   "execution_count": 23,
   "metadata": {
    "scrolled": true
   },
   "outputs": [
    {
     "name": "stdout",
     "output_type": "stream",
     "text": [
      "Downloading NWI MN ZIP file (1533.03 MB)...\n"
     ]
    },
    {
     "name": "stderr",
     "output_type": "stream",
     "text": [
      "Downloading: 100%|██████████| 1.61G/1.61G [00:56<00:00, 28.7MB/s]﻿\n"
     ]
    },
    {
     "name": "stdout",
     "output_type": "stream",
     "text": [
      "File Name                                             Modified             Size\n",
      "NWI Cowardin Classification.lyr                2019-06-07 13:45:14        22016\n",
      "NWI USFWS Circular 39 Classification.lyr       2019-06-07 13:45:46        20992\n",
      "NWI Simplified HGM Classification.lyr          2019-06-07 13:45:22        18432\n",
      "NWI Simplified Plant Community Classification.lyr 2019-06-07 13:45:36        28160\n",
      "metadata/metadata.html                         2024-03-28 16:42:04        41011\n",
      "metadata/metadata.xml                          2024-03-28 16:41:56        38116\n",
      "water_nat_wetlands_inv_2009-2014.gdb/a00000038.gdbtable 2019-06-20 17:04:42          594\n",
      "water_nat_wetlands_inv_2009-2014.gdb/a00000037.gdbtable.cdf 2019-06-20 17:04:42         2975\n",
      "water_nat_wetlands_inv_2009-2014.gdb/a00000039.gdbtable.cdf 2019-06-20 17:04:42       310343\n",
      "water_nat_wetlands_inv_2009-2014.gdb/a00000004.gdbtable 2019-06-20 17:36:24        32773\n",
      "water_nat_wetlands_inv_2009-2014.gdb/a00000006.gdbindexes 2015-04-01 21:28:40          318\n",
      "water_nat_wetlands_inv_2009-2014.gdb/a00000007.gdbindexes 2015-04-01 21:28:42          602\n",
      "water_nat_wetlands_inv_2009-2014.gdb/a00000007.CatRelTypesByBackwardLabel.atx 2021-05-03 05:21:20        12310\n",
      "water_nat_wetlands_inv_2009-2014.gdb/a00000004.CatItemsByType.atx 2019-06-19 13:53:14         4118\n",
      "water_nat_wetlands_inv_2009-2014.gdb/a00000007.CatRelTypesByForwardLabel.atx 2021-05-03 05:21:20        12310\n",
      "water_nat_wetlands_inv_2009-2014.gdb/a00000007.gdbtable 2021-05-03 05:21:20         3626\n",
      "water_nat_wetlands_inv_2009-2014.gdb/a00000004.gdbindexes 2015-04-01 21:28:40          310\n",
      "water_nat_wetlands_inv_2009-2014.gdb/a00000005.CatItemTypesByName.atx 2021-05-03 05:21:20        12310\n",
      "water_nat_wetlands_inv_2009-2014.gdb/a00000004.horizon 2021-05-03 05:21:18           32\n",
      "water_nat_wetlands_inv_2009-2014.gdb/a00000001.gdbtable 2019-06-20 17:14:40          408\n",
      "water_nat_wetlands_inv_2009-2014.gdb/a00000037.gdbtable 2019-06-20 17:04:42          688\n",
      "water_nat_wetlands_inv_2009-2014.gdb/a00000003.gdbindexes 2015-04-01 21:28:40           42\n",
      "water_nat_wetlands_inv_2009-2014.gdb/a00000007.gdbtablx 2021-05-03 05:21:20         5152\n",
      "water_nat_wetlands_inv_2009-2014.gdb/a00000001.gdbtablx 2019-06-20 17:14:40         5152\n",
      "water_nat_wetlands_inv_2009-2014.gdb/a00000001.TablesByName.atx 2019-06-19 13:53:14        12310\n",
      "water_nat_wetlands_inv_2009-2014.gdb/a00000038.gdbtable.cdf 2019-06-20 17:04:42         1324\n",
      "water_nat_wetlands_inv_2009-2014.gdb/a00000039.gdbtable 2019-06-20 17:04:42          659\n",
      "water_nat_wetlands_inv_2009-2014.gdb/a00000004.gdbtablx 2019-06-20 17:36:24         5152\n",
      "water_nat_wetlands_inv_2009-2014.gdb/a00000004.spx 2019-06-19 13:53:52         4118\n",
      "water_nat_wetlands_inv_2009-2014.gdb/a00000005.gdbtable 2021-05-03 05:21:20         2021\n",
      "water_nat_wetlands_inv_2009-2014.gdb/a00000002.gdbtablx 2019-06-20 17:04:12         5152\n",
      "water_nat_wetlands_inv_2009-2014.gdb/a00000039.gdbtable.FDO_OBJECTID.gdbtabidx 2019-06-20 17:04:42         8192\n",
      "water_nat_wetlands_inv_2009-2014.gdb/a00000037.gdbtable.attribute.gdbtabidx 2019-06-20 17:04:42         8192\n",
      "water_nat_wetlands_inv_2009-2014.gdb/a00000002.gdbtable 2015-04-01 21:28:40         2055\n",
      "water_nat_wetlands_inv_2009-2014.gdb/a00000038.gdbtable.FDO_OBJECTID.gdbtabidx 2019-06-20 17:04:42         8192\n",
      "water_nat_wetlands_inv_2009-2014.gdb/a00000004.freelist 2019-06-20 17:36:24         4440\n",
      "water_nat_wetlands_inv_2009-2014.gdb/a00000005.gdbtablx 2021-05-03 05:21:20         5152\n",
      "water_nat_wetlands_inv_2009-2014.gdb/a00000005.CatItemTypesByParentTypeID.atx 2021-05-03 05:21:20         4118\n",
      "water_nat_wetlands_inv_2009-2014.gdb/a00000001.gdbindexes 2015-04-01 21:28:40          110\n",
      "water_nat_wetlands_inv_2009-2014.gdb/a00000003.gdbtable 2015-04-01 21:30:08         1037\n",
      "water_nat_wetlands_inv_2009-2014.gdb/a0000003c.gdbtable 2019-06-20 17:14:40          656\n",
      "water_nat_wetlands_inv_2009-2014.gdb/a00000006.CatRelsByType.atx 2019-06-19 13:53:14         4118\n",
      "water_nat_wetlands_inv_2009-2014.gdb/a00000007.CatRelTypesByDestItemTypeID.atx 2021-05-03 05:21:20         4118\n",
      "water_nat_wetlands_inv_2009-2014.gdb/gdb       2015-04-01 21:28:40            4\n",
      "water_nat_wetlands_inv_2009-2014.gdb/a00000005.gdbindexes 2015-04-01 21:28:42          296\n",
      "water_nat_wetlands_inv_2009-2014.gdb/a00000007.CatRelTypesByName.atx 2021-05-03 05:21:20        12310\n",
      "water_nat_wetlands_inv_2009-2014.gdb/a00000003.gdbtablx 2019-06-20 17:04:12         5152\n",
      "water_nat_wetlands_inv_2009-2014.gdb/a00000006.CatRelsByOriginID.atx 2019-06-19 13:53:14         4118\n",
      "water_nat_wetlands_inv_2009-2014.gdb/timestamps 2021-05-03 05:21:20          400\n",
      "water_nat_wetlands_inv_2009-2014.gdb/a00000007.CatRelTypesByOriginItemTypeID.atx 2021-05-03 05:21:20         4118\n",
      "water_nat_wetlands_inv_2009-2014.gdb/a00000005.CatItemTypesByUUID.atx 2021-05-03 05:21:20         4118\n",
      "water_nat_wetlands_inv_2009-2014.gdb/a00000006.FDO_UUID.atx 2019-06-19 13:53:14         4118\n",
      "water_nat_wetlands_inv_2009-2014.gdb/a0000003c.gdbtable.FDO_OBJECTID.gdbtabidx 2019-06-20 17:14:38      2596864\n",
      "water_nat_wetlands_inv_2009-2014.gdb/a00000006.gdbtable 2019-06-20 17:04:12          555\n",
      "water_nat_wetlands_inv_2009-2014.gdb/a0000003c.gdbtable.cdf 2019-06-20 17:14:34   1680936382\n",
      "water_nat_wetlands_inv_2009-2014.gdb/a00000037.gdbtable.FDO_OBJECTID.gdbtabidx 2019-06-20 17:04:42         8192\n",
      "water_nat_wetlands_inv_2009-2014.gdb/a00000007.CatRelTypesByUUID.atx 2021-05-03 05:21:20         4118\n",
      "water_nat_wetlands_inv_2009-2014.gdb/a00000006.gdbtablx 2019-06-20 17:04:12         5152\n",
      "water_nat_wetlands_inv_2009-2014.gdb/a00000004.FDO_UUID.atx 2019-06-19 13:53:14         4118\n",
      "water_nat_wetlands_inv_2009-2014.gdb/a00000004.CatItemsByPhysicalName.atx 2019-06-19 13:53:14         4118\n",
      "water_nat_wetlands_inv_2009-2014.gdb/a00000006.CatRelsByDestinationID.atx 2019-06-19 13:53:14         4118\n",
      "Files in the extracted directory:\n",
      "['metadata', 'NWI Cowardin Classification.lyr', 'NWI Simplified HGM Classification.lyr', 'NWI Simplified Plant Community Classification.lyr', 'NWI USFWS Circular 39 Classification.lyr', 'water_nat_wetlands_inv_2009-2014.gdb']\n"
     ]
    }
   ],
   "source": [
    "# Extract NWI Data\n",
    "\n",
    "# Define the URL and the output path for the ZIP file (MN State Wetlands NWI)\n",
    "url = r\"https://resources.gisdata.mn.gov/pub/gdrs/data/pub/us_mn_state_dnr/water_nat_wetlands_inv_2009_2014/fgdb_water_nat_wetlands_inv_2009_2014.zip\"\n",
    "zip_MN_NWI_path = r\"C:\\Users\\ethan\\Desktop\\ARLT_MGIS\\GIS5571\\FinalProject\\Data\\ZippedFiles\\NWI_MN.zip\"\n",
    "\n",
    "# Create the folder if it doesn't exist\n",
    "os.makedirs(os.path.dirname(zip_MN_NWI_path), exist_ok=True)\n",
    "\n",
    "# Download the file using requests.get(), stream=True for chunked downloading\n",
    "response = requests.get(url, stream=True)\n",
    "\n",
    "# Get the file size from headers (optional, for progress indication)\n",
    "file_size = int(response.headers.get('content-length', 0))\n",
    "print(f\"Downloading NWI MN ZIP file ({file_size / 1024 / 1024:.2f} MB)...\")\n",
    "\n",
    "# Stream the download and show a progress bar\n",
    "with open(zip_MN_NWI_path, 'wb') as f:\n",
    "    with tqdm(total=file_size, unit='B', unit_scale=True, desc=\"Downloading\") as pbar:\n",
    "        for chunk in response.iter_content(chunk_size=1024):\n",
    "            if chunk:  # Filter out keep-alive new chunks\n",
    "                f.write(chunk)\n",
    "                pbar.update(len(chunk))\n",
    "\n",
    "# Open the ZIP file and print its contents\n",
    "with zipfile.ZipFile(zip_MN_NWI_path, 'r') as zip_ref:\n",
    "    # Print the contents of the ZIP file\n",
    "    zip_ref.printdir()\n",
    "\n",
    "    # Create a directory for extraction if it doesn't exist\n",
    "    extraction_path = r\"C:\\Users\\ethan\\Desktop\\ARLT_MGIS\\GIS5571\\FinalProject\\Data\\Extracted\\NWI_MN\"\n",
    "    os.makedirs(extraction_path, exist_ok=True)\n",
    "\n",
    "    # Extract all files to the specified directory\n",
    "    zip_ref.extractall(extraction_path)\n",
    "\n",
    "# Show the files you just extracted\n",
    "print(\"Files in the extracted directory:\")\n",
    "print(os.listdir(extraction_path))"
   ]
  },
  {
   "cell_type": "markdown",
   "metadata": {},
   "source": [
    "#### 1b. Identify Wetland Buffer Area"
   ]
  },
  {
   "cell_type": "markdown",
   "metadata": {},
   "source": [
    "#### 2a. NCLD API Extraction"
   ]
  },
  {
   "cell_type": "code",
   "execution_count": 24,
   "metadata": {},
   "outputs": [
    {
     "name": "stdout",
     "output_type": "stream",
     "text": [
      "Downloading NLCD ZIP file (1868.07 MB)...\n"
     ]
    },
    {
     "name": "stderr",
     "output_type": "stream",
     "text": [
      "Downloading: 100%|██████████| 1.96G/1.96G [01:06<00:00, 29.3MB/s]﻿\n"
     ]
    },
    {
     "name": "stdout",
     "output_type": "stream",
     "text": [
      "File Name                                             Modified             Size\n",
      "nlcd_2021_land_cover_l48_20230630.ige          2023-07-10 13:24:40  26350989969\n",
      "nlcd_2021_land_cover_l48_20230630.img          2023-07-10 15:35:52    435940485\n",
      "nlcd_2021_land_cover_l48_20230630.xml          2023-07-11 14:56:44        48467\n",
      "Files in the extracted directory:\n",
      "['nlcd_2021_land_cover_l48_20230630.ige', 'nlcd_2021_land_cover_l48_20230630.img', 'nlcd_2021_land_cover_l48_20230630.xml']\n"
     ]
    }
   ],
   "source": [
    "# Extract NCLD Land Cover Data\n",
    "\n",
    "# Define the URL and the output path for the ZIP file\n",
    "url = r\"https://s3-us-west-2.amazonaws.com/mrlc/nlcd_2021_land_cover_l48_20230630.zip\"\n",
    "zip_ncld_path = r\"C:\\Users\\ethan\\Desktop\\ARLT_MGIS\\GIS5571\\FinalProject\\Data\\ZippedFiles\\NCLD_2021.zip\"\n",
    "\n",
    "# Create the folder if it doesn't exist\n",
    "os.makedirs(os.path.dirname(zip_ncld_path), exist_ok=True)\n",
    "\n",
    "# Download the file using requests.get(), stream=True for chunked downloading\n",
    "response = requests.get(url, stream=True)\n",
    "\n",
    "# Get the file size from headers (optional, for progress indication)\n",
    "file_size = int(response.headers.get('content-length', 0))\n",
    "print(f\"Downloading NLCD ZIP file ({file_size / 1024 / 1024:.2f} MB)...\")\n",
    "\n",
    "# Stream the download and show a progress bar\n",
    "with open(zip_ncld_path, 'wb') as f:\n",
    "    with tqdm(total=file_size, unit='B', unit_scale=True, desc=\"Downloading\") as pbar:\n",
    "        for chunk in response.iter_content(chunk_size=1024):\n",
    "            if chunk:  # Filter out keep-alive new chunks\n",
    "                f.write(chunk)\n",
    "                pbar.update(len(chunk))\n",
    "\n",
    "# Open the ZIP file and print its contents\n",
    "with zipfile.ZipFile(zip_ncld_path, 'r') as zip_ref:\n",
    "    # Print the contents of the ZIP file\n",
    "    zip_ref.printdir()\n",
    "\n",
    "    # Create a directory for extraction if it doesn't exist\n",
    "    extraction_path = r\"C:\\Users\\ethan\\Desktop\\ARLT_MGIS\\GIS5571\\FinalProject\\Data\\Extracted\\NLCD_2021\"\n",
    "    os.makedirs(extraction_path, exist_ok=True)\n",
    "\n",
    "    # Extract all files to the specified directory\n",
    "    zip_ref.extractall(extraction_path)\n",
    "\n",
    "# Show the files you just extracted\n",
    "print(\"Files in the extracted directory:\")\n",
    "print(os.listdir(extraction_path))"
   ]
  },
  {
   "cell_type": "markdown",
   "metadata": {},
   "source": [
    "#### 2b. Identify Developed Lands and Agricultural/Vegetation Lands"
   ]
  },
  {
   "cell_type": "code",
   "execution_count": 41,
   "metadata": {},
   "outputs": [],
   "source": [
    "# Clip the NCLD Raster to Bounding Box and Reproject as NAD 83 UTM 15N\n",
    "\n",
    "with arcpy.EnvManager(outputCoordinateSystem='PROJCS[\"NAD_1983_UTM_Zone_15N\",GEOGCS[\"GCS_North_American_1983\",DATUM[\"D_North_American_1983\",SPHEROID[\"GRS_1980\",6378137.0,298.257222101]],PRIMEM[\"Greenwich\",0.0],UNIT[\"Degree\",0.0174532925199433]],PROJECTION[\"Transverse_Mercator\"],PARAMETER[\"False_Easting\",500000.0],PARAMETER[\"False_Northing\",0.0],PARAMETER[\"Central_Meridian\",-93.0],PARAMETER[\"Scale_Factor\",0.9996],PARAMETER[\"Latitude_Of_Origin\",0.0],UNIT[\"Meter\",1.0]],VERTCS[\"NAVD_1988\",VDATUM[\"North_American_Vertical_Datum_1988\"],PARAMETER[\"Vertical_Shift\",0.0],PARAMETER[\"Direction\",1.0],UNIT[\"Meter\",1.0]]', snapRaster=r\"C:\\Users\\ethan\\Desktop\\ARLT_MGIS\\GIS5571\\FinalProject\\Data\\Clipped\\slope_dem\", extent='379749.8558 4868689.051 399383.5881 4887308.7898 PROJCS[\"NAD_1983_UTM_Zone_15N\",GEOGCS[\"GCS_North_American_1983\",DATUM[\"D_North_American_1983\",SPHEROID[\"GRS_1980\",6378137.0,298.257222101]],PRIMEM[\"Greenwich\",0.0],UNIT[\"Degree\",0.0174532925199433]],PROJECTION[\"Transverse_Mercator\"],PARAMETER[\"False_Easting\",500000.0],PARAMETER[\"False_Northing\",0.0],PARAMETER[\"Central_Meridian\",-93.0],PARAMETER[\"Scale_Factor\",0.9996],PARAMETER[\"Latitude_Of_Origin\",0.0],UNIT[\"Meter\",1.0]],VERTCS[\"NAVD_1988\",VDATUM[\"North_American_Vertical_Datum_1988\"],PARAMETER[\"Vertical_Shift\",0.0],PARAMETER[\"Direction\",1.0],UNIT[\"Meter\",1.0]]'):\n",
    "    arcpy.management.Clip(\n",
    "        in_raster=r\"C:\\Users\\ethan\\Desktop\\ARLT_MGIS\\GIS5571\\FinalProject\\Data\\Extracted\\NLCD_2021\\nlcd_2021_land_cover_l48_20230630.img\",\n",
    "        rectangle=\"379749.8558 4868689.051 399383.5881 4887308.7898\",\n",
    "        out_raster=r\"C:\\Users\\ethan\\Desktop\\ARLT_MGIS\\GIS5571\\FinalProject\\Data\\Clipped\\NCLD_clipped\",\n",
    "        in_template_dataset=\"restorable_wetlands.tif\",\n",
    "        nodata_value=\"255\",\n",
    "        clipping_geometry=\"NONE\",\n",
    "        maintain_clipping_extent=\"MAINTAIN_EXTENT\"\n",
    "    )"
   ]
  },
  {
   "cell_type": "code",
   "execution_count": 52,
   "metadata": {},
   "outputs": [
    {
     "name": "stdout",
     "output_type": "stream",
     "text": [
      "Original Cell Size: 29.975163816793987\n"
     ]
    }
   ],
   "source": [
    "# Path to your raster\n",
    "raster_path = r\"C:\\Users\\ethan\\Desktop\\ARLT_MGIS\\GIS5571\\FinalProject\\Data\\Clipped\\NCLD_clipped\"\n",
    "\n",
    "# Get raster properties\n",
    "desc = arcpy.Describe(raster_path)\n",
    "cell_size = desc.meanCellWidth  # or desc.meanCellHeight\n",
    "print(f\"Original Cell Size: {cell_size}\")"
   ]
  },
  {
   "cell_type": "code",
   "execution_count": 45,
   "metadata": {},
   "outputs": [],
   "source": [
    "# Reclassify the NCLD from 16 Categories to 5 Categories\n",
    "\n",
    "with arcpy.EnvManager(outputCoordinateSystem='PROJCS[\"NAD_1983_UTM_Zone_15N\",GEOGCS[\"GCS_North_American_1983\",DATUM[\"D_North_American_1983\",SPHEROID[\"GRS_1980\",6378137.0,298.257222101]],PRIMEM[\"Greenwich\",0.0],UNIT[\"Degree\",0.0174532925199433]],PROJECTION[\"Transverse_Mercator\"],PARAMETER[\"False_Easting\",500000.0],PARAMETER[\"False_Northing\",0.0],PARAMETER[\"Central_Meridian\",-93.0],PARAMETER[\"Scale_Factor\",0.9996],PARAMETER[\"Latitude_Of_Origin\",0.0],UNIT[\"Meter\",1.0]],VERTCS[\"NAVD_1988\",VDATUM[\"North_American_Vertical_Datum_1988\"],PARAMETER[\"Vertical_Shift\",0.0],PARAMETER[\"Direction\",1.0],UNIT[\"Meter\",1.0]]', snapRaster=r\"C:\\Users\\ethan\\Desktop\\ARLT_MGIS\\GIS5571\\FinalProject\\Data\\Clipped\\slope_dem\", extent='379749.8558 4868689.051 399383.5881 4887308.7898 PROJCS[\"NAD_1983_UTM_Zone_15N\",GEOGCS[\"GCS_North_American_1983\",DATUM[\"D_North_American_1983\",SPHEROID[\"GRS_1980\",6378137.0,298.257222101]],PRIMEM[\"Greenwich\",0.0],UNIT[\"Degree\",0.0174532925199433]],PROJECTION[\"Transverse_Mercator\"],PARAMETER[\"False_Easting\",500000.0],PARAMETER[\"False_Northing\",0.0],PARAMETER[\"Central_Meridian\",-93.0],PARAMETER[\"Scale_Factor\",0.9996],PARAMETER[\"Latitude_Of_Origin\",0.0],UNIT[\"Meter\",1.0]],VERTCS[\"NAVD_1988\",VDATUM[\"North_American_Vertical_Datum_1988\"],PARAMETER[\"Vertical_Shift\",0.0],PARAMETER[\"Direction\",1.0],UNIT[\"Meter\",1.0]]'):\n",
    "        arcpy.ddd.Reclassify(\n",
    "            in_raster=\"NCLD_clipped\",\n",
    "            reclass_field=\"VALUE\",\n",
    "            remap=\"11 5;21 4;22 4;23 4;24 4;31 4;41 2;42 2;43 2;52 2;71 2;81 3;82 3;90 1;95 1\",\n",
    "            out_raster=r\"C:\\Users\\ethan\\Desktop\\ARLT_MGIS\\GIS5571\\FinalProject\\Data\\Clipped\\NCLD_reclass\",\n",
    "            missing_values=\"DATA\"\n",
    "        )"
   ]
  },
  {
   "cell_type": "code",
   "execution_count": 46,
   "metadata": {},
   "outputs": [],
   "source": [
    "# Convert the NCLD Raster to Polygon for Use in Buffering\n",
    "\n",
    "with arcpy.EnvManager(outputCoordinateSystem='PROJCS[\"NAD_1983_UTM_Zone_15N\",GEOGCS[\"GCS_North_American_1983\",DATUM[\"D_North_American_1983\",SPHEROID[\"GRS_1980\",6378137.0,298.257222101]],PRIMEM[\"Greenwich\",0.0],UNIT[\"Degree\",0.0174532925199433]],PROJECTION[\"Transverse_Mercator\"],PARAMETER[\"False_Easting\",500000.0],PARAMETER[\"False_Northing\",0.0],PARAMETER[\"Central_Meridian\",-93.0],PARAMETER[\"Scale_Factor\",0.9996],PARAMETER[\"Latitude_Of_Origin\",0.0],UNIT[\"Meter\",1.0]],VERTCS[\"NAVD_1988\",VDATUM[\"North_American_Vertical_Datum_1988\"],PARAMETER[\"Vertical_Shift\",0.0],PARAMETER[\"Direction\",1.0],UNIT[\"Meter\",1.0]]'):\n",
    "    arcpy.conversion.RasterToPolygon(\n",
    "        in_raster=\"NCLD_reclass\",\n",
    "        out_polygon_features=r\"C:\\Users\\ethan\\Desktop\\ARLT_MGIS\\GIS5571\\FinalProject\\Data\\Clipped\\NCLD_polygon.shp\",\n",
    "        simplify=\"SIMPLIFY\",\n",
    "        raster_field=\"VALUE\",\n",
    "        create_multipart_features=\"SINGLE_OUTER_PART\",\n",
    "        max_vertices_per_feature=None\n",
    "    )"
   ]
  },
  {
   "cell_type": "code",
   "execution_count": 45,
   "metadata": {},
   "outputs": [],
   "source": [
    "# Create a 100 m buffer around all impervious (developed) features\n",
    "\n",
    "with arcpy.EnvManager(outputCoordinateSystem='PROJCS[\"NAD_1983_UTM_Zone_15N\",GEOGCS[\"GCS_North_American_1983\",DATUM[\"D_North_American_1983\",SPHEROID[\"GRS_1980\",6378137.0,298.257222101]],PRIMEM[\"Greenwich\",0.0],UNIT[\"Degree\",0.0174532925199433]],PROJECTION[\"Transverse_Mercator\"],PARAMETER[\"False_Easting\",500000.0],PARAMETER[\"False_Northing\",0.0],PARAMETER[\"Central_Meridian\",-93.0],PARAMETER[\"Scale_Factor\",0.9996],PARAMETER[\"Latitude_Of_Origin\",0.0],UNIT[\"Meter\",1.0]],VERTCS[\"NAVD_1988\",VDATUM[\"North_American_Vertical_Datum_1988\"],PARAMETER[\"Vertical_Shift\",0.0],PARAMETER[\"Direction\",1.0],UNIT[\"Meter\",1.0]]'):\n",
    "    arcpy.analysis.PairwiseBuffer(\n",
    "        in_features=\"NCLD_polygon\",\n",
    "        out_feature_class=r\"C:\\Users\\ethan\\Desktop\\ARLT_MGIS\\GIS5571\\FinalProject\\Data\\Extracted\\NLCD_2021\\NCLD_Buffer.shp\",\n",
    "        buffer_distance_or_field=\"100 Meters\",\n",
    "        dissolve_option=\"ALL\",\n",
    "        dissolve_field=None,\n",
    "        method=\"GEODESIC\",\n",
    "        max_deviation=\"0 Meters\"\n",
    "    )"
   ]
  },
  {
   "cell_type": "code",
   "execution_count": 53,
   "metadata": {},
   "outputs": [
    {
     "data": {
      "text/html": [
       "<div class='gpresult'><h2>Messages</h2><div id='messages' data-messages='[\"Start Time: Sunday, November 3, 2024 1:27:35 PM\",\"Succeeded at Sunday, November 3, 2024 1:27:35 PM (Elapsed Time: 0.81 seconds)\"]' data-show='true'><div id = 'default' /></div></div>"
      ],
      "text/plain": [
       "<Result 'C:\\\\Users\\\\ethan\\\\Desktop\\\\ARLT_MGIS\\\\GIS5571\\\\FinalProject\\\\Data\\\\Clipped\\\\buffer_raster'>"
      ]
     },
     "execution_count": 53,
     "metadata": {},
     "output_type": "execute_result"
    }
   ],
   "source": [
    "# Convert the buffer feature layer to raster\n",
    "arcpy.conversion.PolygonToRaster(\n",
    "    in_features=r\"C:\\Users\\ethan\\Desktop\\ARLT_MGIS\\GIS5571\\FinalProject\\Data\\Extracted\\NLCD_2021\\NCLD_Buffer.shp\",\n",
    "    value_field=\"FID\",\n",
    "    out_rasterdataset=r\"C:\\Users\\ethan\\Desktop\\ARLT_MGIS\\GIS5571\\FinalProject\\Data\\Clipped\\buffer_raster\",\n",
    "    cell_assignment=\"MAXIMUM_AREA\",\n",
    "    priority_field=\"NONE\",\n",
    "    cellsize=29.975163816793987,\n",
    "    build_rat=\"BUILD\"\n",
    ")"
   ]
  },
  {
   "cell_type": "code",
   "execution_count": 54,
   "metadata": {},
   "outputs": [
    {
     "name": "stdout",
     "output_type": "stream",
     "text": [
      "Original Cell Size: 29.975163816794037\n"
     ]
    }
   ],
   "source": [
    "# Path to your raster\n",
    "raster_path = \"buffer_raster\"\n",
    "\n",
    "# Get raster properties\n",
    "desc = arcpy.Describe(raster_path)\n",
    "cell_size = desc.meanCellWidth  # or desc.meanCellHeight\n",
    "print(f\"Original Cell Size: {cell_size}\")"
   ]
  },
  {
   "cell_type": "markdown",
   "metadata": {},
   "source": [
    "#### 3a. DEM API Extraction"
   ]
  },
  {
   "cell_type": "code",
   "execution_count": 25,
   "metadata": {},
   "outputs": [
    {
     "name": "stdout",
     "output_type": "stream",
     "text": [
      "Found file for blueearth county: Downloading...\n"
     ]
    },
    {
     "name": "stderr",
     "output_type": "stream",
     "text": [
      "Downloading blueearth: 100%|██████████| 5.86G/5.86G [03:18<00:00, 29.6MB/s]﻿\n"
     ]
    },
    {
     "name": "stdout",
     "output_type": "stream",
     "text": [
      "Downloaded C:\\Users\\ethan\\Desktop\\ARLT_MGIS\\GIS5571\\FinalProject\\Data\\ZippedFiles\\MN_County_DEM\\blueearth_elevation_data.gdb.zip\n",
      "Extracted files to C:\\Users\\ethan\\Desktop\\ARLT_MGIS\\GIS5571\\FinalProject\\Data\\ZippedFiles\\MN_County_DEM\\blueearth_extracted\n",
      "Found file for brown county: Downloading...\n"
     ]
    },
    {
     "name": "stderr",
     "output_type": "stream",
     "text": [
      "Downloading brown: 100%|██████████| 4.89G/4.89G [02:39<00:00, 30.6MB/s]﻿\n"
     ]
    },
    {
     "name": "stdout",
     "output_type": "stream",
     "text": [
      "Downloaded C:\\Users\\ethan\\Desktop\\ARLT_MGIS\\GIS5571\\FinalProject\\Data\\ZippedFiles\\MN_County_DEM\\brown_elevation_data.gdb.zip\n",
      "Extracted files to C:\\Users\\ethan\\Desktop\\ARLT_MGIS\\GIS5571\\FinalProject\\Data\\ZippedFiles\\MN_County_DEM\\brown_extracted\n",
      "Found file for watonwan county: Downloading...\n"
     ]
    },
    {
     "name": "stderr",
     "output_type": "stream",
     "text": [
      "Downloading watonwan: 100%|██████████| 2.96G/2.96G [01:39<00:00, 29.8MB/s]﻿\n"
     ]
    },
    {
     "name": "stdout",
     "output_type": "stream",
     "text": [
      "Downloaded C:\\Users\\ethan\\Desktop\\ARLT_MGIS\\GIS5571\\FinalProject\\Data\\ZippedFiles\\MN_County_DEM\\watonwan_elevation_data.gdb.zip\n",
      "Extracted files to C:\\Users\\ethan\\Desktop\\ARLT_MGIS\\GIS5571\\FinalProject\\Data\\ZippedFiles\\MN_County_DEM\\watonwan_extracted\n"
     ]
    }
   ],
   "source": [
    "# Extract DEM Data for Blue Earth, Watonwan, and Brown Counties\n",
    "\n",
    "# Define the base URL and the counties to check\n",
    "DOMAIN = \"https://resources.gisdata.mn.gov\"\n",
    "BASE_URL = f\"{DOMAIN}/pub/data/elevation/lidar/county\"\n",
    "counties = [\"blueearth\", \"brown\", \"watonwan\"]\n",
    "\n",
    "# Directory where the files will be saved\n",
    "save_folder = r\"C:\\Users\\ethan\\Desktop\\ARLT_MGIS\\GIS5571\\FinalProject\\Data\\ZippedFiles\\MN_County_DEM\"\n",
    "os.makedirs(save_folder, exist_ok=True)  # Create the folder if it doesn't exist\n",
    "\n",
    "# Loop through counties to download and extract the file\n",
    "for county in counties:\n",
    "    file_url = f\"{BASE_URL}/{county}/elevation_data.gdb.zip\"\n",
    "    file_path = os.path.join(save_folder, f\"{county}_elevation_data.gdb.zip\")\n",
    "    \n",
    "    # Check if the file exists on the server\n",
    "    response = requests.head(file_url)\n",
    "    if response.status_code == 200:\n",
    "        print(f\"Found file for {county} county: Downloading...\")\n",
    "\n",
    "        # Download the file with progress bar\n",
    "        response = requests.get(file_url, stream=True)\n",
    "        file_size = int(response.headers.get('content-length', 0))\n",
    "        \n",
    "        with open(file_path, 'wb') as f, tqdm(total=file_size, unit='B', unit_scale=True, desc=f\"Downloading {county}\") as pbar:\n",
    "            for chunk in response.iter_content(chunk_size=1024):\n",
    "                if chunk:\n",
    "                    f.write(chunk)\n",
    "                    pbar.update(len(chunk))\n",
    "\n",
    "        print(f\"Downloaded {file_path}\")\n",
    "\n",
    "        # Extract the ZIP file\n",
    "        extraction_path = os.path.join(save_folder, f\"{county}_extracted\")\n",
    "        os.makedirs(extraction_path, exist_ok=True)\n",
    "        \n",
    "        with zipfile.ZipFile(file_path, 'r') as zip_ref:\n",
    "            zip_ref.extractall(extraction_path)\n",
    "        \n",
    "        print(f\"Extracted files to {extraction_path}\")\n",
    "\n",
    "    else:\n",
    "        print(f\"No file found for {county} county.\")"
   ]
  },
  {
   "cell_type": "code",
   "execution_count": 30,
   "metadata": {},
   "outputs": [],
   "source": [
    "# Add County DEM Rasters to Mosaic Database and clip to Bounding Box Extent\n",
    "\n",
    "with arcpy.EnvManager(extent='379749.8558 4868689.051 399383.5881 4887308.7898 PROJCS[\"NAD_1983_UTM_Zone_15N\",GEOGCS[\"GCS_North_American_1983\",DATUM[\"D_North_American_1983\",SPHEROID[\"GRS_1980\",6378137.0,298.257222101]],PRIMEM[\"Greenwich\",0.0],UNIT[\"Degree\",0.0174532925199433]],PROJECTION[\"Transverse_Mercator\"],PARAMETER[\"False_Easting\",500000.0],PARAMETER[\"False_Northing\",0.0],PARAMETER[\"Central_Meridian\",-93.0],PARAMETER[\"Scale_Factor\",0.9996],PARAMETER[\"Latitude_Of_Origin\",0.0],UNIT[\"Meter\",1.0]],VERTCS[\"NAVD_1988\",VDATUM[\"North_American_Vertical_Datum_1988\"],PARAMETER[\"Vertical_Shift\",0.0],PARAMETER[\"Direction\",1.0],UNIT[\"Meter\",1.0]]'):\n",
    "    arcpy.management.MosaicToNewRaster(\n",
    "        input_rasters=r\"C:\\Users\\ethan\\Desktop\\ARLT_MGIS\\GIS5571\\FinalProject\\Data\\Extracted\\blueearth_extracted\\elevation_data.gdb\\dem_3m_m;C:\\Users\\ethan\\Desktop\\ARLT_MGIS\\GIS5571\\FinalProject\\Data\\Extracted\\brown_extracted\\elevation_data.gdb\\dem_3m_m;C:\\Users\\ethan\\Desktop\\ARLT_MGIS\\GIS5571\\FinalProject\\Data\\Extracted\\watonwan_extracted\\elevation_data.gdb\\dem_3m_m\",\n",
    "        output_location=r\"C:\\Users\\ethan\\Desktop\\ARLT_MGIS\\GIS5571\\FinalProject\\Data\\Clipped\",\n",
    "        raster_dataset_name_with_extension=\"Mosaic_DEM\",\n",
    "        coordinate_system_for_the_raster='PROJCS[\"NAD_1983_UTM_Zone_15N\",GEOGCS[\"GCS_North_American_1983\",DATUM[\"D_North_American_1983\",SPHEROID[\"GRS_1980\",6378137.0,298.257222101]],PRIMEM[\"Greenwich\",0.0],UNIT[\"Degree\",0.0174532925199433]],PROJECTION[\"Transverse_Mercator\"],PARAMETER[\"False_Easting\",500000.0],PARAMETER[\"False_Northing\",0.0],PARAMETER[\"Central_Meridian\",-93.0],PARAMETER[\"Scale_Factor\",0.9996],PARAMETER[\"Latitude_Of_Origin\",0.0],UNIT[\"Meter\",1.0]],VERTCS[\"NAVD_1988\",VDATUM[\"North_American_Vertical_Datum_1988\"],PARAMETER[\"Vertical_Shift\",0.0],PARAMETER[\"Direction\",1.0],UNIT[\"Meter\",1.0]]',\n",
    "        pixel_type=\"8_BIT_UNSIGNED\",\n",
    "        cellsize=None,\n",
    "        number_of_bands=1,\n",
    "        mosaic_method=\"LAST\",\n",
    "        mosaic_colormap_mode=\"FIRST\"\n",
    "    )"
   ]
  },
  {
   "cell_type": "markdown",
   "metadata": {},
   "source": [
    "#### 3b. Create Slope and Total Water Index (TWI) Rasters"
   ]
  },
  {
   "cell_type": "code",
   "execution_count": 31,
   "metadata": {},
   "outputs": [],
   "source": [
    "# Derive Slope from the DEM raster mosaic layer\n",
    "\n",
    "with arcpy.EnvManager(scratchWorkspace=r\"C:\\Users\\ethan\\Desktop\\ARLT_MGIS\\GIS5571\\FinalProject\\Data\\Clipped\"):\n",
    "    out_raster = arcpy.sa.Slope(\n",
    "        in_raster=\"Mosaic_DEM\",\n",
    "        output_measurement=\"DEGREE\",\n",
    "        z_factor=1,\n",
    "        method=\"PLANAR\",\n",
    "        z_unit=\"METER\",\n",
    "        analysis_target_device=\"GPU_THEN_CPU\"\n",
    "    )\n",
    "    out_raster.save(r\"C:\\Users\\ethan\\Desktop\\ARLT_MGIS\\GIS5571\\FinalProject\\Data\\Clipped\\slope_DEM\")"
   ]
  },
  {
   "cell_type": "code",
   "execution_count": 34,
   "metadata": {},
   "outputs": [
    {
     "ename": "AttributeError",
     "evalue": "module 'arcpy' has no attribute 'archydropro'",
     "output_type": "error",
     "traceback": [
      "\u001b[0;31m---------------------------------------------------------------------------\u001b[0m\n\u001b[0;31mAttributeError\u001b[0m                            Traceback (most recent call last)",
      "In  \u001b[0;34m[34]\u001b[0m:\nLine \u001b[0;34m6\u001b[0m:     arcpy.archydropro.calculatetopographicwetnessindexsurfaceparameters(\u001b[37m\u001b[39;49;00m\n",
      "\u001b[0;31mAttributeError\u001b[0m: module 'arcpy' has no attribute 'archydropro'\n\u001b[0;31m---------------------------------------------------------------------------\u001b[0m"
     ]
    }
   ],
   "source": [
    "# Derive TWI from the DEM raster mosaic layer -- NOT WORKING AS CODE WITH TOOLBOX INSTALLED\n",
    "\n",
    "# Load the Arc Hydro Pro toolbox\n",
    "arcpy.ImportToolbox(r\"C:\\Users\\ethan\\Documents\\ArcGIS\\Projects\\Arc1_FinalProject\\Arc1_FinalProject.atbx\")\n",
    "\n",
    "arcpy.archydropro.calculatetopographicwetnessindexsurfaceparameters(\n",
    "    Input_Smoothed_DEM=\"Mosaic_DEM\",\n",
    "    Hydrocondition_Method=\"Continuous Flow\",\n",
    "    Slope_Neighborhood_Distance=10,\n",
    "    Output_TWI_Raster=r\"C:\\Users\\ethan\\Desktop\\ARLT_MGIS\\GIS5571\\FinalProject\\Data\\predictor_variables\\Mosaic_DEM_twi_SLP_an_10mMax_CF.tif\",\n",
    "    Save_Intermediate_Rasters=False,\n",
    "    Output_TWI_Slope_Raster=r\"C:\\Users\\ethan\\Desktop\\ARLT_MGIS\\GIS5571\\FinalProject\\Data\\secondary_outputs\\Mosaic_DEM_SLP_an_10mMax.tif\",\n",
    "    Output_TWI_FAC_Raster=r\"C:\\Users\\ethan\\Desktop\\ARLT_MGIS\\GIS5571\\FinalProject\\Data\\secondary_outputs\\Mosaic_DEM_FAC_CF.tif\",\n",
    "    Input_TWI_Slope=r\"C:\\Users\\ethan\\Desktop\\ARLT_MGIS\\GIS5571\\FinalProject\\Data\\Clipped\\slope_DEM\",\n",
    "    Input_TWI_FAC_Raster=None\n",
    ")"
   ]
  },
  {
   "cell_type": "markdown",
   "metadata": {},
   "source": [
    "#### 3c. Create Layers for Specific Slope and TWI Values\n",
    "\n",
    "Use the DEM derived slope and TWI rasters to create new cost layers: 1) slope <= 7* and 2) TWI >=7."
   ]
  },
  {
   "cell_type": "code",
   "execution_count": 35,
   "metadata": {},
   "outputs": [],
   "source": [
    "# Create a Slope Cost Layer (degrees <= 5).\n",
    "\n",
    "# Reclassify the Categories by Slope (0-5* = 1, <=10 = 2, <=Max = 3)\n",
    "with arcpy.EnvManager(outputCoordinateSystem='PROJCS[\"NAD_1983_UTM_Zone_15N\",GEOGCS[\"GCS_North_American_1983\",DATUM[\"D_North_American_1983\",SPHEROID[\"GRS_1980\",6378137.0,298.257222101]],PRIMEM[\"Greenwich\",0.0],UNIT[\"Degree\",0.0174532925199433]],PROJECTION[\"Transverse_Mercator\"],PARAMETER[\"False_Easting\",500000.0],PARAMETER[\"False_Northing\",0.0],PARAMETER[\"Central_Meridian\",-93.0],PARAMETER[\"Scale_Factor\",0.9996],PARAMETER[\"Latitude_Of_Origin\",0.0],UNIT[\"Meter\",1.0]],VERTCS[\"NAVD_1988\",VDATUM[\"North_American_Vertical_Datum_1988\"],PARAMETER[\"Vertical_Shift\",0.0],PARAMETER[\"Direction\",1.0],UNIT[\"Meter\",1.0]]'):\n",
    "    arcpy.ddd.Reclassify(\n",
    "        in_raster=\"out_raster\",\n",
    "        reclass_field=\"VALUE\",\n",
    "        remap=\"0 5 1;5 10 2;10 66.788101 3\",\n",
    "        out_raster=r\"C:\\Users\\ethan\\Desktop\\ARLT_MGIS\\GIS5571\\FinalProject\\Data\\Clipped\\Slope_Reclass\",\n",
    "        missing_values=\"DATA\"\n",
    "    )"
   ]
  },
  {
   "cell_type": "code",
   "execution_count": 36,
   "metadata": {},
   "outputs": [
    {
     "ename": "ExecuteError",
     "evalue": "ERROR 010237: Error in building STA while build VAT.\nERROR 010067: Error in executing grid expression.\nFailed to execute (Reclassify).\n",
     "output_type": "error",
     "traceback": [
      "\u001b[0;31m---------------------------------------------------------------------------\u001b[0m\n\u001b[0;31mExecuteError\u001b[0m                              Traceback (most recent call last)",
      "In  \u001b[0;34m[36]\u001b[0m:\nLine \u001b[0;34m6\u001b[0m:     arcpy.ddd.Reclassify(\u001b[37m\u001b[39;49;00m\n",
      "File \u001b[0;34mC:\\Program Files\\ArcGIS\\Pro\\Resources\\ArcPy\\arcpy\\ddd.py\u001b[0m, in \u001b[0;32mReclassify\u001b[0m:\nLine \u001b[0;34m5280\u001b[0m:  \u001b[34mraise\u001b[39;49;00m e\u001b[37m\u001b[39;49;00m\n",
      "File \u001b[0;34mC:\\Program Files\\ArcGIS\\Pro\\Resources\\ArcPy\\arcpy\\ddd.py\u001b[0m, in \u001b[0;32mReclassify\u001b[0m:\nLine \u001b[0;34m5277\u001b[0m:  retval = convertArcObjectToPythonObject(gp.Reclassify_3d(*gp_fixargs((in_raster, reclass_field, remap, out_raster, missing_values), \u001b[34mTrue\u001b[39;49;00m)))\u001b[37m\u001b[39;49;00m\n",
      "File \u001b[0;34mC:\\Program Files\\ArcGIS\\Pro\\Resources\\ArcPy\\arcpy\\geoprocessing\\_base.py\u001b[0m, in \u001b[0;32m<lambda>\u001b[0m:\nLine \u001b[0;34m520\u001b[0m:   \u001b[34mreturn\u001b[39;49;00m \u001b[34mlambda\u001b[39;49;00m *args: val(*gp_fixargs(args, \u001b[34mTrue\u001b[39;49;00m))\u001b[37m\u001b[39;49;00m\n",
      "\u001b[0;31mExecuteError\u001b[0m: ERROR 010237: Error in building STA while build VAT.\nERROR 010067: Error in executing grid expression.\nFailed to execute (Reclassify).\n\n\u001b[0;31m---------------------------------------------------------------------------\u001b[0m"
     ]
    }
   ],
   "source": [
    "# Create a TWI Cost Layer (TWI >= 7)\n",
    "\n",
    "# Reclassify the Categories by TWI (TWI 0-5 = 1, TWI <=10 = 2, <=20 = 3, >20 = 4)\n",
    "\n",
    "with arcpy.EnvManager(outputCoordinateSystem='PROJCS[\"NAD_1983_UTM_Zone_15N\",GEOGCS[\"GCS_North_American_1983\",DATUM[\"D_North_American_1983\",SPHEROID[\"GRS_1980\",6378137.0,298.257222101]],PRIMEM[\"Greenwich\",0.0],UNIT[\"Degree\",0.0174532925199433]],PROJECTION[\"Transverse_Mercator\"],PARAMETER[\"False_Easting\",500000.0],PARAMETER[\"False_Northing\",0.0],PARAMETER[\"Central_Meridian\",-93.0],PARAMETER[\"Scale_Factor\",0.9996],PARAMETER[\"Latitude_Of_Origin\",0.0],UNIT[\"Meter\",1.0]],VERTCS[\"NAVD_1988\",VDATUM[\"North_American_Vertical_Datum_1988\"],PARAMETER[\"Vertical_Shift\",0.0],PARAMETER[\"Direction\",1.0],UNIT[\"Meter\",1.0]]'):\n",
    "    arcpy.ddd.Reclassify(\n",
    "        in_raster=\"Mosaic_DEM_twi_SLP_an_10mMax_CF.tif\",\n",
    "        reclass_field=\"VALUE\",\n",
    "        remap=\"-2.738983 5 1;5 10 2;10 20 3;20 24.795912 4\",\n",
    "        out_raster=r\"C:\\Users\\ethan\\Desktop\\ARLT_MGIS\\GIS5571\\FinalProject\\Data\\Clipped\\TWI_reclass\",\n",
    "        missing_values=\"DATA\"\n",
    "    )"
   ]
  },
  {
   "cell_type": "markdown",
   "metadata": {},
   "source": [
    "#### 4a. Soils Data API Extraction"
   ]
  },
  {
   "cell_type": "code",
   "execution_count": 26,
   "metadata": {},
   "outputs": [
    {
     "name": "stdout",
     "output_type": "stream",
     "text": [
      "Downloading MN Soils Data file (20.02 MB)...\n"
     ]
    },
    {
     "name": "stderr",
     "output_type": "stream",
     "text": [
      "Downloading: 100%|██████████| 21.0M/21.0M [00:22<00:00, 919kB/s] ﻿\n"
     ]
    },
    {
     "name": "stdout",
     "output_type": "stream",
     "text": [
      "File Name                                             Modified             Size\n",
      "wss_aoi_2024-11-01_09-54-19/readme.txt         2024-11-01 09:54:54        20733\n",
      "wss_aoi_2024-11-01_09-54-19/soildb_MN_2003.mdb 2012-09-13 11:24:42     12406784\n",
      "wss_aoi_2024-11-01_09-54-19/soil_metadata_mn013.txt 2024-11-01 09:54:54        58967\n",
      "wss_aoi_2024-11-01_09-54-19/soil_metadata_mn013.xml 2024-11-01 09:54:54        56665\n",
      "wss_aoi_2024-11-01_09-54-19/soil_metadata_mn015.txt 2024-11-01 09:54:54        60929\n",
      "wss_aoi_2024-11-01_09-54-19/soil_metadata_mn015.xml 2024-11-01 09:54:54        59006\n",
      "wss_aoi_2024-11-01_09-54-19/soil_metadata_mn165.txt 2024-11-01 09:54:54        57245\n",
      "wss_aoi_2024-11-01_09-54-19/soil_metadata_mn165.xml 2024-11-01 09:54:54        55131\n",
      "wss_aoi_2024-11-01_09-54-19/thematic/          2024-11-01 09:54:54            0\n",
      "wss_aoi_2024-11-01_09-54-19/spatial/aoi_a_aoi.dbf 2024-11-01 09:54:18           92\n",
      "wss_aoi_2024-11-01_09-54-19/spatial/aoi_a_aoi.prj 2024-11-01 09:54:18          145\n",
      "wss_aoi_2024-11-01_09-54-19/spatial/aoi_a_aoi.shp 2024-11-01 09:54:18          236\n",
      "wss_aoi_2024-11-01_09-54-19/spatial/aoi_a_aoi.shx 2024-11-01 09:54:18          108\n",
      "wss_aoi_2024-11-01_09-54-19/spatial/soilmu_a_aoi.dbf 2024-11-01 09:54:20       396936\n",
      "wss_aoi_2024-11-01_09-54-19/spatial/soilmu_a_aoi.prj 2024-11-01 09:54:20          145\n",
      "wss_aoi_2024-11-01_09-54-19/spatial/soilmu_a_aoi.shp 2024-11-01 09:54:20      8323064\n",
      "wss_aoi_2024-11-01_09-54-19/spatial/soilmu_a_aoi.shx 2024-11-01 09:54:20        47476\n",
      "wss_aoi_2024-11-01_09-54-19/spatial/soilmu_l_aoi.dbf 2024-11-01 09:54:20          162\n",
      "wss_aoi_2024-11-01_09-54-19/spatial/soilmu_l_aoi.prj 2024-11-01 09:54:20          145\n",
      "wss_aoi_2024-11-01_09-54-19/spatial/soilmu_l_aoi.shp 2024-11-01 09:54:20          100\n",
      "wss_aoi_2024-11-01_09-54-19/spatial/soilmu_l_aoi.shx 2024-11-01 09:54:20          100\n",
      "wss_aoi_2024-11-01_09-54-19/spatial/soilmu_p_aoi.dbf 2024-11-01 09:54:22          162\n",
      "wss_aoi_2024-11-01_09-54-19/spatial/soilmu_p_aoi.prj 2024-11-01 09:54:22          145\n",
      "wss_aoi_2024-11-01_09-54-19/spatial/soilmu_p_aoi.shp 2024-11-01 09:54:22          100\n",
      "wss_aoi_2024-11-01_09-54-19/spatial/soilmu_p_aoi.shx 2024-11-01 09:54:22          100\n",
      "wss_aoi_2024-11-01_09-54-19/spatial/soilsf_l_aoi.dbf 2024-11-01 09:54:22        19746\n",
      "wss_aoi_2024-11-01_09-54-19/spatial/soilsf_l_aoi.prj 2024-11-01 09:54:22          145\n",
      "wss_aoi_2024-11-01_09-54-19/spatial/soilsf_l_aoi.shp 2024-11-01 09:54:22       101044\n",
      "wss_aoi_2024-11-01_09-54-19/spatial/soilsf_l_aoi.shx 2024-11-01 09:54:22         2548\n",
      "wss_aoi_2024-11-01_09-54-19/spatial/soilsf_p_aoi.dbf 2024-11-01 09:54:22        61090\n",
      "wss_aoi_2024-11-01_09-54-19/spatial/soilsf_p_aoi.prj 2024-11-01 09:54:22          145\n",
      "wss_aoi_2024-11-01_09-54-19/spatial/soilsf_p_aoi.shp 2024-11-01 09:54:22        26756\n",
      "wss_aoi_2024-11-01_09-54-19/spatial/soilsf_p_aoi.shx 2024-11-01 09:54:22         7716\n",
      "wss_aoi_2024-11-01_09-54-19/spatial/soilsf_t_aoi.txt 2024-11-01 09:54:54         9138\n",
      "wss_aoi_2024-11-01_09-54-19/spatial/version.txt 2022-11-30 16:01:52            7\n",
      "wss_aoi_2024-11-01_09-54-19/tabular/ccancov.txt 2024-11-01 09:54:26            0\n",
      "wss_aoi_2024-11-01_09-54-19/tabular/ccrpyd.txt 2024-11-01 09:54:26            0\n",
      "wss_aoi_2024-11-01_09-54-19/tabular/cdfeat.txt 2024-11-01 09:54:26        48772\n",
      "wss_aoi_2024-11-01_09-54-19/tabular/cecoclas.txt 2024-11-01 09:54:26        90667\n",
      "wss_aoi_2024-11-01_09-54-19/tabular/ceplants.txt 2024-11-01 09:54:26         1518\n",
      "wss_aoi_2024-11-01_09-54-19/tabular/cerosnac.txt 2024-11-01 09:54:26         7114\n",
      "wss_aoi_2024-11-01_09-54-19/tabular/cfprod.txt 2024-11-01 09:54:26         1897\n",
      "wss_aoi_2024-11-01_09-54-19/tabular/cfprodo.txt 2024-11-01 09:54:52            0\n",
      "wss_aoi_2024-11-01_09-54-19/tabular/cgeomord.txt 2024-11-01 09:54:28        70557\n",
      "wss_aoi_2024-11-01_09-54-19/tabular/chaashto.txt 2024-11-01 09:54:50       107804\n",
      "wss_aoi_2024-11-01_09-54-19/tabular/chconsis.txt 2024-11-01 09:54:50         1386\n",
      "wss_aoi_2024-11-01_09-54-19/tabular/chdsuffx.txt 2024-11-01 09:54:50        24470\n",
      "wss_aoi_2024-11-01_09-54-19/tabular/chfrags.txt 2024-11-01 09:54:50       528145\n",
      "wss_aoi_2024-11-01_09-54-19/tabular/chorizon.txt 2024-11-01 09:54:26       727523\n",
      "wss_aoi_2024-11-01_09-54-19/tabular/chpores.txt 2024-11-01 09:54:50            0\n",
      "wss_aoi_2024-11-01_09-54-19/tabular/chstr.txt  2024-11-01 09:54:52       120137\n",
      "wss_aoi_2024-11-01_09-54-19/tabular/chstrgrp.txt 2024-11-01 09:54:50       133758\n",
      "wss_aoi_2024-11-01_09-54-19/tabular/chtexgrp.txt 2024-11-01 09:54:52       207623\n",
      "wss_aoi_2024-11-01_09-54-19/tabular/chtexmod.txt 2024-11-01 09:54:52         9651\n",
      "wss_aoi_2024-11-01_09-54-19/tabular/chtext.txt 2024-11-01 09:54:50            0\n",
      "wss_aoi_2024-11-01_09-54-19/tabular/chtextur.txt 2024-11-01 09:54:52       159157\n",
      "wss_aoi_2024-11-01_09-54-19/tabular/chunifie.txt 2024-11-01 09:54:52        96267\n",
      "wss_aoi_2024-11-01_09-54-19/tabular/chydcrit.txt 2024-11-01 09:54:28        10270\n",
      "wss_aoi_2024-11-01_09-54-19/tabular/cinterp.txt 2024-11-01 09:54:48     67036617\n",
      "wss_aoi_2024-11-01_09-54-19/tabular/cmonth.txt 2024-11-01 09:54:48       325309\n",
      "wss_aoi_2024-11-01_09-54-19/tabular/comp.txt   2024-11-01 09:54:26       261994\n",
      "wss_aoi_2024-11-01_09-54-19/tabular/cpmat.txt  2024-11-01 09:54:52        32581\n",
      "wss_aoi_2024-11-01_09-54-19/tabular/cpmatgrp.txt 2024-11-01 09:54:48        27804\n",
      "wss_aoi_2024-11-01_09-54-19/tabular/cpwndbrk.txt 2024-11-01 09:54:48         2314\n",
      "wss_aoi_2024-11-01_09-54-19/tabular/crstrcts.txt 2024-11-01 09:54:48            0\n",
      "wss_aoi_2024-11-01_09-54-19/tabular/csfrags.txt 2024-11-01 09:54:48        21597\n",
      "wss_aoi_2024-11-01_09-54-19/tabular/csmoist.txt 2024-11-01 09:54:52       481685\n",
      "wss_aoi_2024-11-01_09-54-19/tabular/csmorgc.txt 2024-11-01 09:54:52        12926\n",
      "wss_aoi_2024-11-01_09-54-19/tabular/csmorhpp.txt 2024-11-01 09:54:52        10716\n",
      "wss_aoi_2024-11-01_09-54-19/tabular/csmormr.txt 2024-11-01 09:54:52           44\n",
      "wss_aoi_2024-11-01_09-54-19/tabular/csmorss.txt 2024-11-01 09:54:52        29192\n",
      "wss_aoi_2024-11-01_09-54-19/tabular/cstemp.txt 2024-11-01 09:54:52            0\n",
      "wss_aoi_2024-11-01_09-54-19/tabular/ctext.txt  2024-11-01 09:54:50       290785\n",
      "wss_aoi_2024-11-01_09-54-19/tabular/ctreestm.txt 2024-11-01 09:54:50        42665\n",
      "wss_aoi_2024-11-01_09-54-19/tabular/ctxfmmin.txt 2024-11-01 09:54:48        13560\n",
      "wss_aoi_2024-11-01_09-54-19/tabular/ctxfmoth.txt 2024-11-01 09:54:48        14586\n",
      "wss_aoi_2024-11-01_09-54-19/tabular/ctxmoicl.txt 2024-11-01 09:54:50        10155\n",
      "wss_aoi_2024-11-01_09-54-19/tabular/distimd.txt 2024-11-01 09:54:24      5024463\n",
      "wss_aoi_2024-11-01_09-54-19/tabular/distlmd.txt 2024-11-01 09:54:24        18623\n",
      "wss_aoi_2024-11-01_09-54-19/tabular/distmd.txt 2024-11-01 09:54:24          132\n",
      "wss_aoi_2024-11-01_09-54-19/tabular/lareao.txt 2024-11-01 09:54:24          626\n",
      "wss_aoi_2024-11-01_09-54-19/tabular/legend.txt 2024-11-01 09:54:24          524\n",
      "wss_aoi_2024-11-01_09-54-19/tabular/ltext.txt  2024-11-01 09:54:24            0\n",
      "wss_aoi_2024-11-01_09-54-19/tabular/mapunit.txt 2024-11-01 09:54:24        23595\n",
      "wss_aoi_2024-11-01_09-54-19/tabular/msdomdet.txt 2022-11-30 16:01:52       983682\n",
      "wss_aoi_2024-11-01_09-54-19/tabular/msdommas.txt 2022-11-30 16:01:52         3287\n",
      "wss_aoi_2024-11-01_09-54-19/tabular/msidxdet.txt 2022-11-30 16:01:52         8342\n",
      "wss_aoi_2024-11-01_09-54-19/tabular/msidxmas.txt 2022-11-30 16:01:52         5803\n",
      "wss_aoi_2024-11-01_09-54-19/tabular/msrsdet.txt 2022-11-30 16:01:52         3793\n",
      "wss_aoi_2024-11-01_09-54-19/tabular/msrsmas.txt 2022-11-30 16:01:52         3576\n",
      "wss_aoi_2024-11-01_09-54-19/tabular/mstab.txt  2022-11-30 16:01:52        32270\n",
      "wss_aoi_2024-11-01_09-54-19/tabular/mstabcol.txt 2022-11-30 16:01:52       219942\n",
      "wss_aoi_2024-11-01_09-54-19/tabular/muaggatt.txt 2024-11-01 09:54:26        62780\n",
      "wss_aoi_2024-11-01_09-54-19/tabular/muareao.txt 2024-11-01 09:54:26        17681\n",
      "wss_aoi_2024-11-01_09-54-19/tabular/mucrpyd.txt 2024-11-01 09:54:26            0\n",
      "wss_aoi_2024-11-01_09-54-19/tabular/mutext.txt 2024-11-01 09:54:26        38844\n",
      "wss_aoi_2024-11-01_09-54-19/tabular/sacatlog.txt 2024-11-01 09:54:22       169654\n",
      "wss_aoi_2024-11-01_09-54-19/tabular/sainterp.txt 2024-11-01 09:54:24      5031759\n",
      "wss_aoi_2024-11-01_09-54-19/tabular/sdvalgorithm.txt 2024-11-01 09:54:52         5124\n",
      "wss_aoi_2024-11-01_09-54-19/tabular/sdvattribute.txt 2024-11-01 09:54:54      1372267\n",
      "wss_aoi_2024-11-01_09-54-19/tabular/sdvfolder.txt 2024-11-01 09:54:54         8296\n",
      "wss_aoi_2024-11-01_09-54-19/tabular/sdvfolderattribute.txt 2024-11-01 09:54:54         1623\n",
      "wss_aoi_2024-11-01_09-54-19/tabular/version.txt 2022-11-30 16:01:52            7\n",
      "Files in the extracted directory:\n",
      "['wss_aoi_2024-11-01_09-54-19']\n"
     ]
    }
   ],
   "source": [
    "# Extract Soils Data for Bounding Box\n",
    "   \n",
    "# Define the URL and the output path for the ZIP file\n",
    "url = r\"https://websoilsurvey.sc.egov.usda.gov/DSD/Download/AOI/vnuor1iisg3slwbdgugqbp0w/wss_aoi_2024-11-01_09-54-19.zip\"\n",
    "zip_soils_path = r\"C:\\Users\\ethan\\Desktop\\ARLT_MGIS\\GIS5571\\FinalProject\\Data\\ZippedFiles\\MN_Soils.zip\"\n",
    "\n",
    "# Create the folder if it doesn't exist\n",
    "os.makedirs(os.path.dirname(zip_ncld_path), exist_ok=True)\n",
    "\n",
    "# Download the file using requests.get(), stream=True for chunked downloading\n",
    "response = requests.get(url, stream=True)\n",
    "\n",
    "# Get the file size from headers (optional, for progress indication)\n",
    "file_size = int(response.headers.get('content-length', 0))\n",
    "print(f\"Downloading MN Soils Data file ({file_size / 1024 / 1024:.2f} MB)...\")\n",
    "\n",
    "# Stream the download and show a progress bar\n",
    "with open(zip_soils_path, 'wb') as f:\n",
    "    with tqdm(total=file_size, unit='B', unit_scale=True, desc=\"Downloading\") as pbar:\n",
    "        for chunk in response.iter_content(chunk_size=1024):\n",
    "            if chunk:  # Filter out keep-alive new chunks\n",
    "                f.write(chunk)\n",
    "                pbar.update(len(chunk))\n",
    "\n",
    "# Open the ZIP file and print its contents\n",
    "with zipfile.ZipFile(zip_soils_path, 'r') as zip_ref:\n",
    "    # Print the contents of the ZIP file\n",
    "    zip_ref.printdir()\n",
    "\n",
    "    # Create a directory for extraction if it doesn't exist\n",
    "    extraction_path = r\"C:\\Users\\ethan\\Desktop\\ARLT_MGIS\\GIS5571\\FinalProject\\Data\\Extracted\\MN_Soils\"\n",
    "    os.makedirs(extraction_path, exist_ok=True)\n",
    "\n",
    "    # Extract all files to the specified directory\n",
    "    zip_ref.extractall(extraction_path)\n",
    "\n",
    "# Show the files you just extracted\n",
    "print(\"Files in the extracted directory:\")\n",
    "print(os.listdir(extraction_path))"
   ]
  },
  {
   "cell_type": "markdown",
   "metadata": {},
   "source": [
    "#### 4b. Identify Hydric Soils"
   ]
  },
  {
   "cell_type": "code",
   "execution_count": 27,
   "metadata": {},
   "outputs": [
    {
     "ename": "IndentationError",
     "evalue": "unexpected indent (<string>, line 4)",
     "output_type": "error",
     "traceback": [
      "\u001b[0;31m---------------------------------------------------------------------------\u001b[0m\n\u001b[0;31mIndentationError\u001b[0m                          Traceback (most recent call last)",
      "File \u001b[0;34mC:\\Program Files\\ArcGIS\\Pro\\bin\\Python\\envs\\arcgispro-py3\\lib\\ast.py\u001b[0m, in \u001b[0;32mparse\u001b[0m:\nLine \u001b[0;34m50\u001b[0m:    \u001b[34mreturn\u001b[39;49;00m \u001b[36mcompile\u001b[39;49;00m(source, filename, mode, flags,\u001b[37m\u001b[39;49;00m\n",
      "\u001b[0;31mIndentationError\u001b[0m: unexpected indent (<string>, line 4)\n\u001b[0;31m---------------------------------------------------------------------------\u001b[0m"
     ]
    }
   ],
   "source": [
    "#arc_api_link = f\"https://landscape11.arcgis.com/arcgis/rest/services/USA_Soils_Hydric_Class/ImageServer/query?where=1%3D1&outFields=*&f=pjson\"\n",
    "\n",
    "# Currently Issues accessing the REST API for layer, downloaded manually"
   ]
  },
  {
   "cell_type": "code",
   "execution_count": 29,
   "metadata": {},
   "outputs": [
    {
     "data": {
      "text/html": [
       "<div class='gpresult'><h2>Messages</h2><div id='messages' data-messages='[\"Start Time: Sunday, November 3, 2024 11:57:34 AM\",\"Succeeded at Sunday, November 3, 2024 11:57:39 AM (Elapsed Time: 4.76 seconds)\"]' data-show='true'><div id = 'default' /></div></div>"
      ],
      "text/plain": [
       "<Result 'C:\\\\Users\\\\ethan\\\\Documents\\\\ArcGIS\\\\Projects\\\\Arc1_FinalProject\\\\Arc1_FinalProject.gdb\\\\hydric_soils_Project'>"
      ]
     },
     "execution_count": 29,
     "metadata": {},
     "output_type": "execute_result"
    }
   ],
   "source": [
    "# Reproject the Soils Raster into NAD 83 UTM 15N\n",
    "\n",
    "arcpy.management.ProjectRaster(\n",
    "    in_raster=\"hydric_soils.tif\",\n",
    "    out_raster=r\"C:\\Users\\ethan\\Documents\\ArcGIS\\Projects\\Arc1_FinalProject\\Arc1_FinalProject.gdb\\hydric_soils_Project\",\n",
    "    out_coor_system='PROJCS[\"NAD_1983_UTM_Zone_15N\",GEOGCS[\"GCS_North_American_1983\",DATUM[\"D_North_American_1983\",SPHEROID[\"GRS_1980\",6378137.0,298.257222101]],PRIMEM[\"Greenwich\",0.0],UNIT[\"Degree\",0.0174532925199433]],PROJECTION[\"Transverse_Mercator\"],PARAMETER[\"False_Easting\",500000.0],PARAMETER[\"False_Northing\",0.0],PARAMETER[\"Central_Meridian\",-93.0],PARAMETER[\"Scale_Factor\",0.9996],PARAMETER[\"Latitude_Of_Origin\",0.0],UNIT[\"Meter\",1.0]],VERTCS[\"NAVD_1988\",VDATUM[\"North_American_Vertical_Datum_1988\"],PARAMETER[\"Vertical_Shift\",0.0],PARAMETER[\"Direction\",1.0],UNIT[\"Meter\",1.0]]',\n",
    "    resampling_type=\"NEAREST\",\n",
    "    cell_size=\"29.9999961896375 30\",\n",
    "    geographic_transform=\"WGS_1984_(ITRF00)_To_NAD_1983\",\n",
    "    Registration_Point=None,\n",
    "    in_coor_system='PROJCS[\"WGS_1984_Web_Mercator_Auxiliary_Sphere\",GEOGCS[\"GCS_WGS_1984\",DATUM[\"D_WGS_1984\",SPHEROID[\"WGS_1984\",6378137.0,298.257223563]],PRIMEM[\"Greenwich\",0.0],UNIT[\"Degree\",0.0174532925199433]],PROJECTION[\"Mercator_Auxiliary_Sphere\"],PARAMETER[\"False_Easting\",0.0],PARAMETER[\"False_Northing\",0.0],PARAMETER[\"Central_Meridian\",0.0],PARAMETER[\"Standard_Parallel_1\",0.0],PARAMETER[\"Auxiliary_Sphere_Type\",0.0],UNIT[\"Meter\",1.0]]',\n",
    "    vertical=\"NO_VERTICAL\"\n",
    ")"
   ]
  },
  {
   "cell_type": "code",
   "execution_count": 32,
   "metadata": {},
   "outputs": [],
   "source": [
    "# Clip the Reprojected Soils Raster to the Boundary Extent\n",
    "\n",
    "with arcpy.EnvManager(outputCoordinateSystem='PROJCS[\"NAD_1983_UTM_Zone_15N\",GEOGCS[\"GCS_North_American_1983\",DATUM[\"D_North_American_1983\",SPHEROID[\"GRS_1980\",6378137.0,298.257222101]],PRIMEM[\"Greenwich\",0.0],UNIT[\"Degree\",0.0174532925199433]],PROJECTION[\"Transverse_Mercator\"],PARAMETER[\"False_Easting\",500000.0],PARAMETER[\"False_Northing\",0.0],PARAMETER[\"Central_Meridian\",-93.0],PARAMETER[\"Scale_Factor\",0.9996],PARAMETER[\"Latitude_Of_Origin\",0.0],UNIT[\"Meter\",1.0]],VERTCS[\"NAVD_1988\",VDATUM[\"North_American_Vertical_Datum_1988\"],PARAMETER[\"Vertical_Shift\",0.0],PARAMETER[\"Direction\",1.0],UNIT[\"Meter\",1.0]]'):\n",
    "    arcpy.management.Clip(\n",
    "        in_raster=\"hydric_soils_Project\",\n",
    "        rectangle=\"379749.142119867 4868686.82685342 399384.142119867 4887310.82685342\",\n",
    "        out_raster=r\"C:\\Users\\ethan\\Documents\\ArcGIS\\Projects\\Arc1_FinalProject\\Arc1_FinalProject.gdb\\hydric_soils_Clip\",\n",
    "        in_template_dataset=\"Mosaic_DEM_twi_SLP_an_10mMax_CF.tif\",\n",
    "        nodata_value=\"255\",\n",
    "        clipping_geometry=\"NONE\",\n",
    "        maintain_clipping_extent=\"NO_MAINTAIN_EXTENT\"\n",
    "    )"
   ]
  },
  {
   "cell_type": "markdown",
   "metadata": {},
   "source": [
    "#### Create a Soils Cost Layer\n",
    "\n",
    "Create a cost layer where hydric soils over 50 percent are the highest value."
   ]
  },
  {
   "cell_type": "code",
   "execution_count": 33,
   "metadata": {},
   "outputs": [
    {
     "data": {
      "text/html": [
       "<div class='gpresult'><h2>Messages</h2><div id='messages' data-messages='[\"Start Time: Sunday, November 3, 2024 12:04:33 PM\",\"Succeeded at Sunday, November 3, 2024 12:04:34 PM (Elapsed Time: 0.97 seconds)\"]' data-show='true'><div id = 'default' /></div></div>"
      ],
      "text/plain": [
       "<Result 'C:\\\\Users\\\\ethan\\\\Desktop\\\\ARLT_MGIS\\\\GIS5571\\\\FinalProject\\\\Data\\\\Clipped\\\\soils_reclass'>"
      ]
     },
     "execution_count": 33,
     "metadata": {},
     "output_type": "execute_result"
    }
   ],
   "source": [
    "# Reclassify Soils Data\n",
    "\n",
    "arcpy.ddd.Reclassify(\n",
    "    in_raster=\"hydric_soils_Clip\",\n",
    "    reclass_field=\"ClassName\",\n",
    "    remap=\"'Not Hydric' 1;'Partially Hydric (1 - 25%)' 2;'Partially Hydric (26 - 50%)' 3;'Mostly Hydric (76 - 95%)' 4;'All Hydric' 5\",\n",
    "    out_raster=r\"C:\\Users\\ethan\\Desktop\\ARLT_MGIS\\GIS5571\\FinalProject\\Data\\Clipped\\soils_reclass\",\n",
    "    missing_values=\"DATA\"\n",
    ")"
   ]
  },
  {
   "cell_type": "markdown",
   "metadata": {},
   "source": [
    "____"
   ]
  },
  {
   "cell_type": "markdown",
   "metadata": {},
   "source": [
    "### Part 2: Develop a Cost Surface Layer and Identify High Priority Areas"
   ]
  },
  {
   "cell_type": "markdown",
   "metadata": {},
   "source": [
    "#### 5a. Create a Cost Surface Layer"
   ]
  },
  {
   "cell_type": "code",
   "execution_count": 55,
   "metadata": {},
   "outputs": [],
   "source": [
    "# Create an Equal Cost Surface using NCLD 1 and 3 = 10, TWI > 5 = 10, Slope < 10 = 10, Soil Hydric > 50% = 10\n",
    "\n",
    "with arcpy.EnvManager(scratchWorkspace=r\"C:\\Users\\ethan\\Desktop\\ARLT_MGIS\\GIS5571\\FinalProject\\Outputs\"):\n",
    "    out_raster = arcpy.sa.WeightedOverlay(\n",
    "        in_weighted_overlay_table=r\"('C:\\Users\\ethan\\Desktop\\ARLT_MGIS\\GIS5571\\FinalProject\\Data\\Clipped\\ncld_reclass' 40 'VALUE' (1 10; 2 5; 3 10; 4 1; 5 1; NODATA NODATA); 'C:\\Users\\ethan\\Desktop\\ARLT_MGIS\\GIS5571\\FinalProject\\Data\\Clipped\\reclass_twi' 20 'VALUE' (1 1; 2 10; 3 10; 4 10; NODATA NODATA); 'C:\\Users\\ethan\\Desktop\\ARLT_MGIS\\GIS5571\\FinalProject\\Data\\Clipped\\slope_reclass' 20 'VALUE' (1 10; 2 5; 3 1; NODATA NODATA); 'C:\\Users\\ethan\\Desktop\\ARLT_MGIS\\GIS5571\\FinalProject\\Data\\Clipped\\soils_reclass' 20 'VALUE' (1 1; 2 3; 3 5; 4 10; 5 10; NODATA NODATA));1 10 1\"\n",
    "    )\n",
    "    out_raster.save(r\"C:\\Users\\ethan\\Desktop\\ARLT_MGIS\\GIS5571\\FinalProject\\Outputs\\EqWgt_NoBuff\")"
   ]
  },
  {
   "cell_type": "markdown",
   "metadata": {},
   "source": [
    "#### 5b. Evaluate Cost Surface for High Value Wetlands\n",
    "\n",
    "Determine wetland areas that are 2 cells or larger."
   ]
  },
  {
   "cell_type": "code",
   "execution_count": 56,
   "metadata": {},
   "outputs": [],
   "source": [
    "\n",
    "\n",
    "# Identify areas with 2 cells the same touching\n",
    "with arcpy.EnvManager(outputCoordinateSystem='PROJCS[\"NAD_1983_UTM_Zone_15N\",GEOGCS[\"GCS_North_American_1983\",DATUM[\"D_North_American_1983\",SPHEROID[\"GRS_1980\",6378137.0,298.257222101]],PRIMEM[\"Greenwich\",0.0],UNIT[\"Degree\",0.0174532925199433]],PROJECTION[\"Transverse_Mercator\"],PARAMETER[\"False_Easting\",500000.0],PARAMETER[\"False_Northing\",0.0],PARAMETER[\"Central_Meridian\",-93.0],PARAMETER[\"Scale_Factor\",0.9996],PARAMETER[\"Latitude_Of_Origin\",0.0],UNIT[\"Meter\",1.0]],VERTCS[\"NAVD_1988\",VDATUM[\"North_American_Vertical_Datum_1988\"],PARAMETER[\"Vertical_Shift\",0.0],PARAMETER[\"Direction\",1.0],UNIT[\"Meter\",1.0]]', scratchWorkspace=r\"C:\\Users\\ethan\\Documents\\ArcGIS\\Projects\\Arc1_FinalProject\\Arc1_FinalProject.gdb\"):\n",
    "    out_raster = arcpy.sa.FocalStatistics(\n",
    "        in_raster=\"out_raster\",\n",
    "        neighborhood=\"Rectangle 3 3 CELL\",\n",
    "        statistics_type=\"MEAN\",\n",
    "        ignore_nodata=\"DATA\",\n",
    "        percentile_value=90\n",
    "    )\n",
    "    out_raster.save(r\"C:\\Users\\ethan\\Documents\\ArcGIS\\Projects\\Arc1_FinalProject\\Arc1_FinalProject.gdb\\FocalSt_EqWg1\")"
   ]
  },
  {
   "cell_type": "code",
   "execution_count": 57,
   "metadata": {},
   "outputs": [],
   "source": [
    "with arcpy.EnvManager(outputCoordinateSystem='PROJCS[\"NAD_1983_UTM_Zone_15N\",GEOGCS[\"GCS_North_American_1983\",DATUM[\"D_North_American_1983\",SPHEROID[\"GRS_1980\",6378137.0,298.257222101]],PRIMEM[\"Greenwich\",0.0],UNIT[\"Degree\",0.0174532925199433]],PROJECTION[\"Transverse_Mercator\"],PARAMETER[\"False_Easting\",500000.0],PARAMETER[\"False_Northing\",0.0],PARAMETER[\"Central_Meridian\",-93.0],PARAMETER[\"Scale_Factor\",0.9996],PARAMETER[\"Latitude_Of_Origin\",0.0],UNIT[\"Meter\",1.0]],VERTCS[\"NAVD_1988\",VDATUM[\"North_American_Vertical_Datum_1988\"],PARAMETER[\"Vertical_Shift\",0.0],PARAMETER[\"Direction\",1.0],UNIT[\"Meter\",1.0]]', scratchWorkspace=r\"C:\\Users\\ethan\\Documents\\ArcGIS\\Projects\\Arc1_FinalProject\\Arc1_FinalProject.gdb\"):\n",
    "    out_raster = arcpy.sa.FocalStatistics(\n",
    "        in_raster=\"out_raster\",\n",
    "        neighborhood=\"Circle 10 CELL\",\n",
    "        statistics_type=\"MEAN\",\n",
    "        ignore_nodata=\"DATA\",\n",
    "        percentile_value=90\n",
    "    )\n",
    "    out_raster.save(r\"C:\\Users\\ethan\\Documents\\ArcGIS\\Projects\\Arc1_FinalProject\\Arc1_FinalProject.gdb\\FocalSt_EqWg2\")"
   ]
  },
  {
   "cell_type": "markdown",
   "metadata": {},
   "source": [
    "#### 5c. Identify Land Use by Parcel and Protection Status"
   ]
  },
  {
   "cell_type": "markdown",
   "metadata": {},
   "source": [
    "_____"
   ]
  },
  {
   "cell_type": "markdown",
   "metadata": {},
   "source": [
    "### Part 3: Analyze Wetland Site Priorities"
   ]
  },
  {
   "cell_type": "markdown",
   "metadata": {},
   "source": [
    "#### 6a. Randomized Weighting"
   ]
  },
  {
   "cell_type": "markdown",
   "metadata": {},
   "source": [
    "#### 6b. Compare to Non-Randomized Weighting (Equal Weighting)"
   ]
  },
  {
   "cell_type": "markdown",
   "metadata": {},
   "source": [
    "#### 6c. Autocorrelation Results"
   ]
  },
  {
   "cell_type": "code",
   "execution_count": null,
   "metadata": {},
   "outputs": [],
   "source": []
  }
 ],
 "metadata": {
  "kernelspec": {
   "display_name": "ArcGISPro",
   "language": "Python",
   "name": "python3"
  },
  "language_info": {
   "file_extension": ".py",
   "name": "python",
   "version": "3"
  }
 },
 "nbformat": 4,
 "nbformat_minor": 2
}
