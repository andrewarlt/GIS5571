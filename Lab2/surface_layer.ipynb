{
 "cells": [
  {
   "cell_type": "code",
   "execution_count": 1,
   "metadata": {},
   "outputs": [],
   "source": [
    "import io\n",
    "import os\n",
    "import sys\n",
    "import arcpy\n",
    "import laspy\n",
    "from zipfile import ZipFile\n",
    "import zipfile\n",
    "import pandas as pd\n",
    "import requests\n",
    "import ftplib\n",
    "from bs4 import BeautifulSoup as bs\n",
    "from arcgis.features import GeoAccessor, GeoSeriesAccessor, FeatureCollection, FeatureSet\n",
    "from arcpy import env\n",
    "from arcpy.sa import *"
   ]
  },
  {
   "cell_type": "code",
   "execution_count": 75,
   "metadata": {},
   "outputs": [],
   "source": [
    "# Define the base URL and domain\n",
    "DOMAIN = \"https://resources.gisdata.mn.gov\"\n",
    "BASE_URL = \"https://resources.gisdata.mn.gov/pub/data/elevation/lidar/county\"\n",
    "FILETYPE = \".laz\"\n",
    "\n",
    "# Directory where the .laz files will be saved\n",
    "save_folder = r\"C:\\Users\\ethan\\Desktop\\ARLT_MGIS\\GIS5571\\Lab2\\Part2\\MN_laz_DEM\"\n",
    "os.makedirs(save_folder, exist_ok=True)  # Create the folder if it doesn't exist"
   ]
  },
  {
   "cell_type": "code",
   "execution_count": 81,
   "metadata": {
    "scrolled": true
   },
   "outputs": [
    {
     "name": "stdout",
     "output_type": "stream",
     "text": [
      "Downloading https://resources.gisdata.mn.gov/pub/data/elevation/lidar/county/winona/laz/4342-28-63.laz from winona...\n",
      "Saved to C:\\Users\\ethan\\Desktop\\ARLT_MGIS\\GIS5571\\Lab2\\Part2\\MN_laz_DEM\\4342-28-63.laz\n",
      "Downloading https://resources.gisdata.mn.gov/pub/data/elevation/lidar/county/winona/laz/4342-28-64.laz from winona...\n",
      "Saved to C:\\Users\\ethan\\Desktop\\ARLT_MGIS\\GIS5571\\Lab2\\Part2\\MN_laz_DEM\\4342-28-64.laz\n",
      "Downloading https://resources.gisdata.mn.gov/pub/data/elevation/lidar/county/winona/laz/4342-29-63.laz from winona...\n",
      "Saved to C:\\Users\\ethan\\Desktop\\ARLT_MGIS\\GIS5571\\Lab2\\Part2\\MN_laz_DEM\\4342-29-63.laz\n",
      "Downloading https://resources.gisdata.mn.gov/pub/data/elevation/lidar/county/winona/laz/4342-29-64.laz from winona...\n",
      "Saved to C:\\Users\\ethan\\Desktop\\ARLT_MGIS\\GIS5571\\Lab2\\Part2\\MN_laz_DEM\\4342-29-64.laz\n",
      "Downloading https://resources.gisdata.mn.gov/pub/data/elevation/lidar/county/winona/laz/4342-30-62.laz from winona...\n",
      "Saved to C:\\Users\\ethan\\Desktop\\ARLT_MGIS\\GIS5571\\Lab2\\Part2\\MN_laz_DEM\\4342-30-62.laz\n",
      "Downloading https://resources.gisdata.mn.gov/pub/data/elevation/lidar/county/winona/laz/4342-30-63.laz from winona...\n",
      "Saved to C:\\Users\\ethan\\Desktop\\ARLT_MGIS\\GIS5571\\Lab2\\Part2\\MN_laz_DEM\\4342-30-63.laz\n",
      "Downloading https://resources.gisdata.mn.gov/pub/data/elevation/lidar/county/winona/laz/4342-30-64.laz from winona...\n",
      "Saved to C:\\Users\\ethan\\Desktop\\ARLT_MGIS\\GIS5571\\Lab2\\Part2\\MN_laz_DEM\\4342-30-64.laz\n",
      "Downloading https://resources.gisdata.mn.gov/pub/data/elevation/lidar/county/winona/laz/4342-31-62.laz from winona...\n",
      "Saved to C:\\Users\\ethan\\Desktop\\ARLT_MGIS\\GIS5571\\Lab2\\Part2\\MN_laz_DEM\\4342-31-62.laz\n",
      "Downloading https://resources.gisdata.mn.gov/pub/data/elevation/lidar/county/winona/laz/4342-31-63.laz from winona...\n",
      "Saved to C:\\Users\\ethan\\Desktop\\ARLT_MGIS\\GIS5571\\Lab2\\Part2\\MN_laz_DEM\\4342-31-63.laz\n",
      "Downloading https://resources.gisdata.mn.gov/pub/data/elevation/lidar/county/winona/laz/4342-31-64.laz from winona...\n",
      "Saved to C:\\Users\\ethan\\Desktop\\ARLT_MGIS\\GIS5571\\Lab2\\Part2\\MN_laz_DEM\\4342-31-64.laz\n",
      "Downloading https://resources.gisdata.mn.gov/pub/data/elevation/lidar/county/winona/laz/4342-32-62.laz from winona...\n",
      "Saved to C:\\Users\\ethan\\Desktop\\ARLT_MGIS\\GIS5571\\Lab2\\Part2\\MN_laz_DEM\\4342-32-62.laz\n",
      "Downloading https://resources.gisdata.mn.gov/pub/data/elevation/lidar/county/winona/laz/4342-32-63.laz from winona...\n",
      "Saved to C:\\Users\\ethan\\Desktop\\ARLT_MGIS\\GIS5571\\Lab2\\Part2\\MN_laz_DEM\\4342-32-63.laz\n",
      "Downloading https://resources.gisdata.mn.gov/pub/data/elevation/lidar/county/winona/laz/4342-32-64.laz from winona...\n",
      "Saved to C:\\Users\\ethan\\Desktop\\ARLT_MGIS\\GIS5571\\Lab2\\Part2\\MN_laz_DEM\\4342-32-64.laz\n",
      "Downloading https://resources.gisdata.mn.gov/pub/data/elevation/lidar/county/wabasha/laz/4342-28-60.laz from wabasha...\n",
      "Saved to C:\\Users\\ethan\\Desktop\\ARLT_MGIS\\GIS5571\\Lab2\\Part2\\MN_laz_DEM\\4342-28-60.laz\n",
      "Downloading https://resources.gisdata.mn.gov/pub/data/elevation/lidar/county/wabasha/laz/4342-28-61.laz from wabasha...\n",
      "Saved to C:\\Users\\ethan\\Desktop\\ARLT_MGIS\\GIS5571\\Lab2\\Part2\\MN_laz_DEM\\4342-28-61.laz\n",
      "Downloading https://resources.gisdata.mn.gov/pub/data/elevation/lidar/county/wabasha/laz/4342-28-62.laz from wabasha...\n",
      "Saved to C:\\Users\\ethan\\Desktop\\ARLT_MGIS\\GIS5571\\Lab2\\Part2\\MN_laz_DEM\\4342-28-62.laz\n",
      "Downloading https://resources.gisdata.mn.gov/pub/data/elevation/lidar/county/wabasha/laz/4342-29-60.laz from wabasha...\n",
      "Saved to C:\\Users\\ethan\\Desktop\\ARLT_MGIS\\GIS5571\\Lab2\\Part2\\MN_laz_DEM\\4342-29-60.laz\n",
      "Downloading https://resources.gisdata.mn.gov/pub/data/elevation/lidar/county/wabasha/laz/4342-29-61.laz from wabasha...\n",
      "Saved to C:\\Users\\ethan\\Desktop\\ARLT_MGIS\\GIS5571\\Lab2\\Part2\\MN_laz_DEM\\4342-29-61.laz\n",
      "Downloading https://resources.gisdata.mn.gov/pub/data/elevation/lidar/county/wabasha/laz/4342-29-62.laz from wabasha...\n",
      "Saved to C:\\Users\\ethan\\Desktop\\ARLT_MGIS\\GIS5571\\Lab2\\Part2\\MN_laz_DEM\\4342-29-62.laz\n",
      "Downloading https://resources.gisdata.mn.gov/pub/data/elevation/lidar/county/olmsted/laz/4342-30-60.laz from olmsted...\n",
      "Saved to C:\\Users\\ethan\\Desktop\\ARLT_MGIS\\GIS5571\\Lab2\\Part2\\MN_laz_DEM\\4342-30-60.laz\n",
      "Downloading https://resources.gisdata.mn.gov/pub/data/elevation/lidar/county/olmsted/laz/4342-30-61.laz from olmsted...\n",
      "Saved to C:\\Users\\ethan\\Desktop\\ARLT_MGIS\\GIS5571\\Lab2\\Part2\\MN_laz_DEM\\4342-30-61.laz\n",
      "Downloading https://resources.gisdata.mn.gov/pub/data/elevation/lidar/county/olmsted/laz/4342-31-60.laz from olmsted...\n",
      "Saved to C:\\Users\\ethan\\Desktop\\ARLT_MGIS\\GIS5571\\Lab2\\Part2\\MN_laz_DEM\\4342-31-60.laz\n",
      "Downloading https://resources.gisdata.mn.gov/pub/data/elevation/lidar/county/olmsted/laz/4342-31-61.laz from olmsted...\n",
      "Saved to C:\\Users\\ethan\\Desktop\\ARLT_MGIS\\GIS5571\\Lab2\\Part2\\MN_laz_DEM\\4342-31-61.laz\n",
      "Downloading https://resources.gisdata.mn.gov/pub/data/elevation/lidar/county/olmsted/laz/4342-32-60.laz from olmsted...\n",
      "Saved to C:\\Users\\ethan\\Desktop\\ARLT_MGIS\\GIS5571\\Lab2\\Part2\\MN_laz_DEM\\4342-32-60.laz\n",
      "Downloading https://resources.gisdata.mn.gov/pub/data/elevation/lidar/county/olmsted/laz/4342-32-61.laz from olmsted...\n",
      "Saved to C:\\Users\\ethan\\Desktop\\ARLT_MGIS\\GIS5571\\Lab2\\Part2\\MN_laz_DEM\\4342-32-61.laz\n"
     ]
    }
   ],
   "source": [
    "# Dictionary mapping each county to its list of specific file numbers\n",
    "county_file_map = {\n",
    "    \"winona\": [\"4342-30-62\", \"4342-30-63\", \"4342-30-64\", \"4342-31-62\", \"4342-31-63\", \"4342-31-64\", \n",
    "               \"4342-32-62\", \"4342-32-63\", \"4342-32-64\", \"4342-28-63\", \"4342-28-64\", \"4342-29-63\", \"4342-29-64\"],\n",
    "    \"wabasha\": [\"4342-28-60\", \"4342-28-61\", \"4342-28-62\", \"4342-29-60\", \"4342-29-61\", \"4342-29-62\"],\n",
    "    \"olmsted\": [\"4342-30-60\", \"4342-30-61\", \"4342-31-60\", \"4342-31-61\", \"4342-32-60\", \"4342-32-61\"],\n",
    "}\n",
    "\n",
    "# Function to fetch and parse the HTML from the URL\n",
    "def get_laz(url):\n",
    "    return bs(requests.get(url).text, 'html.parser')\n",
    "\n",
    "# Loop through each county in the dictionary\n",
    "for county, file_numbers in county_file_map.items():\n",
    "    # Construct the county-specific URL\n",
    "    county_url = f\"{BASE_URL}/{county}/laz/\"\n",
    "    \n",
    "    # Loop through all links on the page and download the ones that match the file numbers\n",
    "    for link in get_laz(county_url).find_all('a'):\n",
    "        laz_link = link.get('href')\n",
    "        if laz_link and FILETYPE in laz_link:  # Check if laz_link is not None and ends with .laz\n",
    "            \n",
    "            # Check if the file number is in the laz_link (assuming the file number is part of the filename)\n",
    "            if any(file_number in laz_link for file_number in file_numbers):\n",
    "                \n",
    "                # Construct a full URL using county_url if relative path\n",
    "                if laz_link.startswith('/'):\n",
    "                    full_url = DOMAIN + laz_link  # Relative link, add DOMAIN\n",
    "                else:\n",
    "                    full_url = county_url + laz_link  # Absolute link, use it as is\n",
    "\n",
    "                filename = os.path.basename(laz_link)  # Extract the filename from the URL\n",
    "                \n",
    "                # Full path to save the .laz file\n",
    "                file_path = os.path.join(save_folder, filename)\n",
    "                \n",
    "                # Download and save the .laz file\n",
    "                print(f\"Downloading {full_url} from {county}...\")\n",
    "                try:\n",
    "                    response = requests.get(full_url)\n",
    "                    response.raise_for_status()  # Check for any errors\n",
    "                    \n",
    "                    with open(file_path, 'wb') as file:\n",
    "                        file.write(response.content)\n",
    "                    print(f\"Saved to {file_path}\")\n",
    "                except requests.exceptions.RequestException as e:\n",
    "                    print(f\"Failed to download {full_url}: {e}\")"
   ]
  },
  {
   "cell_type": "code",
   "execution_count": 82,
   "metadata": {},
   "outputs": [
    {
     "name": "stdout",
     "output_type": "stream",
     "text": [
      "Converted 4342-28-60.laz and added to C:\\Users\\ethan\\Desktop\\ARLT_MGIS\\GIS5571\\Lab2\\Part2\\las_files\n",
      "Converted 4342-28-61.laz and added to C:\\Users\\ethan\\Desktop\\ARLT_MGIS\\GIS5571\\Lab2\\Part2\\las_files\n",
      "Converted 4342-28-62.laz and added to C:\\Users\\ethan\\Desktop\\ARLT_MGIS\\GIS5571\\Lab2\\Part2\\las_files\n",
      "Converted 4342-28-63.laz and added to C:\\Users\\ethan\\Desktop\\ARLT_MGIS\\GIS5571\\Lab2\\Part2\\las_files\n",
      "Converted 4342-28-64.laz and added to C:\\Users\\ethan\\Desktop\\ARLT_MGIS\\GIS5571\\Lab2\\Part2\\las_files\n",
      "Converted 4342-29-60.laz and added to C:\\Users\\ethan\\Desktop\\ARLT_MGIS\\GIS5571\\Lab2\\Part2\\las_files\n",
      "Converted 4342-29-61.laz and added to C:\\Users\\ethan\\Desktop\\ARLT_MGIS\\GIS5571\\Lab2\\Part2\\las_files\n",
      "Converted 4342-29-62.laz and added to C:\\Users\\ethan\\Desktop\\ARLT_MGIS\\GIS5571\\Lab2\\Part2\\las_files\n",
      "Converted 4342-29-63.laz and added to C:\\Users\\ethan\\Desktop\\ARLT_MGIS\\GIS5571\\Lab2\\Part2\\las_files\n",
      "Converted 4342-29-64.laz and added to C:\\Users\\ethan\\Desktop\\ARLT_MGIS\\GIS5571\\Lab2\\Part2\\las_files\n",
      "Converted 4342-30-60.laz and added to C:\\Users\\ethan\\Desktop\\ARLT_MGIS\\GIS5571\\Lab2\\Part2\\las_files\n",
      "Converted 4342-30-61.laz and added to C:\\Users\\ethan\\Desktop\\ARLT_MGIS\\GIS5571\\Lab2\\Part2\\las_files\n",
      "Converted 4342-30-62.laz and added to C:\\Users\\ethan\\Desktop\\ARLT_MGIS\\GIS5571\\Lab2\\Part2\\las_files\n",
      "Converted 4342-30-63.laz and added to C:\\Users\\ethan\\Desktop\\ARLT_MGIS\\GIS5571\\Lab2\\Part2\\las_files\n",
      "Converted 4342-30-64.laz and added to C:\\Users\\ethan\\Desktop\\ARLT_MGIS\\GIS5571\\Lab2\\Part2\\las_files\n",
      "Converted 4342-31-60.laz and added to C:\\Users\\ethan\\Desktop\\ARLT_MGIS\\GIS5571\\Lab2\\Part2\\las_files\n",
      "Converted 4342-31-61.laz and added to C:\\Users\\ethan\\Desktop\\ARLT_MGIS\\GIS5571\\Lab2\\Part2\\las_files\n",
      "Converted 4342-31-62.laz and added to C:\\Users\\ethan\\Desktop\\ARLT_MGIS\\GIS5571\\Lab2\\Part2\\las_files\n",
      "Converted 4342-31-63.laz and added to C:\\Users\\ethan\\Desktop\\ARLT_MGIS\\GIS5571\\Lab2\\Part2\\las_files\n",
      "Converted 4342-31-64.laz and added to C:\\Users\\ethan\\Desktop\\ARLT_MGIS\\GIS5571\\Lab2\\Part2\\las_files\n",
      "Converted 4342-32-60.laz and added to C:\\Users\\ethan\\Desktop\\ARLT_MGIS\\GIS5571\\Lab2\\Part2\\las_files\n",
      "Converted 4342-32-61.laz and added to C:\\Users\\ethan\\Desktop\\ARLT_MGIS\\GIS5571\\Lab2\\Part2\\las_files\n",
      "Converted 4342-32-62.laz and added to C:\\Users\\ethan\\Desktop\\ARLT_MGIS\\GIS5571\\Lab2\\Part2\\las_files\n",
      "Converted 4342-32-63.laz and added to C:\\Users\\ethan\\Desktop\\ARLT_MGIS\\GIS5571\\Lab2\\Part2\\las_files\n",
      "Converted 4342-32-64.laz and added to C:\\Users\\ethan\\Desktop\\ARLT_MGIS\\GIS5571\\Lab2\\Part2\\las_files\n",
      "LAS dataset created at C:\\Users\\ethan\\Desktop\\ARLT_MGIS\\GIS5571\\Lab2\\Part2\\las_dataset.lasd with EPSG:26915\n",
      "Process complete!\n"
     ]
    }
   ],
   "source": [
    "# Specify the folder containing LAZ files and output paths\n",
    "input_laz_folder = r\"C:\\Users\\ethan\\Desktop\\ARLT_MGIS\\GIS5571\\Lab2\\Part2\\MN_laz_DEM\"  # Path to your folder with .laz files\n",
    "output_las_folder = r\"C:\\Users\\ethan\\Desktop\\ARLT_MGIS\\GIS5571\\Lab2\\Part2\\las_files\"  # Output folder for .las files\n",
    "lasd_output = r\"C:\\Users\\ethan\\Desktop\\ARLT_MGIS\\GIS5571\\Lab2\\Part2\\las_dataset.lasd\"  # Output .lasd file\n",
    "\n",
    "# Define the spatial reference using EPSG:26915 (NAD83 / UTM zone 15N)\n",
    "spatial_ref = arcpy.SpatialReference(26915)  # EPSG:26915 for NAD83 / UTM zone 15N\n",
    "\n",
    "# Ensure the output LAS folder exists\n",
    "if not os.path.exists(output_las_folder):\n",
    "    os.makedirs(output_las_folder)\n",
    "\n",
    "# Remove existing LAS dataset if it exists\n",
    "if os.path.exists(lasd_output):\n",
    "    arcpy.management.Delete(lasd_output)  # Delete the existing LAS dataset to avoid errors\n",
    "\n",
    "# Loop through all .laz files in the input folder\n",
    "for laz_file in os.listdir(input_laz_folder):\n",
    "    if laz_file.endswith(\".laz\"):\n",
    "        input_laz_file = os.path.join(input_laz_folder, laz_file)\n",
    "\n",
    "        # Convert LAZ to LAS using ConvertLas tool\n",
    "        arcpy.conversion.ConvertLas(\n",
    "            input_laz_file, \n",
    "            output_las_folder,  # Specify the target folder for .las files\n",
    "            compression=\"NO_COMPRESSION\",  # Disable compression\n",
    "            define_coordinate_system=\"ALL_FILES\",  # Define coordinate system for all files\n",
    "            in_coordinate_system=spatial_ref  # Set the input coordinate system to EPSG:26915\n",
    "        )\n",
    "        print(f\"Converted {laz_file} and added to {output_las_folder}\")\n",
    "\n",
    "# Create a LAS dataset (.lasd) from the LAS files and apply the spatial reference EPSG:26915\n",
    "las_files = [os.path.join(output_las_folder, f) for f in os.listdir(output_las_folder) if f.endswith(\".las\")]\n",
    "\n",
    "# Check if there are any LAS files to create a LAS dataset\n",
    "if las_files:\n",
    "    arcpy.management.CreateLasDataset(\n",
    "        las_files,\n",
    "        lasd_output,\n",
    "        spatial_reference=spatial_ref,  # Apply EPSG:26915 spatial reference\n",
    "        folder_recursion=\"NO_RECURSION\",\n",
    "        in_surface_constraints=\"\"\n",
    "    )\n",
    "    print(f\"LAS dataset created at {lasd_output} with EPSG:26915\")\n",
    "else:\n",
    "    print(\"No LAS files found for creating LAS dataset.\")\n",
    "\n",
    "print(\"Process complete!\")"
   ]
  },
  {
   "cell_type": "code",
   "execution_count": 83,
   "metadata": {},
   "outputs": [
    {
     "name": "stdout",
     "output_type": "stream",
     "text": [
      "Retrieving statistics for LAS dataset at C:\\Users\\ethan\\Desktop\\ARLT_MGIS\\GIS5571\\Lab2\\Part2\\las_dataset.lasd...\n",
      "LAS Dataset Statistics:\n",
      "Point Count: 202137958\n",
      "Bounding Box: 567455.96, 4872214.87, 580161.41, 4889709.41\n",
      "Failed to retrieve LAS dataset statistics: DescribeData: Method zMin does not exist\n"
     ]
    }
   ],
   "source": [
    "# Define the path to the LAS dataset\n",
    "lasd_file_path = r\"C:\\Users\\ethan\\Desktop\\ARLT_MGIS\\GIS5571\\Lab2\\Part2\\las_dataset.lasd\"\n",
    "\n",
    "# Check if the LAS dataset exists\n",
    "if os.path.exists(lasd_file_path):\n",
    "    print(f\"Retrieving statistics for LAS dataset at {lasd_file_path}...\")\n",
    "\n",
    "    try:\n",
    "        # Use Describe to get the properties of the LAS dataset\n",
    "        desc = arcpy.Describe(lasd_file_path)\n",
    "\n",
    "        # Display the statistics\n",
    "        print(\"LAS Dataset Statistics:\")\n",
    "        print(f\"Point Count: {desc.pointCount}\")\n",
    "        print(f\"Bounding Box: {desc.extent.XMin}, {desc.extent.YMin}, {desc.extent.XMax}, {desc.extent.YMax}\")\n",
    "        print(f\"Z Min: {desc.zMin}\")\n",
    "        print(f\"Z Max: {desc.zMax}\")\n",
    "        print(f\"Average Return Number: {desc.avgReturnNumber}\")\n",
    "        print(f\"Number of Returns: {desc.numberOfReturns}\")\n",
    "\n",
    "    except Exception as e:\n",
    "        print(f\"Failed to retrieve LAS dataset statistics: {e}\")\n",
    "else:\n",
    "    print(\"LAS dataset not found.\")"
   ]
  },
  {
   "cell_type": "code",
   "execution_count": 84,
   "metadata": {},
   "outputs": [
    {
     "name": "stdout",
     "output_type": "stream",
     "text": [
      "DEM successfully created at: C:\\Users\\ethan\\Desktop\\ARLT_MGIS\\GIS5571\\Lab2\\Part2\\DEM\\output_dem.tif\n"
     ]
    }
   ],
   "source": [
    "# Convert the .lasd to a DEM\n",
    "\n",
    "# Paths to input LAS dataset and output DEM\n",
    "las_dataset = r\"C:\\Users\\ethan\\Desktop\\ARLT_MGIS\\GIS5571\\Lab2\\Part2\\las_dataset.lasd\"  # Your LAS dataset file\n",
    "output_dem = r\"C:\\Users\\ethan\\Desktop\\ARLT_MGIS\\GIS5571\\Lab2\\Part2\\DEM\\output_dem.tif\"  # Output DEM (raster)\n",
    "\n",
    "# Ensure the output DEM directory exists\n",
    "output_dir = os.path.dirname(output_dem)\n",
    "if not os.path.exists(output_dir):\n",
    "    os.makedirs(output_dir)\n",
    "\n",
    "# Convert LAS dataset to Raster (DEM) using Binning interpolation\n",
    "arcpy.conversion.LasDatasetToRaster(\n",
    "    las_dataset,\n",
    "    output_dem,\n",
    "    value_field=\"ELEVATION\",  # Use ELEVATION field for DEM creation\n",
    "    data_type=\"FLOAT\",  # Set output raster data type to FLOAT\n",
    "    z_factor=1,  # No vertical exaggeration\n",
    "    )\n",
    "\n",
    "print(f\"DEM successfully created at: {output_dem}\")"
   ]
  },
  {
   "cell_type": "code",
   "execution_count": 85,
   "metadata": {},
   "outputs": [
    {
     "name": "stdout",
     "output_type": "stream",
     "text": [
      "Input DEM exists.\n",
      "Slope raster created successfully at C:\\Users\\ethan\\Desktop\\ARLT_MGIS\\GIS5571\\Lab2\\Part2\\DEM\\slope.tif!\n"
     ]
    }
   ],
   "source": [
    "# Set the input DEM\n",
    "input_dem = r\"C:\\Users\\ethan\\Desktop\\ARLT_MGIS\\GIS5571\\Lab2\\Part2\\DEM\\output_dem.tif\"\n",
    "\n",
    "# Set the output slope raster\n",
    "output_slope = r\"C:\\Users\\ethan\\Desktop\\ARLT_MGIS\\GIS5571\\Lab2\\Part2\\DEM\\slope.tif\"\n",
    "\n",
    "# Ensure the Spatial Analyst extension is available\n",
    "arcpy.CheckOutExtension(\"Spatial\")\n",
    "\n",
    "# Ensure the output directory for the slope exists\n",
    "output_dir = os.path.dirname(output_slope)\n",
    "if not os.path.exists(output_dir):\n",
    "    os.makedirs(output_dir)\n",
    "\n",
    "# Check if the input DEM exists\n",
    "if not os.path.exists(input_dem):\n",
    "    print(f\"Input DEM not found at {input_dem}\")\n",
    "else:\n",
    "    print(\"Input DEM exists.\")\n",
    "\n",
    "    # Convert input DEM to a raster object\n",
    "    dem_raster = arcpy.Raster(input_dem)\n",
    "\n",
    "    # Execute the Slope tool using the raster object\n",
    "    slope_raster = Slope(dem_raster)\n",
    "\n",
    "    # Save the output slope raster\n",
    "    slope_raster.save(output_slope)\n",
    "\n",
    "    print(f\"Slope raster created successfully at {output_slope}!\")"
   ]
  },
  {
   "cell_type": "markdown",
   "metadata": {},
   "source": [
    "### Landcover Data"
   ]
  },
  {
   "cell_type": "code",
   "execution_count": 92,
   "metadata": {},
   "outputs": [
    {
     "name": "stdout",
     "output_type": "stream",
     "text": [
      "Downloading NLCD ZIP file (1868.07 MB)...\n"
     ]
    },
    {
     "name": "stderr",
     "output_type": "stream",
     "text": [
      "Downloading: 100%|██████████| 1.96G/1.96G [07:37<00:00, 4.28MB/s]﻿\n"
     ]
    },
    {
     "name": "stdout",
     "output_type": "stream",
     "text": [
      "File Name                                             Modified             Size\n",
      "nlcd_2021_land_cover_l48_20230630.ige          2023-07-10 13:24:40  26350989969\n",
      "nlcd_2021_land_cover_l48_20230630.img          2023-07-10 15:35:52    435940485\n",
      "nlcd_2021_land_cover_l48_20230630.xml          2023-07-11 14:56:44        48467\n",
      "Files in the extracted directory:\n",
      "['nlcd_2021_land_cover_l48_20230630.ige', 'nlcd_2021_land_cover_l48_20230630.img', 'nlcd_2021_land_cover_l48_20230630.xml']\n"
     ]
    }
   ],
   "source": [
    "# Inport Land cover data\n",
    "from tqdm import tqdm  \n",
    "\n",
    "# Define the URL and the output path for the ZIP file\n",
    "url = r\"https://s3-us-west-2.amazonaws.com/mrlc/nlcd_2021_land_cover_l48_20230630.zip\"\n",
    "zip_ncld_path = r\"C:\\Users\\ethan\\Desktop\\ARLT_MGIS\\GIS5571\\Lab2\\Part2\\ncld_2021.zip\"\n",
    "\n",
    "# Download the file using requests.get(), stream=True for chunked downloading\n",
    "response = requests.get(url, stream=True)\n",
    "\n",
    "# Get the file size from headers (optional, for progress indication)\n",
    "file_size = int(response.headers.get('content-length', 0))\n",
    "print(f\"Downloading NLCD ZIP file ({file_size / 1024 / 1024:.2f} MB)...\")\n",
    "\n",
    "# Stream the download and show a progress bar\n",
    "with open(zip_ncld_path, 'wb') as f:\n",
    "    with tqdm(total=file_size, unit='B', unit_scale=True, desc=\"Downloading\") as pbar:\n",
    "        for chunk in response.iter_content(chunk_size=1024):\n",
    "            if chunk:  # Filter out keep-alive new chunks\n",
    "                f.write(chunk)\n",
    "                pbar.update(len(chunk))\n",
    "\n",
    "# Open the ZIP file and print its contents\n",
    "with zipfile.ZipFile(zip_ncld_path, 'r') as zip_ref:\n",
    "    # Print the contents of the ZIP file\n",
    "    zip_ref.printdir()\n",
    "\n",
    "    # Create a directory for extraction if it doesn't exist\n",
    "    extraction_path = r\"C:\\Users\\ethan\\Desktop\\ARLT_MGIS\\GIS5571\\Lab2\\Part2\\Extracted\"\n",
    "    os.makedirs(extraction_path, exist_ok=True)\n",
    "\n",
    "    # Extract all files to the specified directory\n",
    "    zip_ref.extractall(extraction_path)\n",
    "\n",
    "# Show the files you just extracted\n",
    "print(\"Files in the extracted directory:\")\n",
    "print(os.listdir(extraction_path))"
   ]
  },
  {
   "cell_type": "code",
   "execution_count": 113,
   "metadata": {},
   "outputs": [
    {
     "data": {
      "text/html": [
       "<div class='gpresult'><h2>Messages</h2><div id='messages' data-messages='[\"Start Time: Friday, October 18, 2024 3:44:45 PM\",\"Succeeded at Friday, October 18, 2024 4:35:40 PM (Elapsed Time: 50 minutes 55 seconds)\"]' data-show='true'><div id = 'default' /></div></div>"
      ],
      "text/plain": [
       "<Result 'C:\\\\Users\\\\ethan\\\\Documents\\\\ArcGIS\\\\Projects\\\\GIS5571_Lab2_Part2\\\\GIS5571_Lab2_Part2.gdb\\\\nlcd_2021_ProjectRaster'>"
      ]
     },
     "execution_count": 113,
     "metadata": {},
     "output_type": "execute_result"
    }
   ],
   "source": [
    "# Project the Raster\n",
    "arcpy.management.ProjectRaster(\n",
    "    in_raster=r\"C:\\Users\\ethan\\Desktop\\ARLT_MGIS\\GIS5571\\Lab2\\Part2\\Extracted\\nlcd_2021_land_cover_l48_20230630.img\",\n",
    "    out_raster=r\"C:\\Users\\ethan\\Documents\\ArcGIS\\Projects\\GIS5571_Lab2_Part2\\GIS5571_Lab2_Part2.gdb\\nlcd_2021_ProjectRaster\",\n",
    "    out_coor_system='PROJCS[\"NAD_1983_UTM_Zone_15N\",GEOGCS[\"GCS_North_American_1983\",DATUM[\"D_North_American_1983\",SPHEROID[\"GRS_1980\",6378137.0,298.257222101]],PRIMEM[\"Greenwich\",0.0],UNIT[\"Degree\",0.0174532925199433]],PROJECTION[\"Transverse_Mercator\"],PARAMETER[\"False_Easting\",500000.0],PARAMETER[\"False_Northing\",0.0],PARAMETER[\"Central_Meridian\",-93.0],PARAMETER[\"Scale_Factor\",0.9996],PARAMETER[\"Latitude_Of_Origin\",0.0],UNIT[\"Meter\",1.0]]',\n",
    "    resampling_type=\"NEAREST\",\n",
    "    cell_size=\"29.9521028000161 29.9882891646674\",\n",
    "    geographic_transform=\"WGS_1984_(ITRF00)_To_NAD_1983\",\n",
    "    Registration_Point=None,\n",
    "    in_coor_system='PROJCS[\"Albers_Conical_Equal_Area\",GEOGCS[\"GCS_WGS_1984\",DATUM[\"D_WGS_1984\",SPHEROID[\"WGS_1984\",6378137.0,298.257223563]],PRIMEM[\"Greenwich\",0.0],UNIT[\"Degree\",0.0174532925199433]],PROJECTION[\"Albers\"],PARAMETER[\"False_Easting\",0.0],PARAMETER[\"False_Northing\",0.0],PARAMETER[\"Central_Meridian\",-96.0],PARAMETER[\"Standard_Parallel_1\",29.5],PARAMETER[\"Standard_Parallel_2\",45.5],PARAMETER[\"Latitude_Of_Origin\",23.0],UNIT[\"Meter\",1.0]]',\n",
    "    vertical=\"NO_VERTICAL\"\n",
    ")"
   ]
  },
  {
   "cell_type": "code",
   "execution_count": 116,
   "metadata": {},
   "outputs": [
    {
     "name": "stdout",
     "output_type": "stream",
     "text": [
      "Raster projection: NAD_1983_UTM_Zone_15N\n"
     ]
    }
   ],
   "source": [
    "# Confirm Projection\n",
    "desc = arcpy.Describe(in_raster)\n",
    "print(f\"Raster projection: {desc.spatialReference.name}\")"
   ]
  },
  {
   "cell_type": "code",
   "execution_count": 119,
   "metadata": {},
   "outputs": [
    {
     "name": "stdout",
     "output_type": "stream",
     "text": [
      "Input raster exists: C:\\Users\\ethan\\Documents\\ArcGIS\\Projects\\GIS5571_Lab2_Part2\\GIS5571_Lab2_Part2.gdb\\nlcd_2021_ProjectRaster\n",
      "Clipped raster created at C:\\Users\\ethan\\Documents\\ArcGIS\\Projects\\GIS5571_Lab2_Part2\\GIS5571_Lab2_Part2.gdb\\nlcd_2021_Clip\n",
      "Clipped raster exists: C:\\Users\\ethan\\Documents\\ArcGIS\\Projects\\GIS5571_Lab2_Part2\\GIS5571_Lab2_Part2.gdb\\nlcd_2021_Clip\n"
     ]
    }
   ],
   "source": [
    "# Set workspace and output GDB\n",
    "input_folder = r\"C:\\Users\\ethan\\Documents\\ArcGIS\\Projects\\GIS5571_Lab2_Part2\"\n",
    "output_gdb = r\"C:\\Users\\ethan\\Documents\\ArcGIS\\Projects\\GIS5571_Lab2_Part2\\GIS5571_Lab2_Part2.gdb\"\n",
    "clip_extent = \"567455.96 4872214.87 580161.41 4889709.41\"\n",
    "nodata_value = \"0\"\n",
    "year = \"2021\"  # Set the year or other variables\n",
    "in_raster = r\"C:\\Users\\ethan\\Documents\\ArcGIS\\Projects\\GIS5571_Lab2_Part2\\GIS5571_Lab2_Part2.gdb\\nlcd_2021_ProjectRaster\"\n",
    "template_dataset = None  # If needed, set this to a valid template dataset\n",
    "\n",
    "# Define the output raster name\n",
    "out_raster = os.path.join(output_gdb, f\"nlcd_{year}_Clip\")\n",
    "\n",
    "# Debugging step to check if input raster exists\n",
    "if arcpy.Exists(in_raster):\n",
    "    print(f\"Input raster exists: {in_raster}\")\n",
    "else:\n",
    "    print(\"Input raster does not exist. Check path.\")\n",
    "    \n",
    "# Perform the clipping operation\n",
    "try:\n",
    "    arcpy.management.Clip(\n",
    "        in_raster=in_raster,\n",
    "        rectangle=clip_extent,\n",
    "        out_raster=out_raster,\n",
    "        in_template_dataset=template_dataset,\n",
    "        nodata_value=nodata_value,\n",
    "        clipping_geometry=\"NONE\",\n",
    "        maintain_clipping_extent=\"MAINTAIN_EXTENT\"\n",
    "    )\n",
    "    print(f\"Clipped raster created at {out_raster}\")\n",
    "    \n",
    "    # Check if output raster was created\n",
    "    if arcpy.Exists(out_raster):\n",
    "        print(f\"Clipped raster exists: {out_raster}\")\n",
    "    else:\n",
    "        print(\"Clipped raster was not created.\")\n",
    "        \n",
    "except Exception as e:\n",
    "    print(f\"Failed to clip raster: {e}\")"
   ]
  },
  {
   "cell_type": "code",
   "execution_count": 111,
   "metadata": {},
   "outputs": [
    {
     "name": "stdout",
     "output_type": "stream",
     "text": [
      "Raster Spatial Reference: Albers_Conical_Equal_Area\n"
     ]
    }
   ],
   "source": [
    "# Confirm the Projection\n",
    "projected_raster = os.path.join(output_gdb, \"projected_raster\")\n",
    "arcpy.management.ProjectRaster(\n",
    "    in_raster, \n",
    "    projected_raster, \n",
    "    out_coor_system=arcpy.SpatialReference(4326)  # Example: WGS 84\n",
    ")"
   ]
  },
  {
   "cell_type": "code",
   "execution_count": 127,
   "metadata": {},
   "outputs": [
    {
     "name": "stdout",
     "output_type": "stream",
     "text": [
      "Field 'NLCD_Reclass' does not exist. Adding it now...\n",
      "Field 'NLCD_Reclass' added successfully.\n",
      "Field 'NLCD_Reclass' populated based on NLCD values.\n",
      "Reclassification and pyramid building completed for: C:\\Users\\ethan\\Documents\\ArcGIS\\Projects\\GIS5571_Lab2_Part2\\GIS5571_Lab2_Part2.gdb\\ncld_2021_reclass\n"
     ]
    }
   ],
   "source": [
    "# Set the workspace and output geodatabase\n",
    "output_gdb = r\"C:\\Users\\ethan\\Documents\\ArcGIS\\Projects\\GIS5571_Lab2_Part2\\GIS5571_Lab2_Part2.gdb\"\n",
    "arcpy.env.workspace = output_gdb  # Set the environment workspace to the output GDB\n",
    "\n",
    "# Get the raster for reclassification\n",
    "in_raster = r\"C:\\Users\\ethan\\Documents\\ArcGIS\\Projects\\GIS5571_Lab2_Part2\\GIS5571_Lab2_Part2.gdb\\nlcd_2021_Clip\"\n",
    "\n",
    "# Check if 'NLCD_Reclass' field exists, if not, add it\n",
    "fields = [field.name for field in arcpy.ListFields(in_raster)]\n",
    "reclass_field = \"NLCD_Reclass\"\n",
    "\n",
    "if reclass_field not in fields:\n",
    "    print(f\"Field '{reclass_field}' does not exist. Adding it now...\")\n",
    "    \n",
    "    # Adding the field to the raster's attribute table\n",
    "    try:\n",
    "        arcpy.management.AddField(\n",
    "            in_table=in_raster,\n",
    "            field_name=reclass_field,\n",
    "            field_type=\"SHORT\",  # Use a suitable type; SHORT is for integers\n",
    "            field_alias=\"NLCD Reclassified\"\n",
    "        )\n",
    "        print(f\"Field '{reclass_field}' added successfully.\")\n",
    "        \n",
    "        # Update the field based on NLCD values using an UpdateCursor\n",
    "        with arcpy.da.UpdateCursor(in_raster, [\"Value\", reclass_field]) as cursor:\n",
    "            for row in cursor:\n",
    "                nlcd_value = row[0]\n",
    "                if nlcd_value in [11]:\n",
    "                    row[1] = 5\n",
    "                elif nlcd_value in [21, 22, 23, 24, 31]:\n",
    "                    row[1] = 4\n",
    "                elif nlcd_value in [41, 42, 43, 52, 71]:\n",
    "                    row[1] = 2\n",
    "                elif nlcd_value in [81, 82]:\n",
    "                    row[1] = 3\n",
    "                elif nlcd_value in [90, 95]:\n",
    "                    row[1] = 1\n",
    "                else:\n",
    "                    row[1] = 0  # For undefined or missing values\n",
    "                cursor.updateRow(row)\n",
    "        print(f\"Field '{reclass_field}' populated based on NLCD values.\")\n",
    "    \n",
    "    except arcpy.ExecuteError as e:\n",
    "        print(f\"Error adding or updating field: {arcpy.GetMessages(2)}\")\n",
    "    except Exception as e:\n",
    "        print(f\"An error occurred: {e}\")\n",
    "\n",
    "else:\n",
    "    print(f\"Field '{reclass_field}' already exists, proceeding with reclassification...\")\n",
    "\n",
    "# Perform the reclassification\n",
    "try:\n",
    "    out_raster = arcpy.sa.Reclassify(\n",
    "        in_raster=in_raster,\n",
    "        reclass_field=reclass_field,  # Reclassifying based on the new field\n",
    "        remap=\"11 5;21 4;22 4;23 4;24 4;31 4;41 2;42 2;43 2;52 2;71 2;81 3;82 3;90 1;95 1\",  # Adjust remap as needed\n",
    "        missing_values=\"DATA\"\n",
    "    )\n",
    "\n",
    "    # Save the reclassified raster\n",
    "    output_name = os.path.join(output_gdb, f\"ncld_{year}_reclass\")\n",
    "    out_raster.save(output_name)\n",
    "\n",
    "    # Build pyramids for the new raster\n",
    "    arcpy.management.BuildPyramids(output_name)\n",
    "\n",
    "    print(f\"Reclassification and pyramid building completed for: {output_name}\")\n",
    "\n",
    "except arcpy.ExecuteError as e:\n",
    "    print(f\"Failed to reclassify the raster: {arcpy.GetMessages(2)}\")\n",
    "except Exception as e:\n",
    "    print(f\"An error occurred: {e}\")"
   ]
  },
  {
   "cell_type": "code",
   "execution_count": 4,
   "metadata": {},
   "outputs": [],
   "source": [
    "# Reclass for AgLand Cost Raster\n",
    "\n",
    "with arcpy.EnvManager(scratchWorkspace=r\"C:\\Users\\ethan\\Documents\\ArcGIS\\Projects\\GIS5571_Lab2_Part2\\GIS5571_Lab2_Part2.gdb\"):\n",
    "    out_raster = arcpy.sa.Reclassify(\n",
    "        in_raster=\"nlcd_2021_Clip\",\n",
    "        reclass_field=\"NLCD_Reclass\",\n",
    "        remap=\"1 6;2 4;3 10;4 1;5 8\",\n",
    "        missing_values=\"DATA\"\n",
    "    )\n",
    "    out_raster.save(r\"C:\\Users\\ethan\\Documents\\ArcGIS\\Projects\\GIS5571_Lab2_Part2\\GIS5571_Lab2_Part2.gdb\\AgCost\")"
   ]
  },
  {
   "cell_type": "code",
   "execution_count": 5,
   "metadata": {},
   "outputs": [],
   "source": [
    "# Reclass for Water Cost Raster\n",
    "\n",
    "with arcpy.EnvManager(scratchWorkspace=r\"C:\\Users\\ethan\\Documents\\ArcGIS\\Projects\\GIS5571_Lab2_Part2\\GIS5571_Lab2_Part2.gdb\"):\n",
    "    out_raster = arcpy.sa.Reclassify(\n",
    "        in_raster=\"nlcd_2021_Clip\",\n",
    "        reclass_field=\"NLCD_Reclass\",\n",
    "        remap=\"1 6;2 2;3 3;4 1;5 8\",\n",
    "        missing_values=\"DATA\"\n",
    "    )\n",
    "    out_raster.save(r\"C:\\Users\\ethan\\Documents\\ArcGIS\\Projects\\GIS5571_Lab2_Part2\\GIS5571_Lab2_Part2.gdb\\WaterCost\")"
   ]
  },
  {
   "cell_type": "code",
   "execution_count": 6,
   "metadata": {},
   "outputs": [
    {
     "data": {
      "text/html": [
       "<div class='gpresult'><h2>Messages</h2><div id='messages' data-messages='[\"Start Time: Friday, October 25, 2024 12:07:05 PM\",\"Succeeded at Friday, October 25, 2024 12:07:07 PM (Elapsed Time: 2.02 seconds)\"]' data-show='true'><div id = 'default' /></div></div>"
      ],
      "text/plain": [
       "<Result 'C:\\\\Users\\\\ethan\\\\Documents\\\\ArcGIS\\\\Projects\\\\GIS5571_Lab2_Part2\\\\GIS5571_Lab2_Part2.gdb\\\\SlopeCost'>"
      ]
     },
     "execution_count": 6,
     "metadata": {},
     "output_type": "execute_result"
    }
   ],
   "source": [
    "# Reclass for Slope Cost Raster\n",
    "\n",
    "arcpy.ddd.Reclassify(\n",
    "    in_raster=\"slope_raster\",\n",
    "    reclass_field=\"VALUE\",\n",
    "    remap=\"0 4 1;4 9 2;9 15 3;15 20 4;20 23 5;23 26 6;26 30 7;30 33 8;33 35 9;35 36 10\",\n",
    "    out_raster=r\"C:\\Users\\ethan\\Documents\\ArcGIS\\Projects\\GIS5571_Lab2_Part2\\GIS5571_Lab2_Part2.gdb\\SlopeCost\",\n",
    "    missing_values=\"DATA\"\n",
    ")"
   ]
  },
  {
   "cell_type": "markdown",
   "metadata": {},
   "source": [
    "### Weighted Cost Path\n",
    "\n",
    "#### Create Weighted Raster Layer with Cost Data\n",
    "Use the cost rasters to create a weighted overlay for determining least cost path."
   ]
  },
  {
   "cell_type": "code",
   "execution_count": 7,
   "metadata": {},
   "outputs": [],
   "source": [
    "# Weighted Overlay\n",
    "# Trial 1 using weights: slope = 50%, water = 30%, and ag = 20%\n",
    "with arcpy.EnvManager(scratchWorkspace=r\"C:\\Users\\ethan\\Documents\\ArcGIS\\Projects\\GIS5571_Lab2_Part2\\GIS5571_Lab2_Part2.gdb\"):\n",
    "    out_raster = arcpy.sa.WeightedOverlay(\n",
    "        in_weighted_overlay_table=r\"('C:\\Users\\ethan\\Documents\\ArcGIS\\Projects\\GIS5571_Lab2_Part2\\GIS5571_Lab2_Part2.gdb\\SlopeCost' 50 'Value' (1 1; 2 2; 3 3; 4 4; 5 5; 6 6; 7 7; 8 8; 9 9; 10 1; 36 1; 37 1; 38 1; 39 1; 40 1; 41 1; 42 1; 43 1; 44 1; 45 1; 46 1; 47 1; 48 1; 49 1; 50 1; 51 1; 52 1; 53 1; 54 1; 55 1; 56 1; 57 1; 58 1; 59 1; 60 1; 61 1; 62 1; 63 1; 64 1; 65 1; 66 1; 67 1; 68 1; 69 1; 70 1; 71 1; 72 1; 73 1; 74 1; 75 1; 76 1; 77 1; 78 1; 79 1; NODATA NODATA); 'C:\\Users\\ethan\\Documents\\ArcGIS\\Projects\\GIS5571_Lab2_Part2\\GIS5571_Lab2_Part2.gdb\\WaterCost' 30 'Value' (1 1; 2 2; 3 3; 6 6; 8 8; NODATA NODATA); 'C:\\Users\\ethan\\Documents\\ArcGIS\\Projects\\GIS5571_Lab2_Part2\\GIS5571_Lab2_Part2.gdb\\AgCost' 20 'Value' (1 1; 4 4; 6 6; 8 8; 10 1; NODATA NODATA));1 9 1\"\n",
    "    )\n",
    "    out_raster.save(r\"C:\\Users\\ethan\\Documents\\ArcGIS\\Projects\\GIS5571_Lab2_Part2\\GIS5571_Lab2_Part2.gdb\\Trail1_Cost\")"
   ]
  },
  {
   "cell_type": "code",
   "execution_count": 8,
   "metadata": {},
   "outputs": [],
   "source": [
    "# Weighted Overlay\n",
    "# Trial 2 using weights: slope = 60%, water = 30%, and ag = 10%\n",
    "with arcpy.EnvManager(scratchWorkspace=r\"C:\\Users\\ethan\\Documents\\ArcGIS\\Projects\\GIS5571_Lab2_Part2\\GIS5571_Lab2_Part2.gdb\"):\n",
    "    out_raster = arcpy.sa.WeightedOverlay(\n",
    "        in_weighted_overlay_table=r\"('C:\\Users\\ethan\\Documents\\ArcGIS\\Projects\\GIS5571_Lab2_Part2\\GIS5571_Lab2_Part2.gdb\\SlopeCost' 60 'Value' (1 1; 2 2; 3 3; 4 4; 5 5; 6 6; 7 7; 8 8; 9 9; 10 1; 36 1; 37 1; 38 1; 39 1; 40 1; 41 1; 42 1; 43 1; 44 1; 45 1; 46 1; 47 1; 48 1; 49 1; 50 1; 51 1; 52 1; 53 1; 54 1; 55 1; 56 1; 57 1; 58 1; 59 1; 60 1; 61 1; 62 1; 63 1; 64 1; 65 1; 66 1; 67 1; 68 1; 69 1; 70 1; 71 1; 72 1; 73 1; 74 1; 75 1; 76 1; 77 1; 78 1; 79 1; NODATA NODATA); 'C:\\Users\\ethan\\Documents\\ArcGIS\\Projects\\GIS5571_Lab2_Part2\\GIS5571_Lab2_Part2.gdb\\WaterCost' 30 'Value' (1 1; 2 2; 3 3; 6 6; 8 8; NODATA NODATA); 'C:\\Users\\ethan\\Documents\\ArcGIS\\Projects\\GIS5571_Lab2_Part2\\GIS5571_Lab2_Part2.gdb\\AgCost' 10 'Value' (1 1; 4 4; 6 6; 8 8; 10 1; NODATA NODATA));1 9 1\"\n",
    "    )\n",
    "    out_raster.save(r\"C:\\Users\\ethan\\Documents\\ArcGIS\\Projects\\GIS5571_Lab2_Part2\\GIS5571_Lab2_Part2.gdb\\Trial2_Cost\")"
   ]
  },
  {
   "cell_type": "code",
   "execution_count": 9,
   "metadata": {},
   "outputs": [],
   "source": [
    "# Weighted Overlay\n",
    "# Trial 3 using weights: slope = 33%, water = 34%, and ag = 33%\n",
    "with arcpy.EnvManager(scratchWorkspace=r\"C:\\Users\\ethan\\Documents\\ArcGIS\\Projects\\GIS5571_Lab2_Part2\\GIS5571_Lab2_Part2.gdb\"):\n",
    "    out_raster = arcpy.sa.WeightedOverlay(\n",
    "        in_weighted_overlay_table=r\"('C:\\Users\\ethan\\Documents\\ArcGIS\\Projects\\GIS5571_Lab2_Part2\\GIS5571_Lab2_Part2.gdb\\SlopeCost' 33 'Value' (1 1; 2 2; 3 3; 4 4; 5 5; 6 6; 7 7; 8 8; 9 9; 10 1; 36 1; 37 1; 38 1; 39 1; 40 1; 41 1; 42 1; 43 1; 44 1; 45 1; 46 1; 47 1; 48 1; 49 1; 50 1; 51 1; 52 1; 53 1; 54 1; 55 1; 56 1; 57 1; 58 1; 59 1; 60 1; 61 1; 62 1; 63 1; 64 1; 65 1; 66 1; 67 1; 68 1; 69 1; 70 1; 71 1; 72 1; 73 1; 74 1; 75 1; 76 1; 77 1; 78 1; 79 1; NODATA NODATA); 'C:\\Users\\ethan\\Documents\\ArcGIS\\Projects\\GIS5571_Lab2_Part2\\GIS5571_Lab2_Part2.gdb\\WaterCost' 34 'Value' (1 1; 2 2; 3 3; 6 6; 8 8; NODATA NODATA); 'C:\\Users\\ethan\\Documents\\ArcGIS\\Projects\\GIS5571_Lab2_Part2\\GIS5571_Lab2_Part2.gdb\\AgCost' 33 'Value' (1 1; 4 4; 6 6; 8 8; 10 1; NODATA NODATA));1 9 1\"\n",
    "    )\n",
    "    out_raster.save(r\"C:\\Users\\ethan\\Documents\\ArcGIS\\Projects\\GIS5571_Lab2_Part2\\GIS5571_Lab2_Part2.gdb\\Trial3_Cost\")"
   ]
  },
  {
   "cell_type": "markdown",
   "metadata": {},
   "source": [
    "#### Least Cost Path Analysis\n",
    "Use the Least Cost Path analysis tool to determine path variations with different weighting schemes applied to the cost layers."
   ]
  },
  {
   "cell_type": "code",
   "execution_count": 10,
   "metadata": {},
   "outputs": [
    {
     "data": {
      "text/html": [
       "<div class='gpresult'><h2>Messages</h2><div id='messages' data-messages='[\"Start Time: Friday, October 25, 2024 2:37:14 PM\",\"1 start points, 1 ending points.\",\"Converting zeros to small positive (1e-07)...\",\"Finding path(s) for start point ID 1:\",\"Writing output lines...\",\"Copying output start/end points...\",\"Deleting intermedate datasets...\",\"Succeeded at Friday, October 25, 2024 2:37:39 PM (Elapsed Time: 24.34 seconds)\"]' data-show='true'><div id = 'default' /></div></div>"
      ],
      "text/plain": [
       "<Result 'C:\\\\Users\\\\ethan\\\\Documents\\\\ArcGIS\\\\Projects\\\\GIS5571_Lab2_Part2\\\\GIS5571_Lab2_Part2.gdb\\\\Trial1_LeastCostPath'>"
      ]
     },
     "execution_count": 10,
     "metadata": {},
     "output_type": "execute_result"
    }
   ],
   "source": [
    "#Trial 1 Least Cost Path\n",
    "\n",
    "arcpy.intelligence.LeastCostPath(\n",
    "    in_cost_surface=\"Trial1\",\n",
    "    in_start_point=\"Least Cost Path Input Starting Point (Points)\",\n",
    "    in_end_point=\"Least Cost Path Input Ending Point (Points)\",\n",
    "    out_path_feature_class=r\"C:\\Users\\ethan\\Documents\\ArcGIS\\Projects\\GIS5571_Lab2_Part2\\GIS5571_Lab2_Part2.gdb\\Trial1_LeastCostPath\",\n",
    "    handle_zeros=\"SMALL_POSITIVE\"\n",
    ")"
   ]
  },
  {
   "cell_type": "code",
   "execution_count": 11,
   "metadata": {},
   "outputs": [
    {
     "data": {
      "text/html": [
       "<div class='gpresult'><h2>Messages</h2><div id='messages' data-messages='[\"Start Time: Friday, October 25, 2024 2:37:55 PM\",\"1 start points, 1 ending points.\",\"Converting zeros to small positive (1e-07)...\",\"Finding path(s) for start point ID 1:\",\"Writing output lines...\",\"Copying output start/end points...\",\"Deleting intermedate datasets...\",\"Succeeded at Friday, October 25, 2024 2:38:17 PM (Elapsed Time: 22.71 seconds)\"]' data-show='true'><div id = 'default' /></div></div>"
      ],
      "text/plain": [
       "<Result 'C:\\\\Users\\\\ethan\\\\Documents\\\\ArcGIS\\\\Projects\\\\GIS5571_Lab2_Part2\\\\GIS5571_Lab2_Part2.gdb\\\\Trial2_LeastCostPath'>"
      ]
     },
     "execution_count": 11,
     "metadata": {},
     "output_type": "execute_result"
    }
   ],
   "source": [
    "#Trial 2 Least Cost Path\n",
    "\n",
    "arcpy.intelligence.LeastCostPath(\n",
    "    in_cost_surface=\"Trial2\",\n",
    "    in_start_point=\"Least Cost Path Input Starting Point (Points)\",\n",
    "    in_end_point=\"Least Cost Path Input Ending Point (Points)\",\n",
    "    out_path_feature_class=r\"C:\\Users\\ethan\\Documents\\ArcGIS\\Projects\\GIS5571_Lab2_Part2\\GIS5571_Lab2_Part2.gdb\\Trial2_LeastCostPath\",\n",
    "    handle_zeros=\"SMALL_POSITIVE\"\n",
    ")"
   ]
  },
  {
   "cell_type": "code",
   "execution_count": 12,
   "metadata": {},
   "outputs": [
    {
     "data": {
      "text/html": [
       "<div class='gpresult'><h2>Messages</h2><div id='messages' data-messages='[\"Start Time: Friday, October 25, 2024 2:38:18 PM\",\"1 start points, 1 ending points.\",\"Converting zeros to small positive (1e-07)...\",\"Finding path(s) for start point ID 1:\",\"Writing output lines...\",\"Copying output start/end points...\",\"Deleting intermedate datasets...\",\"Succeeded at Friday, October 25, 2024 2:39:12 PM (Elapsed Time: 53.39 seconds)\"]' data-show='true'><div id = 'default' /></div></div>"
      ],
      "text/plain": [
       "<Result 'C:\\\\Users\\\\ethan\\\\Documents\\\\ArcGIS\\\\Projects\\\\GIS5571_Lab2_Part2\\\\GIS5571_Lab2_Part2.gdb\\\\Trial3_LeastCostPath'>"
      ]
     },
     "execution_count": 12,
     "metadata": {},
     "output_type": "execute_result"
    }
   ],
   "source": [
    "#Trial 3 Least Cost Path\n",
    "\n",
    "arcpy.intelligence.LeastCostPath(\n",
    "    in_cost_surface=\"Trial3\",\n",
    "    in_start_point=\"Least Cost Path Input Starting Point (Points)\",\n",
    "    in_end_point=\"Least Cost Path Input Ending Point (Points)\",\n",
    "    out_path_feature_class=r\"C:\\Users\\ethan\\Documents\\ArcGIS\\Projects\\GIS5571_Lab2_Part2\\GIS5571_Lab2_Part2.gdb\\Trial3_LeastCostPath\",\n",
    "    handle_zeros=\"SMALL_POSITIVE\"\n",
    ")"
   ]
  }
 ],
 "metadata": {
  "kernelspec": {
   "display_name": "ArcGISPro",
   "language": "Python",
   "name": "python3"
  },
  "language_info": {
   "file_extension": ".py",
   "name": "python",
   "version": "3"
  }
 },
 "nbformat": 4,
 "nbformat_minor": 2
}
