{
 "cells": [
  {
   "cell_type": "code",
   "execution_count": 39,
   "metadata": {},
   "outputs": [],
   "source": [
    "import io\n",
    "import os\n",
    "import sys\n",
    "import arcpy\n",
    "import laspy\n",
    "from zipfile import ZipFile\n",
    "import zipfile\n",
    "import pandas as pd\n",
    "import requests\n",
    "import ftplib\n",
    "from bs4 import BeautifulSoup as bs\n",
    "import datetime\n",
    "from arcgis.features import GeoAccessor, GeoSeriesAccessor, FeatureCollection, FeatureSet"
   ]
  },
  {
   "cell_type": "code",
   "execution_count": 2,
   "metadata": {},
   "outputs": [
    {
     "name": "stdout",
     "output_type": "stream",
     "text": [
      "Data saved successfully to C:\\Users\\ethan\\Desktop\\ARLT_MGIS\\GIS5571\\Lab2\\bil_files\\prism_data.zip\n",
      "Data extracted successfully to C:\\Users\\ethan\\Desktop\\ARLT_MGIS\\GIS5571\\Lab2\\bil_files\n"
     ]
    }
   ],
   "source": [
    "# Directory where the .bil files will be saved\n",
    "save_folder = r\"C:\\Users\\ethan\\Desktop\\ARLT_MGIS\\GIS5571\\Lab2\\bil_files\"\n",
    "os.makedirs(save_folder, exist_ok=True)  # Create the folder if it doesn't exist\n",
    "\n",
    "# URL to download PRISM data\n",
    "url = \"https://ftp.prism.oregonstate.edu/normals/monthly/4km/ppt/PRISM_ppt_30yr_normal_4kmM4_all_bil.zip\"\n",
    "\n",
    "# Fetch the data\n",
    "response = requests.get(url)\n",
    "\n",
    "# Specify the output file name\n",
    "output_zip_file = os.path.join(save_folder, \"prism_data.zip\")\n",
    "\n",
    "# Save the file\n",
    "with open(output_zip_file, 'wb') as file:\n",
    "    file.write(response.content)\n",
    "\n",
    "print(f\"Data saved successfully to {output_zip_file}\")\n",
    "\n",
    "# Unzip the file using Python's zipfile module\n",
    "with zipfile.ZipFile(output_zip_file, 'r') as zip_ref:\n",
    "    zip_ref.extractall(save_folder)\n",
    "\n",
    "print(f\"Data extracted successfully to {save_folder}\")"
   ]
  },
  {
   "cell_type": "code",
   "execution_count": 44,
   "metadata": {},
   "outputs": [
    {
     "name": "stdout",
     "output_type": "stream",
     "text": [
      "Mosaic dataset 'Lab2_Mosaic' created successfully in C:\\Users\\ethan\\Documents\\ArcGIS\\Projects\\GIS5571_Lab2\\mosaic_lab2.gdb\n"
     ]
    }
   ],
   "source": [
    "# Define the geodatabase path, mosaic dataset name, and spatial reference (EPSG 4269 - NAD83)\n",
    "arcpy.management.CreateMosaicDataset(\n",
    "    in_workspace=r\"C:\\Users\\ethan\\Documents\\ArcGIS\\Projects\\GIS5571_Lab2\\mosaic_lab2.gdb\",\n",
    "    in_mosaicdataset_name=\"Lab2_MosaicDS\",\n",
    "    coordinate_system='GEOGCS[\"GCS_North_American_1983\",DATUM[\"D_North_American_1983\",SPHEROID[\"GRS_1980\",6378137.0,298.257222101]],PRIMEM[\"Greenwich\",0.0],UNIT[\"Degree\",0.0174532925199433]]',\n",
    "    num_bands=None,\n",
    "    pixel_type=\"\",\n",
    "    product_definition=\"NONE\",\n",
    "    product_band_definitions=None\n",
    ")\n",
    "\n",
    "print(f\"Mosaic dataset '{mosaic_name}' created successfully in {gdb_path}\")"
   ]
  },
  {
   "cell_type": "code",
   "execution_count": 47,
   "metadata": {
    "scrolled": true
   },
   "outputs": [
    {
     "data": {
      "text/html": [
       "<div class='gpresult'><h2>Messages</h2><div id='messages' data-messages='[\"Start Time: Wednesday, October 16, 2024 10:30:25 AM\",\"2024-10-16T10:30:26.492: Loading raster datasets\",\"2024-10-16T10:30:26.533: Completed crawling 13 data source items. Added 13 mosaic dataset items.\",\"2024-10-16T10:30:26.534: Synchronizing crawled data source items\",\"2024-10-16T10:30:26.541: Synchronizing items associated with raster type instance &#39;Raster Dataset&#39; [ID: 1].\",\"2024-10-16T10:30:26.646: Estimating raster statistics for mosaic dataset.\",\"2024-10-16T10:30:26.685: Completed synchronization: 13 items selected, 13 items synchronized.\",\"2024-10-16T10:30:26.781: Computing cell size levels\",\"2024-10-16T10:30:26.781: Computing unique cell size values\",\"2024-10-16T10:30:26.811: Computing maximum cell size values\",\"2024-10-16T10:30:26.812: Computing minimum cell size values\",\"2024-10-16T10:30:26.814: Updating visibility values of selected items\",\"2024-10-16T10:30:26.822: Computing maximum cell size for mosaic dataset\",\"2024-10-16T10:30:26.827: Completed computing cell size ranges.\",\"2024-10-16T10:30:26.852: Completed building boundary.\",\"Succeeded at Wednesday, October 16, 2024 10:30:28 AM (Elapsed Time: 2.13 seconds)\"]' data-show='true'><div id = 'default' /></div></div>"
      ],
      "text/plain": [
       "<Result 'Lab2_MosaicDS'>"
      ]
     },
     "execution_count": 47,
     "metadata": {},
     "output_type": "execute_result"
    }
   ],
   "source": [
    "#Add the .bil datasets to the Created Mosaic Dataset in the geodatabase\n",
    "arcpy.management.AddRastersToMosaicDataset(\n",
    "    in_mosaic_dataset=\"Lab2_MosaicDS\",\n",
    "    raster_type=\"Raster Dataset\",\n",
    "    input_path=r\"C:\\Users\\ethan\\Desktop\\ARLT_MGIS\\GIS5571\\Lab2\\bil_files\",\n",
    "    update_cellsize_ranges=\"UPDATE_CELL_SIZES\",\n",
    "    update_boundary=\"UPDATE_BOUNDARY\",\n",
    "    update_overviews=\"NO_OVERVIEWS\",\n",
    "    maximum_pyramid_levels=None,\n",
    "    maximum_cell_size=0,\n",
    "    minimum_dimension=1500,\n",
    "    spatial_reference=4269,\n",
    "    filter=\"*.bil\",\n",
    "    sub_folder=\"SUBFOLDERS\",\n",
    "    duplicate_items_action=\"ALLOW_DUPLICATES\",\n",
    "    build_pyramids=\"NO_PYRAMIDS\",\n",
    "    calculate_statistics=\"NO_STATISTICS\",\n",
    "    build_thumbnails=\"NO_THUMBNAILS\",\n",
    "    operation_description=\"\",\n",
    "    force_spatial_reference=\"NO_FORCE_SPATIAL_REFERENCE\",\n",
    "    estimate_statistics=\"ESTIMATE_STATISTICS\",\n",
    "    aux_inputs=None,\n",
    "    enable_pixel_cache=\"NO_PIXEL_CACHE\",\n",
    "    cache_location=r\"C:\\Users\\ethan\\AppData\\Local\\ESRI\\rasterproxies\\Lab2_MosaicDS\"\n",
    ")"
   ]
  },
  {
   "cell_type": "code",
   "execution_count": 48,
   "metadata": {},
   "outputs": [
    {
     "data": {
      "text/html": [
       "<div class='gpresult'><h2>Messages</h2><div id='messages' data-messages='[\"Start Time: Wednesday, October 16, 2024 10:30:37 AM\",\"Succeeded at Wednesday, October 16, 2024 10:30:37 AM (Elapsed Time: 0.29 seconds)\"]' data-show='true'><div id = 'default' /></div></div>"
      ],
      "text/plain": [
       "<Result 'Lab2_MosaicDS\\\\Footprint'>"
      ]
     },
     "execution_count": 48,
     "metadata": {},
     "output_type": "execute_result"
    }
   ],
   "source": [
    "arcpy.management.CalculateField(\n",
    "    in_table=r\"Lab2_MosaicDS\\Footprint\",\n",
    "    field=\"Variable\",\n",
    "    expression='\"30yr Normal\"',\n",
    "    expression_type=\"PYTHON3\",\n",
    "    code_block=\"\",\n",
    "    field_type=\"TEXT\",\n",
    "    enforce_domains=\"NO_ENFORCE_DOMAINS\"\n",
    ")"
   ]
  },
  {
   "cell_type": "code",
   "execution_count": 49,
   "metadata": {
    "scrolled": true
   },
   "outputs": [
    {
     "data": {
      "text/html": [
       "<div class='gpresult'><h2>Messages</h2><div id='messages' data-messages='[\"Start Time: Wednesday, October 16, 2024 10:30:42 AM\",\"Succeeded at Wednesday, October 16, 2024 10:30:42 AM (Elapsed Time: 0.18 seconds)\"]' data-show='true'><div id = 'default' /></div></div>"
      ],
      "text/plain": [
       "<Result 'Lab2_MosaicDS\\\\Footprint'>"
      ]
     },
     "execution_count": 49,
     "metadata": {},
     "output_type": "execute_result"
    }
   ],
   "source": [
    "arcpy.management.CalculateField(\n",
    "    in_table=r\"Lab2_MosaicDS\\Footprint\",\n",
    "    field=\"Timestamp\",\n",
    "    expression=\"datetime.datetime(2023, int(!Name![-6:-4]), 1) if !Name![-6:-4].isdigit() else None\",\n",
    "    expression_type=\"PYTHON3\",\n",
    "    code_block=\"import datetime\",\n",
    "    field_type=\"DATE\",\n",
    "    enforce_domains=\"NO_ENFORCE_DOMAINS\"\n",
    ")"
   ]
  },
  {
   "cell_type": "code",
   "execution_count": 50,
   "metadata": {},
   "outputs": [
    {
     "data": {
      "text/html": [
       "<div class='gpresult'><h2>Messages</h2><div id='messages' data-messages='[\"Start Time: Wednesday, October 16, 2024 10:32:13 AM\",\"Succeeded at Wednesday, October 16, 2024 10:32:16 AM (Elapsed Time: 2.36 seconds)\"]' data-show='true'><div id = 'default' /></div></div>"
      ],
      "text/plain": [
       "<Result 'Lab2_MosaicDS'>"
      ]
     },
     "execution_count": 50,
     "metadata": {},
     "output_type": "execute_result"
    }
   ],
   "source": [
    "arcpy.management.BuildMultidimensionalInfo(\n",
    "    in_mosaic_dataset=\"Lab2_MosaicDS\",\n",
    "    variable_field=\"Variable\",\n",
    "    dimension_fields=\"Timestamp # #\",\n",
    "    variable_desc_units=None,\n",
    "    delete_multidimensional_info=\"NO_DELETE_MULTIDIMENSIONAL_INFO\"\n",
    ")"
   ]
  },
  {
   "cell_type": "code",
   "execution_count": 51,
   "metadata": {},
   "outputs": [
    {
     "data": {
      "text/html": [
       "<div class='gpresult'><h2>Messages</h2><div id='messages' data-messages='[\"Start Time: Wednesday, October 16, 2024 10:33:08 AM\",\"Succeeded at Wednesday, October 16, 2024 10:33:10 AM (Elapsed Time: 1.68 seconds)\"]' data-show='true'><div id = 'default' /></div></div>"
      ],
      "text/plain": [
       "<Result 'Lab2_MosaicDS_MultidimLayer'>"
      ]
     },
     "execution_count": 51,
     "metadata": {},
     "output_type": "execute_result"
    }
   ],
   "source": [
    "#Make multidimensional raster layer\n",
    "arcpy.md.MakeMultidimensionalRasterLayer(\n",
    "    in_multidimensional_raster=\"Lab2_MosaicDS\",\n",
    "    out_multidimensional_raster_layer=\"Lab2_MosaicDS_MultidimLayer\",\n",
    "    variables=\"'30yr Normal'\",\n",
    "    dimension_def=\"ALL\",\n",
    "    dimension_ranges=None,\n",
    "    dimension_values=None,\n",
    "    dimension=\"\",\n",
    "    start_of_first_iteration=\"\",\n",
    "    end_of_first_iteration=\"\",\n",
    "    iteration_step=None,\n",
    "    iteration_unit=\"\",\n",
    "    template='-125.020833333333 24.0624999997935 -66.4791666661985 49.9375000000005 GEOGCS[\"GCS_North_American_1983\",DATUM[\"D_North_American_1983\",SPHEROID[\"GRS_1980\",6378137.0,298.257222101]],PRIMEM[\"Greenwich\",0.0],UNIT[\"Degree\",0.0174532925199433]]',\n",
    "    dimensionless=\"DIMENSIONS\",\n",
    "    spatial_reference=None\n",
    ")"
   ]
  },
  {
   "cell_type": "code",
   "execution_count": 52,
   "metadata": {
    "scrolled": true
   },
   "outputs": [
    {
     "data": {
      "text/html": [
       "<div class='gpresult'><h2>Messages</h2><div id='messages' data-messages='[\"Start Time: Wednesday, October 16, 2024 10:34:37 AM\",\"WARNING 110290: This tool requires projected data to accurately measure distances.  The Input Multidimensional Raster Layer will be projected to the WGS 1984 World Equidistant Cylindrical projection (WKID 4087).\",\"WARNING 110013: The default Time Step Interval is 1 month.\",\"WARNING 110067: Your spatial reference is not compatible with CF Conventions.  You may experience difficulties using the resulting space-time cube with other NetCDF tools and software.\",[{\"element\":\"table\",\"data\":[[{\"data\":\"Input feature time extent\",\"prop\":{\"rowspan\":2}},\"2023-01-01 00:00:00\"],[{\"data\":\"to 2023-12-01 00:00:00\",\"prop\":{\"text-align\":\"right\"}}],[\"\",\"\"],[\"Number of time steps\",\"12\"],[\"Time step interval\",\"1 month\"],[\"Time step alignment\",\"End\"],[\"\",\"\"],[\"First time step temporal bias\",\"100.00%\"],[{\"data\":\"First time step interval\",\"prop\":{\"rowspan\":4}},\"after\"],[{\"data\":\"2022-12-01 00:00:00\",\"prop\":{\"text-align\":\"right\"}}],[{\"data\":\"to on or before\",\"prop\":{\"text-align\":\"right\"}}],[{\"data\":\"2023-01-01 00:00:00\",\"prop\":{\"text-align\":\"right\"}}],[\"\",\"\"],[\"Last time step temporal bias\",\"0.00%\"],[{\"data\":\"Last time step interval\",\"prop\":{\"rowspan\":4}},\"after\"],[{\"data\":\"2023-11-01 00:00:00\",\"prop\":{\"text-align\":\"right\"}}],[{\"data\":\"to on or before\",\"prop\":{\"text-align\":\"right\"}}],[{\"data\":\"2023-12-01 00:00:00\",\"prop\":{\"text-align\":\"right\"}}],[\"\",\"\"],[\"Coordinate System\",\"WGS 1984 World Equidistant Cylindrical\"],[\"Cube extent across space\",\"(coordinates in meters)\"],[\"Min X\",\"-13894065.6611\"],[\"Min Y\",\"2708362.4448\"],[\"Max X\",\"-7451448.3421\"],[\"Max Y\",\"5478284.6852\"]],\"elementProps\":{\"striped\":\"true\",\"noHeader\":true,\"title\":\"Space Time Cube Characteristics\",\"0\":{\"align\":\"left\",\"pad\":\"0px\",\"wrap\":true},\"1\":{\"align\":\"right\",\"pad\":\"0px\",\"wrap\":true}}}],[{\"element\":\"table\",\"data\":[[\"Locations\",\"481631\"],[\"Total observations\",\"5779572\"]],\"elementProps\":{\"striped\":\"true\",\"noHeader\":true,\"0\":{\"align\":\"left\",\"pad\":\"0px\",\"wrap\":true},\"1\":{\"align\":\"right\",\"pad\":\"0px\",\"wrap\":true}}}],[{\"element\":\"table\",\"data\":[[\"Trend direction\",\"Not Significant\"],[\"Trend statistic\",\"0.0000\"],[\"Trend p-value\",\"1.0000\"]],\"elementProps\":{\"striped\":\"true\",\"noHeader\":true,\"title\":\"Overall Data Trend - 30YR_NORMAL_NONE_ZEROS\",\"0\":{\"align\":\"left\",\"pad\":\"0px\",\"wrap\":true},\"1\":{\"align\":\"right\",\"pad\":\"0px\",\"wrap\":true}}}],\"Succeeded at Wednesday, October 16, 2024 10:44:52 AM (Elapsed Time: 10 minutes 14 seconds)\"]' data-show='true'><div id = 'default' /></div></div>"
      ],
      "text/plain": [
       "<Result 'C:\\\\Users\\\\ethan\\\\Desktop\\\\ARLT_MGIS\\\\GIS5571\\\\Lab2\\\\STCube\\\\STCube.nc'>"
      ]
     },
     "execution_count": 52,
     "metadata": {},
     "output_type": "execute_result"
    }
   ],
   "source": [
    "# Create Space-Time Cube from Multidimensional Rastser\n",
    "arcpy.stpm.CreateSpaceTimeCubeMDRasterLayer(\n",
    "    in_md_raster=\"Lab2_MosaicDS_MultidimLayer\",\n",
    "    output_cube=r\"C:\\Users\\ethan\\Desktop\\ARLT_MGIS\\GIS5571\\Lab2\\STCube\\STCube.nc\",\n",
    "    fill_empty_bins=\"ZEROS\"\n",
    ")"
   ]
  },
  {
   "cell_type": "code",
   "execution_count": 55,
   "metadata": {
    "scrolled": true
   },
   "outputs": [
    {
     "ename": "AttributeError",
     "evalue": "module 'arcpy.mp' has no attribute 'ExportAnimation'",
     "output_type": "error",
     "traceback": [
      "\u001b[0;31m---------------------------------------------------------------------------\u001b[0m\n\u001b[0;31mAttributeError\u001b[0m                            Traceback (most recent call last)",
      "In  \u001b[0;34m[55]\u001b[0m:\nLine \u001b[0;34m8\u001b[0m:     arcpy.mp.ExportAnimation(\u001b[37m\u001b[39;49;00m\n",
      "\u001b[0;31mAttributeError\u001b[0m: module 'arcpy.mp' has no attribute 'ExportAnimation'\n\u001b[0;31m---------------------------------------------------------------------------\u001b[0m"
     ]
    }
   ],
   "source": [
    "# Set up the output path for the animation\n",
    "output_animation_path = r\"C:\\Users\\ethan\\Desktop\\ARLT_MGIS\\GIS5571\\Lab2\\STCube\\PPT_30Norms.avi\"  # Specify your output format and path\n",
    "\n",
    "# Define the view to export (usually the active view in the project)\n",
    "active_view = aprx.activeView\n",
    "\n",
    "# Export animation settings\n",
    "arcpy.mp.ExportAnimation(\n",
    "    in_view=active_view,\n",
    "    out_file=output_animation_path,\n",
    "    export_type=\"MP4\",  \n",
    "    resolution=\"1280x720\"  # Set the desired resolution\n",
    ")\n",
    "\n",
    "print(f\"Animation exported successfully to: {output_animation_path}\")"
   ]
  },
  {
   "cell_type": "code",
   "execution_count": null,
   "metadata": {},
   "outputs": [],
   "source": []
  }
 ],
 "metadata": {
  "kernelspec": {
   "display_name": "ArcGISPro",
   "language": "Python",
   "name": "python3"
  },
  "language_info": {
   "file_extension": ".py",
   "name": "python",
   "version": "3"
  }
 },
 "nbformat": 4,
 "nbformat_minor": 2
}
