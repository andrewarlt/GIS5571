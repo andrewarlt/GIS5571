{
 "cells": [
  {
   "cell_type": "markdown",
   "metadata": {},
   "source": [
    "## Welcome to your notebook.\n"
   ]
  },
  {
   "cell_type": "markdown",
   "metadata": {},
   "source": [
    "#### Run this cell to connect to your GIS and get started:"
   ]
  },
  {
   "cell_type": "code",
   "execution_count": 1,
   "metadata": {},
   "outputs": [
    {
     "name": "stderr",
     "output_type": "stream",
     "text": [
      "/opt/conda/lib/python3.11/site-packages/arcgis/gis/__init__.py:731: UserWarning: You are logged on as arltx014_UMN with an administrator role, proceed with caution.\n",
      "  warnings.warn(\n"
     ]
    }
   ],
   "source": [
    "from arcgis.gis import GIS\n",
    "from arcgis.features.use_proximity import create_buffers\n",
    "gis = GIS(\"home\")"
   ]
  },
  {
   "cell_type": "markdown",
   "metadata": {},
   "source": [
    "#### Now you are ready to start!"
   ]
  },
  {
   "cell_type": "code",
   "execution_count": 2,
   "metadata": {},
   "outputs": [
    {
     "data": {
      "text/html": [
       "<div class=\"item_container\" style=\"height: auto; overflow: hidden; border: 1px solid #cfcfcf; border-radius: 2px; background: #f6fafa; line-height: 1.21429em; padding: 10px;\">\n",
       "                    <div class=\"item_left\" style=\"width: 210px; float: left;\">\n",
       "                       <a href='https://www.arcgis.com/home/item.html?id=d2cd5e3ba87b4393a36db4d0c64cd8f8' target='_blank'>\n",
       "                        <img src='data:image/png;base64,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' width='200' height='133' class=\"itemThumbnail\">\n",
       "                       </a>\n",
       "                    </div>\n",
       "\n",
       "                    <div class=\"item_right\"     style=\"float: none; width: auto; overflow: hidden;\">\n",
       "                        <a href='https://www.arcgis.com/home/item.html?id=d2cd5e3ba87b4393a36db4d0c64cd8f8' target='_blank'><b>SteeleCountyRoads</b>\n",
       "                        </a>\n",
       "                        <br/>Data developed for E911 emergency services<img src='https://www.arcgis.com/home/js/jsapi/esri/css/images/item_type_icons/featureshosted16.png' style=\"vertical-align:middle;\" width=16 height=16>Feature Layer Collection by arltx014_UMN\n",
       "                        <br/>Last Modified: September 10, 2024\n",
       "                        <br/>0 comments, 25 views\n",
       "                    </div>\n",
       "                </div>\n",
       "                "
      ],
      "text/plain": [
       "<Item title:\"SteeleCountyRoads\" type:Feature Layer Collection owner:arltx014_UMN>"
      ]
     },
     "execution_count": 2,
     "metadata": {},
     "output_type": "execute_result"
    }
   ],
   "source": [
    "# Item Added From Toolbar\n",
    "# Title: SteeleCountyRoads | Type: Feature Service | Owner: arltx014_UMN\n",
    "item = gis.content.get(\"d2cd5e3ba87b4393a36db4d0c64cd8f8\")\n",
    "item"
   ]
  },
  {
   "cell_type": "code",
   "execution_count": null,
   "metadata": {},
   "outputs": [],
   "source": [
    "from arcgis import features\n",
    "roads_buffer = features.use_proximity.create_buffers(\n",
    "    item, [20], units=\"Meters\")"
   ]
  },
  {
   "cell_type": "code",
   "execution_count": null,
   "metadata": {},
   "outputs": [],
   "source": [
    "map_MN = gis.map(\"Owatonna\")\n",
    "map_MN.add_layer(roads_buffer)\n",
    "map_MN"
   ]
  },
  {
   "cell_type": "code",
   "execution_count": null,
   "metadata": {},
   "outputs": [],
   "source": []
  }
 ],
 "metadata": {
  "esriNotebookRuntime": {
   "notebookRuntimeName": "ArcGIS Notebook Python 3 Standard",
   "notebookRuntimeVersion": "10.0"
  },
  "kernelspec": {
   "display_name": "Python 3 (ipykernel)",
   "language": "python",
   "name": "python3"
  },
  "language_info": {
   "codemirror_mode": {
    "name": "ipython",
    "version": 3
   },
   "file_extension": ".py",
   "mimetype": "text/x-python",
   "name": "python",
   "nbconvert_exporter": "python",
   "pygments_lexer": "ipython3",
   "version": "3.11.8"
  }
 },
 "nbformat": 4,
 "nbformat_minor": 2
}
