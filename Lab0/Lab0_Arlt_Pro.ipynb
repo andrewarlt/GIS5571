{
 "cells": [
  {
   "cell_type": "code",
   "execution_count": 2,
   "metadata": {},
   "outputs": [
    {
     "name": "stdout",
     "output_type": "stream",
     "text": [
      "Buffer successful.\n"
     ]
    }
   ],
   "source": [
    "# Import libraries\n",
    "import arcpy\n",
    "\n",
    "# Set the workspace\n",
    "arcpy.env.workspace = r\"C:\\Users\\ethan\\Desktop\\GIS5571\\Lab0\\SteeleCty_Roads\"\n",
    "\n",
    "# Layer Parameters\n",
    "input_roads = r\"C:\\Users\\ethan\\Desktop\\GIS5571\\Lab0\\SteeleCty_Roads\\SteeleCountyRoads.shp\"\n",
    "output_buffer = \"roads_buffer.shp\"\n",
    "buffer_distance = \"20 Meters\"\n",
    "\n",
    "# Buffer analysis\n",
    "arcpy.Buffer_analysis(input_roads, output_buffer, buffer_distance)\n",
    "\n",
    "print(\"Buffer successful.\")"
   ]
  },
  {
   "cell_type": "code",
   "execution_count": null,
   "metadata": {},
   "outputs": [],
   "source": []
  }
 ],
 "metadata": {
  "kernelspec": {
   "display_name": "ArcGISPro",
   "language": "Python",
   "name": "python3"
  },
  "language_info": {
   "file_extension": ".py",
   "name": "python",
   "version": "3"
  }
 },
 "nbformat": 4,
 "nbformat_minor": 2
}
